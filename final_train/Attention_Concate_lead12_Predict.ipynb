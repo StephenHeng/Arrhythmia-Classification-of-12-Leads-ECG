{
 "cells": [
  {
   "cell_type": "code",
   "execution_count": 1,
   "metadata": {
    "collapsed": false
   },
   "outputs": [
    {
     "name": "stderr",
     "output_type": "stream",
     "text": [
      "Using TensorFlow backend.\n"
     ]
    },
    {
     "name": "stdout",
     "output_type": "stream",
     "text": [
      "train_index shape : (7703,)\n",
      "0\n",
      "2000\n",
      "4000\n",
      "6000\n",
      "0\n",
      "2000\n",
      "4000\n",
      "6000\n",
      "0\n",
      "2000\n",
      "4000\n",
      "6000\n",
      "0\n",
      "2000\n",
      "4000\n",
      "6000\n",
      "0\n",
      "2000\n",
      "4000\n",
      "6000\n",
      "0\n",
      "2000\n",
      "4000\n",
      "6000\n",
      "0\n",
      "2000\n",
      "4000\n",
      "6000\n",
      "0\n",
      "2000\n",
      "4000\n",
      "6000\n",
      "0\n",
      "2000\n",
      "4000\n",
      "6000\n",
      "0\n",
      "2000\n",
      "4000\n",
      "6000\n",
      "0\n",
      "0\n",
      "0\n",
      "0\n",
      "0\n",
      "0\n",
      "0\n",
      "0\n",
      "0\n",
      "0\n"
     ]
    }
   ],
   "source": [
    "from tqdm import tqdm\n",
    "import numpy as np\n",
    "import pandas as pd\n",
    "#from utils import extract_basic_features\n",
    "\n",
    "#import wfdb\n",
    "import os\n",
    "#import wfdb.processing as wp\n",
    "import matplotlib.pyplot as plt\n",
    "from scipy import signal\n",
    "#from utils import find_noise_features, extract_basic_features\n",
    "import shutil\n",
    "import gc\n",
    "import time\n",
    "import random as rn\n",
    "#from lightgbm import LGBMClassifier\n",
    "from scipy import sparse\n",
    "from sklearn.metrics import f1_score\n",
    "from sklearn.model_selection import KFold,StratifiedKFold\n",
    "#from xgboost import XGBClassifier\n",
    "\n",
    "import warnings\n",
    "import scipy.io as sio\n",
    "\n",
    "#from resnet_ecg.utils import one_hot,get_batches\n",
    "from resnet_ecg.ecg_preprocess import ecg_preprocessing\n",
    "\n",
    "\n",
    "from keras.utils import to_categorical\n",
    "from keras.optimizers import SGD,Adam\n",
    "from keras.callbacks import ModelCheckpoint, LearningRateScheduler,EarlyStopping,ReduceLROnPlateau\n",
    "import tensorflow as tf\n",
    "import keras.backend.tensorflow_backend as KTF\n",
    "\n",
    "\n",
    "path = '/media/jdcloud/'\n",
    "\n",
    "warnings.filterwarnings(\"ignore\")\n",
    "\n",
    "config = tf.ConfigProto(intra_op_parallelism_threads=1,inter_op_parallelism_threads=1)\n",
    "config.gpu_options.per_process_gpu_memory_fraction = 0.8\n",
    "session = tf.Session(config=config)\n",
    "KTF.set_session(session )\n",
    "\n",
    "os.environ['PYTHONHASHSEED'] = '0'\n",
    "np.random.seed(42)\n",
    "rn.seed(12345)\n",
    "tf.set_random_seed(1234)\n",
    "\n",
    "class Config(object):\n",
    "    def __init__(self):\n",
    "        self.conv_subsample_lengths = [1, 2, 1, 2, 1, 2, 1, 2]\n",
    "        self.conv_filter_length = 32\n",
    "        self.conv_num_filters_start = 12\n",
    "        self.conv_init = \"he_normal\"\n",
    "        self.conv_activation = \"relu\"\n",
    "        self.conv_dropout = 0.5\n",
    "        self.conv_num_skip = 2\n",
    "        self.conv_increase_channels_at = 2\n",
    "        self.batch_size = 32#128\n",
    "        self.input_shape = [2560, 12]#[1280, 1]\n",
    "        self.num_categories = 2\n",
    "\n",
    "    @staticmethod\n",
    "    def lr_schedule(epoch):\n",
    "        lr = 0.1\n",
    "        if epoch >= 10 and epoch < 20:\n",
    "            lr = 0.01\n",
    "        if epoch >= 20:\n",
    "            lr = 0.001\n",
    "        print('Learning rate: ', lr)\n",
    "        return lr\n",
    "\n",
    "\n",
    "import keras.backend as K\n",
    "\n",
    "\n",
    "def precision(y_true, y_pred):\n",
    "    # Calculates the precision\n",
    "    true_positives = K.sum(K.round(K.clip(y_true * y_pred, 0, 1)))\n",
    "    predicted_positives = K.sum(K.round(K.clip(y_pred, 0, 1)))\n",
    "    precision = true_positives / (predicted_positives + K.epsilon())\n",
    "    return precision\n",
    "\n",
    "\n",
    "def recall(y_true, y_pred):\n",
    "    # Calculates the recall\n",
    "    true_positives = K.sum(K.round(K.clip(y_true * y_pred, 0, 1)))\n",
    "    possible_positives = K.sum(K.round(K.clip(y_true, 0, 1)))\n",
    "    recall = true_positives / (possible_positives + K.epsilon())\n",
    "    return recall\n",
    "\n",
    "\n",
    "def fbeta_score(y_true, y_pred, beta=1):\n",
    "    # Calculates the F score, the weighted harmonic mean of precision and recall.\n",
    "    if beta < 0:\n",
    "        raise ValueError('The lowest choosable beta is zero (only precision).')\n",
    "\n",
    "    # If there are no true positives, fix the F score at 0 like sklearn.\n",
    "    if K.sum(K.round(K.clip(y_true, 0, 1))) == 0:\n",
    "        return 0\n",
    "\n",
    "    p = precision(y_true, y_pred)\n",
    "    r = recall(y_true, y_pred)\n",
    "    bb = beta ** 2\n",
    "    fbeta_score = (1 + bb) * (p * r) / (bb * p + r + K.epsilon())\n",
    "    return fbeta_score\n",
    "\n",
    "\n",
    "def fmeasure(y_true, y_pred):\n",
    "    # Calculates the f-measure, the harmonic mean of precision and recall.\n",
    "    return fbeta_score(y_true, y_pred, beta=1)\n",
    "\n",
    "\n",
    "\n",
    "def read_data_seg(data_path, split=\"Train\", preprocess=False, fs=500, newFs=256, winSecond=10, winNum=10, n_index=0):\n",
    "    \"\"\" Read data \"\"\"\n",
    "\n",
    "    # Fixed params\n",
    "    # n_index = 0\n",
    "    n_class = 9\n",
    "    winSize = winSecond * fs\n",
    "    new_winSize = winSecond * newFs\n",
    "    # Paths\n",
    "    path_signals = os.path.join(data_path, split)\n",
    "\n",
    "    # Read labels and one-hot encode\n",
    "    # label_path = os.path.join(data_path, \"reference.txt\")\n",
    "    # labels = pd.read_csv(label_path, sep='\\t',header = None)\n",
    "    # labels = pd.read_csv(\"reference.csv\")\n",
    "\n",
    "    # Read time-series data\n",
    "    channel_files = os.listdir(path_signals)\n",
    "    # print(channel_files)\n",
    "    channel_files.sort()\n",
    "    n_channels = 12  # len(channel_files)\n",
    "    # posix = len(split) + 5\n",
    "\n",
    "    # Initiate array\n",
    "    list_of_channels = []\n",
    "\n",
    "    X = np.zeros((len(channel_files), new_winSize, n_channels)).astype('float32') \n",
    "    i_ch = 0\n",
    "\n",
    "    channel_name = ['V6', 'aVF', 'I', 'V4', 'V2', 'aVL', 'V1', 'II', 'aVR', 'V3', 'III', 'V5']\n",
    "    channel_mid_name = ['II', 'aVR', 'V2', 'V5']\n",
    "    channel_post_name = ['III', 'aVF', 'V3', 'V6']\n",
    "\n",
    "    for i_ch, fil_ch in enumerate(channel_files[:]):  # tqdm\n",
    "        \n",
    "        if i_ch % 2000 == 0:\n",
    "            print(i_ch)\n",
    "            \n",
    "        ecg = sio.loadmat(os.path.join(path_signals, fil_ch))\n",
    "        ecg_length = ecg[\"I\"].shape[1]\n",
    "\n",
    "        if ecg_length > fs * winNum * winSecond:\n",
    "            print(\" too long !!!\", ecg_length)\n",
    "            ecg_length = fs * winNum * winSecond\n",
    "        if ecg_length < 4500:\n",
    "            print(\" too short !!!\", ecg_length)\n",
    "            break\n",
    "\n",
    "        slide_steps = int((ecg_length - winSize) / winSecond)\n",
    "\n",
    "        if ecg_length <= 4500:\n",
    "            slide_steps = 0\n",
    "\n",
    "        ecg_channels = np.zeros((new_winSize, n_channels)).astype('float32') \n",
    "\n",
    "        for i_n, ch_name in enumerate(channel_name):\n",
    "\n",
    "            ecg_channels[:, i_n] = signal.resample(ecg[ch_name]\n",
    "                                                   [:, n_index * slide_steps:n_index * slide_steps + winSize].T\n",
    "                                                   , new_winSize).T\n",
    "            if preprocess:\n",
    "                data = ecg_preprocessing(ecg_channels[:, i_n].reshape(1, new_winSize), 'sym8', 8, 3, newFs)\n",
    "                ecg_channels[:, i_n] = data[0]\n",
    "            else:\n",
    "                pass\n",
    "                ecg_channels[:, i_n] = ecg_channels[:, i_n]\n",
    "\n",
    "        X[i_ch, :, :] = ecg_channels\n",
    "\n",
    "    return X\n",
    "\n",
    "def read_train_data(path):\n",
    "\n",
    "    ecg12_seg0 = read_data_seg(path, n_index=0)\n",
    "    ecg12_seg1 = read_data_seg(path, n_index=1)\n",
    "    ecg12_seg2 = read_data_seg(path, n_index=2)\n",
    "    ecg12_seg3 = read_data_seg(path, n_index=3)\n",
    "    ecg12_seg4 = read_data_seg(path, n_index=4)\n",
    "\n",
    "    ecg12_seg5 = read_data_seg(path, n_index=5)\n",
    "    ecg12_seg6 = read_data_seg(path, n_index=6)\n",
    "    ecg12_seg7 = read_data_seg(path, n_index=7)\n",
    "    ecg12_seg8 = read_data_seg(path, n_index=8)\n",
    "    ecg12_seg9 = read_data_seg(path, n_index=9)\n",
    "\n",
    "    X = [ecg12_seg0, ecg12_seg1, ecg12_seg2, ecg12_seg3,\n",
    "         ecg12_seg4, ecg12_seg5, ecg12_seg6, ecg12_seg7,\n",
    "         ecg12_seg8, ecg12_seg9,\n",
    "           ]\n",
    "\n",
    "    del ecg12_seg0, ecg12_seg1, ecg12_seg2, ecg12_seg3, ecg12_seg4\n",
    "    del ecg12_seg5, ecg12_seg6, ecg12_seg7, ecg12_seg8, ecg12_seg9\n",
    "\n",
    "    gc.collect()\n",
    "\n",
    "    return X\n",
    "\n",
    "def read_test_data(path):\n",
    "\n",
    "    test_x_seg0 = read_data_seg(path, split='Val', n_index=0)\n",
    "    test_x_seg1 = read_data_seg(path, split='Val', n_index=1)\n",
    "    test_x_seg2 = read_data_seg(path, split='Val', n_index=2)\n",
    "    test_x_seg3 = read_data_seg(path, split='Val', n_index=3)\n",
    "    test_x_seg4 = read_data_seg(path, split='Val', n_index=4)\n",
    "\n",
    "    test_x_seg5 = read_data_seg(path, split='Val', n_index=5)\n",
    "    test_x_seg6 = read_data_seg(path, split='Val', n_index=6)\n",
    "    test_x_seg7 = read_data_seg(path, split='Val', n_index=7)\n",
    "    test_x_seg8 = read_data_seg(path, split='Val', n_index=8)\n",
    "    test_x_seg9 = read_data_seg(path, split='Val', n_index=9)\n",
    "\n",
    "    test_x = [test_x_seg0, test_x_seg1, test_x_seg2, test_x_seg3, test_x_seg4,\n",
    "              test_x_seg5, test_x_seg6, test_x_seg7, test_x_seg8, test_x_seg9,\n",
    "             ]\n",
    "\n",
    "    del test_x_seg0, test_x_seg1, test_x_seg2, test_x_seg3, test_x_seg4\n",
    "    del test_x_seg5, test_x_seg6, test_x_seg7, test_x_seg8, test_x_seg9\n",
    "\n",
    "    gc.collect()\n",
    "\n",
    "    return test_x\n",
    "\n",
    "def preprocess_y(labels,y,num_class=9):\n",
    "    bin_label = np.zeros((len(y),num_class)).astype('int8') \n",
    "    for i in range(len(y)):\n",
    "        label_nona = labels.loc[y[i]].dropna()\n",
    "        for j in range(1,label_nona.shape[0]):\n",
    "            bin_label[i,int(label_nona[j])]=1\n",
    "    return bin_label\n",
    "\n",
    "\n",
    "def add_compile(model, config):\n",
    "    optimizer = SGD(lr=config.lr_schedule(0), momentum=0.9)  # Adam()#\n",
    "    model.compile(loss='binary_crossentropy',  # weighted_loss,#'binary_crossentropy',\n",
    "                  optimizer='adam',  # optimizer,#'adam',\n",
    "                  metrics=['accuracy', fmeasure, precision])#recall\n",
    "    # ['accuracy',fbetaMacro,recallMacro,precisionMacro])\n",
    "    # ['accuracy',fmeasure,recall,precision])\n",
    "\n",
    "if __name__ == '__main__':\n",
    "\n",
    "    train_dataset_path = path + \"/Train/\"\n",
    "    val_dataset_path = path + \"/Val/\"\n",
    "\n",
    "    train_files = os.listdir(train_dataset_path)\n",
    "    train_files.sort()\n",
    "    val_files = os.listdir(val_dataset_path)\n",
    "    val_files.sort()\n",
    "\n",
    "    labels = pd.read_csv(path+\"reference.csv\")\n",
    "\n",
    "    #print(labels.head())\n",
    "\n",
    "    bin_label = np.zeros((6500,9))\n",
    "    for i in range(labels.shape[0]):\n",
    "        label_nona = labels.loc[i].dropna()\n",
    "        for j in range(1,label_nona.shape[0]):\n",
    "            bin_label[i,int(label_nona[j])]=1\n",
    "\n",
    "    cv_pred_all = 0\n",
    "    en_amount = 1\n",
    "\n",
    "    labels_en = pd.read_csv(path + \"kfold_labels_en.csv\")\n",
    "    #print(labels_en.shape)\n",
    "    #print(labels_en.head())\n",
    "\n",
    "    data_info = pd.read_csv(path + \"data_info.csv\")\n",
    "    #print(data_info.head())\n",
    "\n",
    "    train_index = np.arange(6500).astype('int16')\n",
    "\n",
    "    label2_list = data_info[data_info.labels_num == 2].index.tolist()\n",
    "    label3_list = data_info[data_info.labels_num == 3].index.tolist()\n",
    "    label4_list = data_info[data_info.labels_num == 4].index.tolist()\n",
    "    label5_list = data_info[data_info.labels_num == 5].index.tolist()\n",
    "    label6_list = data_info[data_info.labels_num == 6].index.tolist()\n",
    "\n",
    "    train_index = np.insert(train_index, label2_list, label2_list)  # [145:155]\n",
    "\n",
    "    train_index = np.insert(train_index, label3_list, label3_list)\n",
    "    train_index = np.insert(train_index, label3_list, label3_list)\n",
    "\n",
    "    train_index = np.insert(train_index, label4_list, label4_list)\n",
    "    train_index = np.insert(train_index, label4_list, label4_list)\n",
    "    train_index = np.insert(train_index, label4_list, label4_list)\n",
    "\n",
    "    train_index = np.insert(train_index, label5_list, label5_list)\n",
    "    train_index = np.insert(train_index, label5_list, label5_list)\n",
    "    train_index = np.insert(train_index, label5_list, label5_list)\n",
    "    train_index = np.insert(train_index, label5_list, label5_list)\n",
    "\n",
    "    train_index = np.insert(train_index, label6_list, label6_list)\n",
    "    train_index = np.insert(train_index, label6_list, label6_list)\n",
    "    train_index = np.insert(train_index, label6_list, label6_list)\n",
    "    train_index = np.insert(train_index, label6_list, label6_list)\n",
    "    train_index = np.insert(train_index, label6_list, label6_list)\n",
    "\n",
    "    #print(train_index.dtype)\n",
    "\n",
    "    train_index = train_index.astype(np.int16)\n",
    "\n",
    "    train_index.sort()\n",
    "\n",
    "    print(\"train_index shape :\",train_index.shape)\n",
    "    #print(train_index)\n",
    "    \n",
    "    ecg12_seg0 = read_data_seg(path, n_index=0) \n",
    "    ecg12_seg1 = read_data_seg(path, n_index=1) \n",
    "    ecg12_seg2 = read_data_seg(path, n_index=2) \n",
    "    ecg12_seg3 = read_data_seg(path, n_index=3) \n",
    "    ecg12_seg4 = read_data_seg(path, n_index=4) \n",
    "\n",
    "    ecg12_seg5 = read_data_seg(path, n_index=5)\n",
    "    ecg12_seg6 = read_data_seg(path, n_index=6)\n",
    "    ecg12_seg7 = read_data_seg(path, n_index=7)\n",
    "    ecg12_seg8 = read_data_seg(path, n_index=8)\n",
    "    ecg12_seg9 = read_data_seg(path, n_index=9)\n",
    "    #train_x = np.array(read_train_data(path),dtype=np.float32)\n",
    "    #test_x = read_test_data(path)\n",
    "\n",
    "    test_x_seg0 = read_data_seg(path, split='Val', n_index=0)\n",
    "    test_x_seg1 = read_data_seg(path, split='Val', n_index=1)\n",
    "    test_x_seg2 = read_data_seg(path, split='Val', n_index=2)\n",
    "    test_x_seg3 = read_data_seg(path, split='Val', n_index=3)\n",
    "    test_x_seg4 = read_data_seg(path, split='Val', n_index=4)\n",
    "\n",
    "    test_x_seg5 = read_data_seg(path, split='Val', n_index=5)\n",
    "    test_x_seg6 = read_data_seg(path, split='Val', n_index=6)\n",
    "    test_x_seg7 = read_data_seg(path, split='Val', n_index=7)\n",
    "    test_x_seg8 = read_data_seg(path, split='Val', n_index=8)\n",
    "    test_x_seg9 = read_data_seg(path, split='Val', n_index=9)\n",
    "\n",
    "    test_x = [test_x_seg0, test_x_seg1, test_x_seg2, test_x_seg3, test_x_seg4,\n",
    "              test_x_seg5, test_x_seg6, test_x_seg7, test_x_seg8, test_x_seg9,\n",
    "             ]\n",
    "\n",
    "    del test_x_seg0, test_x_seg1, test_x_seg2, test_x_seg3, test_x_seg4\n",
    "    del test_x_seg5, test_x_seg6, test_x_seg7, test_x_seg8, test_x_seg9\n",
    "\n",
    "    gc.collect()"
   ]
  },
  {
   "cell_type": "code",
   "execution_count": 2,
   "metadata": {
    "collapsed": false
   },
   "outputs": [
    {
     "name": "stdout",
     "output_type": "stream",
     "text": [
      "WARNING:tensorflow:From /home/JDWorkSpace/vyuf0458/.local/lib/python3.5/site-packages/tensorflow/python/framework/op_def_library.py:263: colocate_with (from tensorflow.python.framework.ops) is deprecated and will be removed in a future version.\n",
      "Instructions for updating:\n",
      "Colocations handled automatically by placer.\n",
      "WARNING:tensorflow:From /home/JDWorkSpace/uuser/anaconda3/lib/python3.5/site-packages/keras/backend/tensorflow_backend.py:3445: calling dropout (from tensorflow.python.ops.nn_ops) with keep_prob is deprecated and will be removed in a future version.\n",
      "Instructions for updating:\n",
      "Please use `rate` instead of `keep_prob`. Rate should be set to `rate = 1 - keep_prob`.\n"
     ]
    }
   ],
   "source": [
    "from resnet_ecg import attentionmodel  \n",
    "\n",
    "from keras.layers import Input\n",
    "from keras.models import Model,load_model\n",
    "\n",
    "'''   '''\n",
    "inputs0 = Input(shape=(2560,12),dtype=\"float32\")\n",
    "inputs1 = Input(shape=(2560,12),dtype=\"float32\")\n",
    "inputs2 = Input(shape=(2560,12),dtype=\"float32\")\n",
    "inputs3 = Input(shape=(2560,12),dtype=\"float32\")\n",
    "inputs4 = Input(shape=(2560,12),dtype=\"float32\")\n",
    "inputs5 = Input(shape=(2560,12),dtype=\"float32\")\n",
    "inputs6 = Input(shape=(2560,12),dtype=\"float32\")\n",
    "inputs7 = Input(shape=(2560,12),dtype=\"float32\")\n",
    "inputs8 = Input(shape=(2560,12),dtype=\"float32\")\n",
    "inputs9 = Input(shape=(2560,12),dtype=\"float32\")\n",
    "\n",
    "inputs_list = [inputs0,inputs1,inputs2,inputs3,inputs4,inputs5,inputs6,inputs7,inputs8,inputs9]\n",
    "\n",
    "outputs = attentionmodel.build_network(inputs_list,0.5,num_classes=9,block_size=4,relu=False)\n",
    "\n",
    "model = Model(inputs =inputs_list,outputs=outputs)\n",
    "\n",
    "#print(model.summary())"
   ]
  },
  {
   "cell_type": "code",
   "execution_count": 4,
   "metadata": {
    "collapsed": false
   },
   "outputs": [
    {
     "name": "stdout",
     "output_type": "stream",
     "text": [
      "************************\n",
      "fold:  1  training\n",
      "fold:  2  training\n",
      "fold:  3  training\n"
     ]
    }
   ],
   "source": [
    "#print(\"train_x shape :\", train_x.shape)\n",
    "       \n",
    "model_path = './attention_model/'#'./model/'\n",
    "\n",
    "for seed in range(en_amount):\n",
    "    print(\"************************\")\n",
    "    n_fold = 3\n",
    "    n_classes = 9\n",
    "\n",
    "    kfold = StratifiedKFold(n_splits=n_fold, shuffle=True, random_state=seed)\n",
    "    kf = kfold.split(train_index, labels_en['label1'])\n",
    "\n",
    "    blend_train = np.zeros((6500, n_fold,n_classes)).astype('float32') #len(train_x)\n",
    "    blend_test = np.zeros((500, n_fold, n_classes)).astype('float32') #len(test_x)\n",
    "\n",
    "    count = 0\n",
    "\n",
    "    for i, (index_train, index_valid) in enumerate(kf):\n",
    "        print('fold: ', i+1, ' training')\n",
    "        t = time.time()\n",
    "\n",
    "        index_tr = train_index[index_train]\n",
    "        index_vld = np.arange(6500).astype('int16')#train_index[index_valid]\n",
    "\n",
    "        X_vld = [ecg12_seg0[index_vld], ecg12_seg1[index_vld], ecg12_seg2[index_vld], ecg12_seg3[index_vld],\n",
    "                 ecg12_seg4[index_vld], ecg12_seg5[index_vld], ecg12_seg6[index_vld], ecg12_seg7[index_vld],\n",
    "                 ecg12_seg8[index_vld], ecg12_seg9[index_vld],\n",
    "               ]\n",
    "\n",
    "        y_vld = preprocess_y(labels,index_vld)\n",
    "\n",
    "        # Evaluate best trained model\n",
    "        model.load_weights(model_path+'attention_weights-best_k{}_r{}.hdf5'.format(seed, i))\n",
    "\n",
    "        test_y = model.predict(test_x)\n",
    "        val_y = model.predict(X_vld)\n",
    "\n",
    "        del X_vld\n",
    "\n",
    "        gc.collect()\n",
    "        gc.collect()\n",
    "\n",
    "        blend_train[:,i, :] = val_y\n",
    "        blend_test[:, i, :] = test_y\n",
    "\n",
    "        count += 1\n"
   ]
  },
  {
   "cell_type": "code",
   "execution_count": 5,
   "metadata": {
    "collapsed": false
   },
   "outputs": [
    {
     "data": {
      "text/plain": [
       "(6500, 3, 9)"
      ]
     },
     "execution_count": 5,
     "metadata": {},
     "output_type": "execute_result"
    }
   ],
   "source": [
    "blend_train.shape"
   ]
  },
  {
   "cell_type": "code",
   "execution_count": 6,
   "metadata": {
    "collapsed": false
   },
   "outputs": [
    {
     "data": {
      "text/plain": [
       "array([0, 0, 0, 0, 0, 0, 0, 8, 0, 0, 0, 0, 0, 0, 0, 0, 0, 0, 0, 0])"
      ]
     },
     "execution_count": 6,
     "metadata": {},
     "output_type": "execute_result"
    }
   ],
   "source": [
    "np.argmax(blend_train,axis=1)[-20:]"
   ]
  },
  {
   "cell_type": "code",
   "execution_count": 20,
   "metadata": {
    "collapsed": false
   },
   "outputs": [
    {
     "data": {
      "text/plain": [
       "0"
      ]
     },
     "execution_count": 20,
     "metadata": {},
     "output_type": "execute_result"
    }
   ],
   "source": [
    "np.argmax(blend_train[-1])"
   ]
  },
  {
   "cell_type": "code",
   "execution_count": null,
   "metadata": {
    "collapsed": true
   },
   "outputs": [],
   "source": []
  },
  {
   "cell_type": "code",
   "execution_count": null,
   "metadata": {
    "collapsed": true
   },
   "outputs": [],
   "source": []
  },
  {
   "cell_type": "code",
   "execution_count": 21,
   "metadata": {
    "collapsed": false
   },
   "outputs": [],
   "source": [
    "x_tr_y =  0.*blend_train[:, 0, :] +0.2 * blend_train[:, 1, :] +0.8 * blend_train[:, 2, :]"
   ]
  },
  {
   "cell_type": "code",
   "execution_count": 24,
   "metadata": {
    "collapsed": true
   },
   "outputs": [],
   "source": [
    "weight = 0.2"
   ]
  },
  {
   "cell_type": "code",
   "execution_count": 22,
   "metadata": {
    "collapsed": false
   },
   "outputs": [
    {
     "name": "stdout",
     "output_type": "stream",
     "text": [
      "best_threshold:  [0.7 0.4 0.5 0.7 0.3 0.3 0.2 0.1 0.4]\n"
     ]
    },
    {
     "data": {
      "text/plain": [
       "array([[0., 0., 0., ..., 0., 0., 1.],\n",
       "       [0., 0., 0., ..., 0., 0., 1.],\n",
       "       [0., 0., 0., ..., 0., 0., 1.],\n",
       "       ...,\n",
       "       [1., 0., 0., ..., 0., 0., 0.],\n",
       "       [1., 0., 0., ..., 0., 0., 0.],\n",
       "       [1., 0., 0., ..., 0., 0., 0.]])"
      ]
     },
     "execution_count": 22,
     "metadata": {},
     "output_type": "execute_result"
    }
   ],
   "source": [
    "#x_tr_y = blend_train\n",
    "\n",
    "threshold = np.arange(0.1,0.9,0.1)\n",
    "\n",
    "out = x_tr_y\n",
    "y_test = bin_label#y_tr\n",
    "\n",
    "acc = []\n",
    "accuracies = []\n",
    "best_threshold = np.zeros(out.shape[1])\n",
    "for i in range(out.shape[1]):\n",
    "    y_prob = np.array(out[:,i])\n",
    "    for j in threshold:\n",
    "        y_pred = [1 if prob>=j else 0 for prob in y_prob]\n",
    "        #acc.append( matthews_corrcoef(y_test[:,i],y_pred))\n",
    "        acc.append(f1_score(y_test[:,i],y_pred,average='macro'))\n",
    "    acc   = np.array(acc)\n",
    "    index = np.where(acc==acc.max()) \n",
    "    accuracies.append(acc.max()) \n",
    "    best_threshold[i] = threshold[index[0][0]]\n",
    "    acc = []\n",
    "    \n",
    "print(\"best_threshold: \",best_threshold)\n",
    "\n",
    "y_pred = np.array([[1 if out[i,j]>=best_threshold[j] else 0 for j in range(y_test.shape[1])] for i in range(len(y_test))])\n",
    "\n",
    "y_pred \n",
    "\n",
    "y_test\n",
    "\n",
    "#best_threshold:  [0.7 0.4 0.5 0.4 0.3 0.2 0.3 0.4 0.4]\n",
    "#0.022393162393162393\n",
    "\n",
    "#best_threshold:  [0.7 0.4 0.5 0.4 0.4 0.2 0.4 0.4 0.5]\n",
    "#0.022615384615384617\n",
    "\n",
    "#hamming_loss(y_test,y_pred)"
   ]
  },
  {
   "cell_type": "code",
   "execution_count": 23,
   "metadata": {
    "collapsed": false
   },
   "outputs": [
    {
     "data": {
      "text/plain": [
       "0.8970381260536389"
      ]
     },
     "execution_count": 23,
     "metadata": {},
     "output_type": "execute_result"
    }
   ],
   "source": [
    "f1_score(y_test,y_pred,average='macro')"
   ]
  },
  {
   "cell_type": "code",
   "execution_count": 63,
   "metadata": {
    "collapsed": false
   },
   "outputs": [],
   "source": [
    "''' for i in range(y_pred.shape[0]):\n",
    "    if (y_pred[i][0] == 1) & (np.argmax(blend_train[i])==0) &((y_pred[i][7] != 1) ):\n",
    "        y_pred[i] = [1,0,0,0,0,0,0,0,0]\n",
    "    elif (y_pred[i][0] == 1) & (np.argmax(blend_train[i])==0) &((y_pred[i][7] == 1) ):\n",
    "        y_pred[i] = [0,0,0,0,0,0,0,1,0]\n",
    "f1_score(y_test,y_pred,average='macro')\n",
    "'''\n",
    "pass"
   ]
  },
  {
   "cell_type": "code",
   "execution_count": 24,
   "metadata": {
    "collapsed": false
   },
   "outputs": [
    {
     "name": "stdout",
     "output_type": "stream",
     "text": [
      "f1 score of ab 0 is 0.9501539138876158\n",
      "f1 score of ab 1 is 0.987301922195947\n",
      "f1 score of ab 2 is 0.9439078350142455\n",
      "f1 score of ab 3 is 0.9934088334120804\n",
      "f1 score of ab 4 is 0.894263811789585\n",
      "f1 score of ab 5 is 0.9620662242557618\n",
      "f1 score of ab 6 is 0.9197889234153733\n",
      "f1 score of ab 7 is 0.889570764856806\n",
      "f1 score of ab 8 is 0.9334864126711857\n"
     ]
    }
   ],
   "source": [
    "sum_f1 = 0\n",
    "for i in range(9):\n",
    "    sum_f1 += f1_score(y_test[:,i],y_pred[:,i],average='macro')\n",
    "    print(\"f1 score of ab {} is {}\".format(i, f1_score(y_test[:,i],y_pred[:,i],average='macro')))"
   ]
  },
  {
   "cell_type": "code",
   "execution_count": 11,
   "metadata": {
    "collapsed": false
   },
   "outputs": [
    {
     "data": {
      "text/plain": [
       "0.9410313587270029"
      ]
     },
     "execution_count": 11,
     "metadata": {},
     "output_type": "execute_result"
    }
   ],
   "source": [
    "sum_f1/9"
   ]
  },
  {
   "cell_type": "code",
   "execution_count": 12,
   "metadata": {
    "collapsed": false
   },
   "outputs": [],
   "source": [
    "b = 0.3*blend_test[:,0,:]+0.7*blend_test[:,1,:]"
   ]
  },
  {
   "cell_type": "code",
   "execution_count": 10,
   "metadata": {
    "collapsed": false
   },
   "outputs": [
    {
     "data": {
      "text/plain": [
       "array([[9.5819497e-01, 0.0000000e+00, 5.1856041e-06, ..., 1.7875433e-04,\n",
       "        3.7002474e-02, 2.1824539e-03],\n",
       "       [1.1602640e-03, 3.2782555e-07, 1.7881393e-07, ..., 1.1679530e-03,\n",
       "        5.6624413e-07, 3.1960011e-04],\n",
       "       [5.0628185e-04, 9.2651951e-01, 9.1991425e-03, ..., 9.7807944e-03,\n",
       "        2.9823184e-04, 9.2111492e-01],\n",
       "       ...,\n",
       "       [1.2218952e-06, 9.5695257e-05, 6.9725513e-04, ..., 4.2690039e-03,\n",
       "        7.3015690e-06, 1.7085671e-04],\n",
       "       [3.8334012e-02, 1.2814999e-06, 6.7942220e-01, ..., 1.4413595e-03,\n",
       "        3.7550926e-06, 6.1189079e-01],\n",
       "       [9.9801010e-01, 8.9406967e-07, 2.3245811e-06, ..., 1.1432171e-04,\n",
       "        4.4703484e-07, 5.9485435e-05]], dtype=float32)"
      ]
     },
     "execution_count": 10,
     "metadata": {},
     "output_type": "execute_result"
    }
   ],
   "source": [
    "blend_test[:,1,:]"
   ]
  },
  {
   "cell_type": "code",
   "execution_count": null,
   "metadata": {
    "collapsed": true
   },
   "outputs": [],
   "source": []
  },
  {
   "cell_type": "code",
   "execution_count": 25,
   "metadata": {
    "collapsed": true
   },
   "outputs": [],
   "source": [
    "test_yy = 0.*blend_test[:,0,:]+0.2*blend_test[:,0,:]+0.8*blend_test[:,1,:] # blend_test.mean(axis=1)"
   ]
  },
  {
   "cell_type": "code",
   "execution_count": 26,
   "metadata": {
    "collapsed": false
   },
   "outputs": [],
   "source": [
    "import csv\n",
    "classes = [0,1,2,3,4,5,6,7,8]\n",
    "\n",
    "test_y = test_yy\n",
    "\n",
    "y_pred = [[1 if test_y[i,j]>=best_threshold[j] else 0 for j in range(test_y.shape[1])] \n",
    "          for i in range(len(test_y))]\n",
    "\n",
    "''' \n",
    "# trick\n",
    "for i in range(len(y_pred)):\n",
    "    if (y_pred[i][0] == 1) & (np.argmax(test_yy[i])==0):\n",
    "        y_pred[i] = [1,0,0,0,0,0,0,0,0]\n",
    "'''      \n",
    "                \n",
    "pred=[]\n",
    "for j in range(test_y.shape[0]):\n",
    "    pred.append([classes[i] for i in range(9) if y_pred[j][i] == 1])\n",
    "\n",
    "with open('answers_attention_0610.csv','w') as csvfile:\n",
    "    writer = csv.writer(csvfile)\n",
    "    writer.writerow(['File_name', 'label1', 'label2',\n",
    "                    'label3', 'label4', 'label5', 'label6', 'label7', 'label8'])\n",
    "    count = 0\n",
    "    for file_name in val_files:\n",
    "        if file_name.endswith('.mat'):\n",
    "            \n",
    "            record_name = file_name.strip('.mat')\n",
    "            answer = []\n",
    "            answer.append(record_name) \n",
    "            \n",
    "            result = pred[count]\n",
    "            \n",
    "            answer.extend(result)\n",
    "            for i in range(8-len(result)):\n",
    "                answer.append('')\n",
    "                \n",
    "            #print(answer)\n",
    "            count += 1\n",
    "            writer.writerow(answer)\n",
    "    csvfile.close()"
   ]
  },
  {
   "cell_type": "code",
   "execution_count": null,
   "metadata": {
    "collapsed": true
   },
   "outputs": [],
   "source": []
  }
 ],
 "metadata": {
  "anaconda-cloud": {},
  "kernelspec": {
   "display_name": "Python [conda env:anaconda3]",
   "language": "python",
   "name": "conda-env-anaconda3-py"
  },
  "language_info": {
   "codemirror_mode": {
    "name": "ipython",
    "version": 3
   },
   "file_extension": ".py",
   "mimetype": "text/x-python",
   "name": "python",
   "nbconvert_exporter": "python",
   "pygments_lexer": "ipython3",
   "version": "3.5.2"
  }
 },
 "nbformat": 4,
 "nbformat_minor": 1
}
