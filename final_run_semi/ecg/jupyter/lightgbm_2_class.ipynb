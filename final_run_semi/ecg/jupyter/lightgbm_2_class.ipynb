{
 "cells": [
  {
   "cell_type": "code",
   "execution_count": 1,
   "metadata": {
    "collapsed": true
   },
   "outputs": [],
   "source": [
    "from tqdm import tqdm\n",
    "import numpy as np\n",
    "import pandas as pd\n",
    "from utils import extract_basic_features\n",
    "\n",
    "import wfdb\n",
    "import os\n",
    "import wfdb.processing as wp\n",
    "import matplotlib.pyplot as plt\n",
    "from scipy import signal\n",
    "from utils import find_noise_features, extract_basic_features\n",
    "import shutil\n",
    "\n",
    "import time\n",
    "from lightgbm import LGBMClassifier\n",
    "from scipy import sparse\n",
    "from sklearn.metrics import f1_score\n",
    "from sklearn.model_selection import KFold,StratifiedKFold\n",
    "from xgboost import XGBClassifier\n",
    "\n",
    "import warnings\n",
    "warnings.filterwarnings(\"ignore\")"
   ]
  },
  {
   "cell_type": "code",
   "execution_count": null,
   "metadata": {
    "collapsed": true
   },
   "outputs": [],
   "source": []
  },
  {
   "cell_type": "code",
   "execution_count": null,
   "metadata": {
    "collapsed": true
   },
   "outputs": [],
   "source": []
  },
  {
   "cell_type": "code",
   "execution_count": 2,
   "metadata": {
    "collapsed": false
   },
   "outputs": [
    {
     "data": {
      "text/html": [
       "<div>\n",
       "<style scoped>\n",
       "    .dataframe tbody tr th:only-of-type {\n",
       "        vertical-align: middle;\n",
       "    }\n",
       "\n",
       "    .dataframe tbody tr th {\n",
       "        vertical-align: top;\n",
       "    }\n",
       "\n",
       "    .dataframe thead th {\n",
       "        text-align: right;\n",
       "    }\n",
       "</style>\n",
       "<table border=\"1\" class=\"dataframe\">\n",
       "  <thead>\n",
       "    <tr style=\"text-align: right;\">\n",
       "      <th></th>\n",
       "      <th>File_name</th>\n",
       "      <th>label1</th>\n",
       "      <th>label2</th>\n",
       "      <th>label3</th>\n",
       "      <th>label4</th>\n",
       "      <th>label5</th>\n",
       "      <th>label6</th>\n",
       "      <th>label7</th>\n",
       "      <th>label8</th>\n",
       "    </tr>\n",
       "  </thead>\n",
       "  <tbody>\n",
       "    <tr>\n",
       "      <th>0</th>\n",
       "      <td>TRAIN0001</td>\n",
       "      <td>8</td>\n",
       "      <td>NaN</td>\n",
       "      <td>NaN</td>\n",
       "      <td>NaN</td>\n",
       "      <td>NaN</td>\n",
       "      <td>NaN</td>\n",
       "      <td>NaN</td>\n",
       "      <td>NaN</td>\n",
       "    </tr>\n",
       "    <tr>\n",
       "      <th>1</th>\n",
       "      <td>TRAIN0002</td>\n",
       "      <td>8</td>\n",
       "      <td>NaN</td>\n",
       "      <td>NaN</td>\n",
       "      <td>NaN</td>\n",
       "      <td>NaN</td>\n",
       "      <td>NaN</td>\n",
       "      <td>NaN</td>\n",
       "      <td>NaN</td>\n",
       "    </tr>\n",
       "    <tr>\n",
       "      <th>2</th>\n",
       "      <td>TRAIN0003</td>\n",
       "      <td>8</td>\n",
       "      <td>NaN</td>\n",
       "      <td>NaN</td>\n",
       "      <td>NaN</td>\n",
       "      <td>NaN</td>\n",
       "      <td>NaN</td>\n",
       "      <td>NaN</td>\n",
       "      <td>NaN</td>\n",
       "    </tr>\n",
       "    <tr>\n",
       "      <th>3</th>\n",
       "      <td>TRAIN0004</td>\n",
       "      <td>8</td>\n",
       "      <td>NaN</td>\n",
       "      <td>NaN</td>\n",
       "      <td>NaN</td>\n",
       "      <td>NaN</td>\n",
       "      <td>NaN</td>\n",
       "      <td>NaN</td>\n",
       "      <td>NaN</td>\n",
       "    </tr>\n",
       "    <tr>\n",
       "      <th>4</th>\n",
       "      <td>TRAIN0005</td>\n",
       "      <td>8</td>\n",
       "      <td>NaN</td>\n",
       "      <td>NaN</td>\n",
       "      <td>NaN</td>\n",
       "      <td>NaN</td>\n",
       "      <td>NaN</td>\n",
       "      <td>NaN</td>\n",
       "      <td>NaN</td>\n",
       "    </tr>\n",
       "  </tbody>\n",
       "</table>\n",
       "</div>"
      ],
      "text/plain": [
       "   File_name  label1  label2  label3  label4  label5  label6  label7  label8\n",
       "0  TRAIN0001       8     NaN     NaN     NaN     NaN     NaN     NaN     NaN\n",
       "1  TRAIN0002       8     NaN     NaN     NaN     NaN     NaN     NaN     NaN\n",
       "2  TRAIN0003       8     NaN     NaN     NaN     NaN     NaN     NaN     NaN\n",
       "3  TRAIN0004       8     NaN     NaN     NaN     NaN     NaN     NaN     NaN\n",
       "4  TRAIN0005       8     NaN     NaN     NaN     NaN     NaN     NaN     NaN"
      ]
     },
     "execution_count": 2,
     "metadata": {},
     "output_type": "execute_result"
    }
   ],
   "source": [
    "labels = pd.read_csv(\"reference.csv\")\n",
    "labels.head()"
   ]
  },
  {
   "cell_type": "code",
   "execution_count": 3,
   "metadata": {
    "collapsed": false
   },
   "outputs": [
    {
     "name": "stdout",
     "output_type": "stream",
     "text": [
      "1896\n",
      "1972\n",
      "2087\n",
      "2729\n",
      "2977\n",
      "3090\n",
      "3141\n",
      "3259\n",
      "4227\n"
     ]
    }
   ],
   "source": [
    "sum1_label=0\n",
    "sum2_label=0\n",
    "sum3_label=0\n",
    "sum4_label=0\n",
    "sum5_label=0\n",
    "sum6_label=0\n",
    "sum7_label=0\n",
    "bin_label = np.zeros((6500,9))\n",
    "for i in range(labels.shape[0]):\n",
    "    label_nona = labels.loc[i].dropna()\n",
    "    if label_nona.shape[0] == 2:\n",
    "        sum1_label+=1\n",
    "    if label_nona.shape[0] == 3:\n",
    "        sum2_label+=1\n",
    "    if label_nona.shape[0] == 4:\n",
    "        sum3_label+=1\n",
    "    if label_nona.shape[0] == 5:\n",
    "        sum4_label+=1\n",
    "        print(i)\n",
    "    if label_nona.shape[0] == 6:\n",
    "        sum5_label+=1\n",
    "    if label_nona.shape[0] == 7:\n",
    "        sum6_label+=1\n",
    "    if label_nona.shape[0] == 8:\n",
    "        sum7_label+=1\n",
    "    for j in range(1,label_nona.shape[0]):\n",
    "        bin_label[i,int(label_nona[j])]=1"
   ]
  },
  {
   "cell_type": "code",
   "execution_count": 4,
   "metadata": {
    "collapsed": false
   },
   "outputs": [
    {
     "data": {
      "text/html": [
       "<div>\n",
       "<style scoped>\n",
       "    .dataframe tbody tr th:only-of-type {\n",
       "        vertical-align: middle;\n",
       "    }\n",
       "\n",
       "    .dataframe tbody tr th {\n",
       "        vertical-align: top;\n",
       "    }\n",
       "\n",
       "    .dataframe thead th {\n",
       "        text-align: right;\n",
       "    }\n",
       "</style>\n",
       "<table border=\"1\" class=\"dataframe\">\n",
       "  <thead>\n",
       "    <tr style=\"text-align: right;\">\n",
       "      <th></th>\n",
       "      <th>File_name</th>\n",
       "      <th>label1</th>\n",
       "      <th>label2</th>\n",
       "      <th>label3</th>\n",
       "      <th>label4</th>\n",
       "      <th>label5</th>\n",
       "      <th>label6</th>\n",
       "      <th>label7</th>\n",
       "      <th>label8</th>\n",
       "    </tr>\n",
       "  </thead>\n",
       "  <tbody>\n",
       "    <tr>\n",
       "      <th>0</th>\n",
       "      <td>TRAIN0001</td>\n",
       "      <td>8</td>\n",
       "      <td>NaN</td>\n",
       "      <td>NaN</td>\n",
       "      <td>NaN</td>\n",
       "      <td>NaN</td>\n",
       "      <td>NaN</td>\n",
       "      <td>NaN</td>\n",
       "      <td>NaN</td>\n",
       "    </tr>\n",
       "    <tr>\n",
       "      <th>1</th>\n",
       "      <td>TRAIN0002</td>\n",
       "      <td>8</td>\n",
       "      <td>NaN</td>\n",
       "      <td>NaN</td>\n",
       "      <td>NaN</td>\n",
       "      <td>NaN</td>\n",
       "      <td>NaN</td>\n",
       "      <td>NaN</td>\n",
       "      <td>NaN</td>\n",
       "    </tr>\n",
       "  </tbody>\n",
       "</table>\n",
       "</div>"
      ],
      "text/plain": [
       "   File_name  label1  label2  label3  label4  label5  label6  label7  label8\n",
       "0  TRAIN0001       8     NaN     NaN     NaN     NaN     NaN     NaN     NaN\n",
       "1  TRAIN0002       8     NaN     NaN     NaN     NaN     NaN     NaN     NaN"
      ]
     },
     "execution_count": 4,
     "metadata": {},
     "output_type": "execute_result"
    }
   ],
   "source": [
    "labels.iloc[:2]"
   ]
  },
  {
   "cell_type": "code",
   "execution_count": 256,
   "metadata": {
    "collapsed": false
   },
   "outputs": [
    {
     "data": {
      "text/plain": [
       "(2156, 2)"
      ]
     },
     "execution_count": 256,
     "metadata": {},
     "output_type": "execute_result"
    }
   ],
   "source": [
    "num=8\n",
    "column_name = ['File_name','label1','label2','label3','label4','label5','label6','label7','label8']\n",
    "temp =pd.DataFrame(columns=column_name,index=range(labels.shape[0]))\n",
    "temp['File_name'] = labels['File_name']\n",
    "label_pd = labels[column_name].where(labels[column_name] == num,temp).dropna(axis=0,how='all')\n",
    "labels_pd = label_pd.dropna(axis=0,thresh=2)\n",
    "labels_pd['label1'] = labels_pd.shape[0]*[1]\n",
    "labels_pd.dropna(axis=1,inplace=True)\n",
    "\n",
    "labels_pd.columns = ['File_name1', 'label1']\n",
    "labels_pd.shape"
   ]
  },
  {
   "cell_type": "code",
   "execution_count": 257,
   "metadata": {
    "collapsed": false
   },
   "outputs": [
    {
     "data": {
      "text/html": [
       "<div>\n",
       "<style scoped>\n",
       "    .dataframe tbody tr th:only-of-type {\n",
       "        vertical-align: middle;\n",
       "    }\n",
       "\n",
       "    .dataframe tbody tr th {\n",
       "        vertical-align: top;\n",
       "    }\n",
       "\n",
       "    .dataframe thead th {\n",
       "        text-align: right;\n",
       "    }\n",
       "</style>\n",
       "<table border=\"1\" class=\"dataframe\">\n",
       "  <thead>\n",
       "    <tr style=\"text-align: right;\">\n",
       "      <th></th>\n",
       "      <th>File_name</th>\n",
       "      <th>label1</th>\n",
       "    </tr>\n",
       "  </thead>\n",
       "  <tbody>\n",
       "    <tr>\n",
       "      <th>6495</th>\n",
       "      <td>TRAIN6496</td>\n",
       "      <td>0.0</td>\n",
       "    </tr>\n",
       "    <tr>\n",
       "      <th>6496</th>\n",
       "      <td>TRAIN6497</td>\n",
       "      <td>0.0</td>\n",
       "    </tr>\n",
       "    <tr>\n",
       "      <th>6497</th>\n",
       "      <td>TRAIN6498</td>\n",
       "      <td>0.0</td>\n",
       "    </tr>\n",
       "    <tr>\n",
       "      <th>6498</th>\n",
       "      <td>TRAIN6499</td>\n",
       "      <td>0.0</td>\n",
       "    </tr>\n",
       "    <tr>\n",
       "      <th>6499</th>\n",
       "      <td>TRAIN6500</td>\n",
       "      <td>0.0</td>\n",
       "    </tr>\n",
       "  </tbody>\n",
       "</table>\n",
       "</div>"
      ],
      "text/plain": [
       "      File_name  label1\n",
       "6495  TRAIN6496     0.0\n",
       "6496  TRAIN6497     0.0\n",
       "6497  TRAIN6498     0.0\n",
       "6498  TRAIN6499     0.0\n",
       "6499  TRAIN6500     0.0"
      ]
     },
     "execution_count": 257,
     "metadata": {},
     "output_type": "execute_result"
    }
   ],
   "source": [
    "labels_pd = pd.concat([temp,labels_pd],axis=1)\n",
    "labels_pd = labels_pd.dropna(axis=1,how='all')\n",
    "#labels_pd = labels_pd['label1'].fillna(9)\n",
    "#labels_pd#.dropna(subset=['File_name1'],axis=1)\n",
    "labels_pd =labels_pd.drop('File_name1',axis=1)\n",
    "#labels_pd.drop()\n",
    "labels_pd =labels_pd.fillna(0)\n",
    "labels_pd.tail()"
   ]
  },
  {
   "cell_type": "code",
   "execution_count": 8,
   "metadata": {
    "collapsed": false
   },
   "outputs": [
    {
     "data": {
      "text/plain": [
       "7703"
      ]
     },
     "execution_count": 8,
     "metadata": {},
     "output_type": "execute_result"
    }
   ],
   "source": [
    "#2156+224+672+654+180+826+534+504+1953"
   ]
  },
  {
   "cell_type": "code",
   "execution_count": 100,
   "metadata": {
    "collapsed": true
   },
   "outputs": [],
   "source": [
    "import scipy.io as sio\n",
    "train_dataset_path = os.getcwd()+\"/Train/\"\n",
    "val_dataset_path = os.getcwd()+\"/Val/\"\n",
    "\n",
    "train_files = os.listdir(train_dataset_path)\n",
    "train_files.sort()\n",
    "val_files = os.listdir(val_dataset_path)\n",
    "val_files.sort()"
   ]
  },
  {
   "cell_type": "code",
   "execution_count": 101,
   "metadata": {
    "collapsed": true
   },
   "outputs": [],
   "source": [
    "if os.path.exists(\"features315_II.csv\"):\n",
    "    features315_pd = pd.read_csv(\"features315_II.csv\")\n",
    "else:\n",
    "    features315_pd = generate_features315(train_dataset_path,\"TRAIN0001\")\n",
    "    for file_name in tqdm(train_files[1:]):\n",
    "        df_temp = generate_features315(train_dataset_path,file_name.strip('.mat'))\n",
    "        features315_pd = pd.concat([features315_pd,df_temp])\n",
    "    features315_pd.to_csv(\"features315_II.csv\",index=False)"
   ]
  },
  {
   "cell_type": "code",
   "execution_count": 145,
   "metadata": {
    "collapsed": false
   },
   "outputs": [
    {
     "data": {
      "text/html": [
       "<div>\n",
       "<style scoped>\n",
       "    .dataframe tbody tr th:only-of-type {\n",
       "        vertical-align: middle;\n",
       "    }\n",
       "\n",
       "    .dataframe tbody tr th {\n",
       "        vertical-align: top;\n",
       "    }\n",
       "\n",
       "    .dataframe thead th {\n",
       "        text-align: right;\n",
       "    }\n",
       "</style>\n",
       "<table border=\"1\" class=\"dataframe\">\n",
       "  <thead>\n",
       "    <tr style=\"text-align: right;\">\n",
       "      <th></th>\n",
       "      <th>File_name</th>\n",
       "      <th>bad_template_corr_coeff_median</th>\n",
       "      <th>bad_template_corr_coeff_std</th>\n",
       "      <th>detection_success</th>\n",
       "      <th>diff2_rri_activity</th>\n",
       "      <th>diff2_rri_approximate_entropy</th>\n",
       "      <th>diff2_rri_complexity</th>\n",
       "      <th>diff2_rri_fisher_info</th>\n",
       "      <th>diff2_rri_hurst_exponent</th>\n",
       "      <th>diff2_rri_kurtosis</th>\n",
       "      <th>...</th>\n",
       "      <th>template_swt_d_1_med_power_ratio</th>\n",
       "      <th>template_swt_d_2_high_power_ratio</th>\n",
       "      <th>template_swt_d_2_low_power_ratio</th>\n",
       "      <th>template_swt_d_2_med_power_ratio</th>\n",
       "      <th>template_swt_d_3_high_power_ratio</th>\n",
       "      <th>template_swt_d_3_low_power_ratio</th>\n",
       "      <th>template_swt_d_3_med_power_ratio</th>\n",
       "      <th>template_swt_d_4_high_power_ratio</th>\n",
       "      <th>template_swt_d_4_low_power_ratio</th>\n",
       "      <th>template_swt_d_4_med_power_ratio</th>\n",
       "    </tr>\n",
       "  </thead>\n",
       "  <tbody>\n",
       "    <tr>\n",
       "      <th>0</th>\n",
       "      <td>TRAIN0001</td>\n",
       "      <td>0.0</td>\n",
       "      <td>0.0</td>\n",
       "      <td>0.900000</td>\n",
       "      <td>0.000328</td>\n",
       "      <td>-0.625503</td>\n",
       "      <td>1.576504</td>\n",
       "      <td>0.132745</td>\n",
       "      <td>1.075101</td>\n",
       "      <td>-1.482883</td>\n",
       "      <td>...</td>\n",
       "      <td>0.100269</td>\n",
       "      <td>0.102243</td>\n",
       "      <td>0.692252</td>\n",
       "      <td>0.092260</td>\n",
       "      <td>0.118206</td>\n",
       "      <td>0.707815</td>\n",
       "      <td>0.115713</td>\n",
       "      <td>0.127571</td>\n",
       "      <td>0.711862</td>\n",
       "      <td>0.123688</td>\n",
       "    </tr>\n",
       "    <tr>\n",
       "      <th>1</th>\n",
       "      <td>TRAIN0002</td>\n",
       "      <td>0.0</td>\n",
       "      <td>0.0</td>\n",
       "      <td>1.000000</td>\n",
       "      <td>0.002695</td>\n",
       "      <td>-0.625503</td>\n",
       "      <td>1.966502</td>\n",
       "      <td>0.210283</td>\n",
       "      <td>1.075101</td>\n",
       "      <td>-1.074280</td>\n",
       "      <td>...</td>\n",
       "      <td>0.082910</td>\n",
       "      <td>0.123768</td>\n",
       "      <td>0.664830</td>\n",
       "      <td>0.134348</td>\n",
       "      <td>0.100891</td>\n",
       "      <td>0.680649</td>\n",
       "      <td>0.201963</td>\n",
       "      <td>0.106492</td>\n",
       "      <td>0.684477</td>\n",
       "      <td>0.220513</td>\n",
       "    </tr>\n",
       "    <tr>\n",
       "      <th>2</th>\n",
       "      <td>TRAIN0003</td>\n",
       "      <td>0.0</td>\n",
       "      <td>0.0</td>\n",
       "      <td>0.866667</td>\n",
       "      <td>0.000049</td>\n",
       "      <td>-0.392436</td>\n",
       "      <td>1.475359</td>\n",
       "      <td>0.010351</td>\n",
       "      <td>1.034580</td>\n",
       "      <td>-0.034765</td>\n",
       "      <td>...</td>\n",
       "      <td>0.094416</td>\n",
       "      <td>0.118094</td>\n",
       "      <td>0.774157</td>\n",
       "      <td>0.095045</td>\n",
       "      <td>0.099268</td>\n",
       "      <td>0.784288</td>\n",
       "      <td>0.142385</td>\n",
       "      <td>0.103483</td>\n",
       "      <td>0.786120</td>\n",
       "      <td>0.157663</td>\n",
       "    </tr>\n",
       "    <tr>\n",
       "      <th>3</th>\n",
       "      <td>TRAIN0004</td>\n",
       "      <td>0.0</td>\n",
       "      <td>0.0</td>\n",
       "      <td>0.866667</td>\n",
       "      <td>0.001092</td>\n",
       "      <td>-0.392436</td>\n",
       "      <td>1.750371</td>\n",
       "      <td>0.102582</td>\n",
       "      <td>1.085990</td>\n",
       "      <td>-0.733251</td>\n",
       "      <td>...</td>\n",
       "      <td>0.076792</td>\n",
       "      <td>0.111508</td>\n",
       "      <td>0.590893</td>\n",
       "      <td>0.144086</td>\n",
       "      <td>0.100823</td>\n",
       "      <td>0.609346</td>\n",
       "      <td>0.206985</td>\n",
       "      <td>0.105637</td>\n",
       "      <td>0.614405</td>\n",
       "      <td>0.224029</td>\n",
       "    </tr>\n",
       "    <tr>\n",
       "      <th>4</th>\n",
       "      <td>TRAIN0005</td>\n",
       "      <td>0.0</td>\n",
       "      <td>0.0</td>\n",
       "      <td>0.875000</td>\n",
       "      <td>0.000097</td>\n",
       "      <td>-0.361203</td>\n",
       "      <td>1.822272</td>\n",
       "      <td>0.158262</td>\n",
       "      <td>1.104450</td>\n",
       "      <td>-1.382307</td>\n",
       "      <td>...</td>\n",
       "      <td>0.095108</td>\n",
       "      <td>0.096210</td>\n",
       "      <td>0.652023</td>\n",
       "      <td>0.089770</td>\n",
       "      <td>0.115775</td>\n",
       "      <td>0.668152</td>\n",
       "      <td>0.115918</td>\n",
       "      <td>0.126150</td>\n",
       "      <td>0.672497</td>\n",
       "      <td>0.131260</td>\n",
       "    </tr>\n",
       "  </tbody>\n",
       "</table>\n",
       "<p>5 rows × 315 columns</p>\n",
       "</div>"
      ],
      "text/plain": [
       "   File_name  bad_template_corr_coeff_median  bad_template_corr_coeff_std  \\\n",
       "0  TRAIN0001                             0.0                          0.0   \n",
       "1  TRAIN0002                             0.0                          0.0   \n",
       "2  TRAIN0003                             0.0                          0.0   \n",
       "3  TRAIN0004                             0.0                          0.0   \n",
       "4  TRAIN0005                             0.0                          0.0   \n",
       "\n",
       "   detection_success  diff2_rri_activity  diff2_rri_approximate_entropy  \\\n",
       "0           0.900000            0.000328                      -0.625503   \n",
       "1           1.000000            0.002695                      -0.625503   \n",
       "2           0.866667            0.000049                      -0.392436   \n",
       "3           0.866667            0.001092                      -0.392436   \n",
       "4           0.875000            0.000097                      -0.361203   \n",
       "\n",
       "   diff2_rri_complexity  diff2_rri_fisher_info  diff2_rri_hurst_exponent  \\\n",
       "0              1.576504               0.132745                  1.075101   \n",
       "1              1.966502               0.210283                  1.075101   \n",
       "2              1.475359               0.010351                  1.034580   \n",
       "3              1.750371               0.102582                  1.085990   \n",
       "4              1.822272               0.158262                  1.104450   \n",
       "\n",
       "   diff2_rri_kurtosis  ...  template_swt_d_1_med_power_ratio  \\\n",
       "0           -1.482883  ...                          0.100269   \n",
       "1           -1.074280  ...                          0.082910   \n",
       "2           -0.034765  ...                          0.094416   \n",
       "3           -0.733251  ...                          0.076792   \n",
       "4           -1.382307  ...                          0.095108   \n",
       "\n",
       "   template_swt_d_2_high_power_ratio  template_swt_d_2_low_power_ratio  \\\n",
       "0                           0.102243                          0.692252   \n",
       "1                           0.123768                          0.664830   \n",
       "2                           0.118094                          0.774157   \n",
       "3                           0.111508                          0.590893   \n",
       "4                           0.096210                          0.652023   \n",
       "\n",
       "   template_swt_d_2_med_power_ratio  template_swt_d_3_high_power_ratio  \\\n",
       "0                          0.092260                           0.118206   \n",
       "1                          0.134348                           0.100891   \n",
       "2                          0.095045                           0.099268   \n",
       "3                          0.144086                           0.100823   \n",
       "4                          0.089770                           0.115775   \n",
       "\n",
       "   template_swt_d_3_low_power_ratio  template_swt_d_3_med_power_ratio  \\\n",
       "0                          0.707815                          0.115713   \n",
       "1                          0.680649                          0.201963   \n",
       "2                          0.784288                          0.142385   \n",
       "3                          0.609346                          0.206985   \n",
       "4                          0.668152                          0.115918   \n",
       "\n",
       "   template_swt_d_4_high_power_ratio  template_swt_d_4_low_power_ratio  \\\n",
       "0                           0.127571                          0.711862   \n",
       "1                           0.106492                          0.684477   \n",
       "2                           0.103483                          0.786120   \n",
       "3                           0.105637                          0.614405   \n",
       "4                           0.126150                          0.672497   \n",
       "\n",
       "   template_swt_d_4_med_power_ratio  \n",
       "0                          0.123688  \n",
       "1                          0.220513  \n",
       "2                          0.157663  \n",
       "3                          0.224029  \n",
       "4                          0.131260  \n",
       "\n",
       "[5 rows x 315 columns]"
      ]
     },
     "execution_count": 145,
     "metadata": {},
     "output_type": "execute_result"
    }
   ],
   "source": [
    "features315_pd.head()"
   ]
  },
  {
   "cell_type": "code",
   "execution_count": 258,
   "metadata": {
    "collapsed": true
   },
   "outputs": [],
   "source": [
    "import lightgbm as lgb\n",
    "lgb_params2={\n",
    " 'learning_rate' : 0.01,\n",
    " 'n_estimators':819,\n",
    " 'max_depth':8,\n",
    " 'num_leaves':115,\n",
    " 'min_child_weight':0,\n",
    " 'subsample':0.8,\n",
    " 'colsample_bytree':0.8,\n",
    " 'min_child_samples':21,\n",
    " 'objective':'binary',\n",
    " 'reg_alpha':0.15,\n",
    " 'reg_lambda' : 0.01,\n",
    " 'num_class': 1,\n",
    " 'n_jobs':4,\n",
    " #class_weight =\"1\",\n",
    " 'random_state' :27}"
   ]
  },
  {
   "cell_type": "code",
   "execution_count": 259,
   "metadata": {
    "collapsed": false
   },
   "outputs": [
    {
     "data": {
      "text/plain": [
       "314"
      ]
     },
     "execution_count": 259,
     "metadata": {},
     "output_type": "execute_result"
    }
   ],
   "source": [
    "features315_name = set(features315_pd.columns.values) - set(['File_name'])\n",
    "len(features315_name)"
   ]
  },
  {
   "cell_type": "code",
   "execution_count": 260,
   "metadata": {
    "collapsed": true
   },
   "outputs": [],
   "source": [
    "train_df = features315_pd#features39_pd\n",
    "feature_name = features315_name"
   ]
  },
  {
   "cell_type": "code",
   "execution_count": 261,
   "metadata": {
    "collapsed": false
   },
   "outputs": [
    {
     "data": {
      "text/plain": [
       "0.0    4344\n",
       "1.0    2156\n",
       "Name: label1, dtype: int64"
      ]
     },
     "execution_count": 261,
     "metadata": {},
     "output_type": "execute_result"
    }
   ],
   "source": [
    "labels_pd[\"label1\"].value_counts()"
   ]
  },
  {
   "cell_type": "code",
   "execution_count": 262,
   "metadata": {
    "collapsed": true
   },
   "outputs": [],
   "source": [
    "train_labels = labels_pd[\"label1\"].values"
   ]
  },
  {
   "cell_type": "code",
   "execution_count": 263,
   "metadata": {
    "collapsed": false
   },
   "outputs": [
    {
     "name": "stdout",
     "output_type": "stream",
     "text": [
      "************************\n",
      "fold:  0  training\n",
      "Training until validation scores don't improve for 500 rounds.\n",
      "[200]\tvalid_0's binary_logloss: 0.381315\n",
      "[400]\tvalid_0's binary_logloss: 0.356224\n",
      "[600]\tvalid_0's binary_logloss: 0.35873\n",
      "[800]\tvalid_0's binary_logloss: 0.367165\n",
      "Did not meet early stopping. Best iteration is:\n",
      "[448]\tvalid_0's binary_logloss: 0.355348\n",
      "fold:  1  training\n",
      "Training until validation scores don't improve for 500 rounds.\n",
      "[200]\tvalid_0's binary_logloss: 0.397943\n",
      "[400]\tvalid_0's binary_logloss: 0.38387\n",
      "[600]\tvalid_0's binary_logloss: 0.38856\n",
      "[800]\tvalid_0's binary_logloss: 0.395279\n",
      "Did not meet early stopping. Best iteration is:\n",
      "[391]\tvalid_0's binary_logloss: 0.383233\n",
      "fold:  2  training\n",
      "Training until validation scores don't improve for 500 rounds.\n",
      "[200]\tvalid_0's binary_logloss: 0.377767\n",
      "[400]\tvalid_0's binary_logloss: 0.35837\n",
      "[600]\tvalid_0's binary_logloss: 0.356414\n",
      "[800]\tvalid_0's binary_logloss: 0.360494\n",
      "Did not meet early stopping. Best iteration is:\n",
      "[532]\tvalid_0's binary_logloss: 0.355326\n",
      "fold:  3  training\n",
      "Training until validation scores don't improve for 500 rounds.\n",
      "[200]\tvalid_0's binary_logloss: 0.344196\n",
      "[400]\tvalid_0's binary_logloss: 0.314782\n",
      "[600]\tvalid_0's binary_logloss: 0.312459\n",
      "[800]\tvalid_0's binary_logloss: 0.316647\n",
      "Did not meet early stopping. Best iteration is:\n",
      "[542]\tvalid_0's binary_logloss: 0.312129\n",
      "fold:  4  training\n",
      "Training until validation scores don't improve for 500 rounds.\n",
      "[200]\tvalid_0's binary_logloss: 0.373408\n",
      "[400]\tvalid_0's binary_logloss: 0.352765\n",
      "[600]\tvalid_0's binary_logloss: 0.354106\n",
      "[800]\tvalid_0's binary_logloss: 0.354764\n",
      "Did not meet early stopping. Best iteration is:\n",
      "[385]\tvalid_0's binary_logloss: 0.352663\n",
      "fold:  5  training\n",
      "Training until validation scores don't improve for 500 rounds.\n",
      "[200]\tvalid_0's binary_logloss: 0.433972\n",
      "[400]\tvalid_0's binary_logloss: 0.438914\n",
      "[600]\tvalid_0's binary_logloss: 0.457186\n",
      "Early stopping, best iteration is:\n",
      "[278]\tvalid_0's binary_logloss: 0.430468\n",
      "fold:  6  training\n",
      "Training until validation scores don't improve for 500 rounds.\n",
      "[200]\tvalid_0's binary_logloss: 0.387134\n",
      "[400]\tvalid_0's binary_logloss: 0.36632\n",
      "[600]\tvalid_0's binary_logloss: 0.3642\n",
      "[800]\tvalid_0's binary_logloss: 0.368523\n",
      "Did not meet early stopping. Best iteration is:\n",
      "[585]\tvalid_0's binary_logloss: 0.363971\n",
      "fold:  7  training\n",
      "Training until validation scores don't improve for 500 rounds.\n",
      "[200]\tvalid_0's binary_logloss: 0.365416\n",
      "[400]\tvalid_0's binary_logloss: 0.338212\n",
      "[600]\tvalid_0's binary_logloss: 0.336471\n",
      "[800]\tvalid_0's binary_logloss: 0.340138\n",
      "Did not meet early stopping. Best iteration is:\n",
      "[506]\tvalid_0's binary_logloss: 0.335877\n",
      "fold:  8  training\n",
      "Training until validation scores don't improve for 500 rounds.\n",
      "[200]\tvalid_0's binary_logloss: 0.356631\n",
      "[400]\tvalid_0's binary_logloss: 0.329062\n",
      "[600]\tvalid_0's binary_logloss: 0.328352\n",
      "[800]\tvalid_0's binary_logloss: 0.332753\n",
      "Did not meet early stopping. Best iteration is:\n",
      "[522]\tvalid_0's binary_logloss: 0.326829\n",
      "fold:  9  training\n",
      "Training until validation scores don't improve for 500 rounds.\n",
      "[200]\tvalid_0's binary_logloss: 0.39486\n",
      "[400]\tvalid_0's binary_logloss: 0.380715\n",
      "[600]\tvalid_0's binary_logloss: 0.387235\n",
      "[800]\tvalid_0's binary_logloss: 0.397646\n",
      "Did not meet early stopping. Best iteration is:\n",
      "[358]\tvalid_0's binary_logloss: 0.379932\n",
      "fold f1 score is 0.8097634373830693\n",
      "fold acc score is 0.8369230769230769\n"
     ]
    }
   ],
   "source": [
    "cv_pred_all = 0\n",
    "en_amount = 1\n",
    "for seed in range(en_amount):\n",
    "    print(\"************************\")\n",
    "    NFOLDS = 10\n",
    "    train_label = train_labels#train_data['score']\n",
    "    train_data_df = train_df[feature_name].astype('float64') #feature_name  columns\n",
    "    kfold = StratifiedKFold(n_splits=NFOLDS, shuffle=True, random_state=seed)\n",
    "    kf = kfold.split(train_data_df, train_label)\n",
    "\n",
    "    #train_data_use = train_data.drop(['uid','score','blk_list_flag'], axis=1)\n",
    "    #test_data_use = test_data.drop(['uid','blk_list_flag'], axis=1)\n",
    "    train_data_use = train_data_df\n",
    "    # cv_pred = np.zeros(test_data.shape[0])\n",
    "    valid_best_l2_all = 0\n",
    "    oof = np.zeros(train_data_df.shape[0])\n",
    "    feature_importance_df = pd.DataFrame()\n",
    "    count = 0\n",
    "    for i, (train_fold, validate) in enumerate(kf):\n",
    "        print('fold: ',i, ' training')\n",
    "        X_train, X_validate, label_train, label_validate = \\\n",
    "        train_data_use.iloc[train_fold, :], train_data_use.iloc[validate, :], \\\n",
    "        train_label[train_fold], train_label[validate]\n",
    "        #print(X_validate)\n",
    "        #break\n",
    "        dtrain = lgb.Dataset(X_train, label_train)\n",
    "        dvalid = lgb.Dataset(X_validate, label_validate, reference=dtrain)\n",
    "        bst = lgb.train(lgb_params2, dtrain, num_boost_round=819, valid_sets=dvalid, verbose_eval=200,early_stopping_rounds=500)\n",
    "        #cv_pred += bst.predict(test_data_use, num_iteration=bst.best_iteration)\n",
    "        #valid_best_l2_all += bst.best_score['valid_0']['l1']\n",
    "        k_pred = bst.predict(X_validate, num_iteration=bst.best_iteration)\n",
    "        #print(k_pred)\n",
    "        oof[validate] = [round(i) for i in k_pred]#np.argmax(k_pred,axis=1)\n",
    "        fold_importance_df = pd.DataFrame()\n",
    "        fold_importance_df[\"feature\"] = list(X_train.columns)\n",
    "        fold_importance_df[\"importance\"] = bst.feature_importance(importance_type='split', iteration=bst.best_iteration)\n",
    "        fold_importance_df[\"fold\"] = count + 1\n",
    "        feature_importance_df = pd.concat([feature_importance_df, fold_importance_df], axis=0)\n",
    "        count += 1\n",
    "\n",
    "oof = list(map(int, oof))\n",
    "fold_f1_error = f1_score(train_labels, oof, average='macro')\n",
    "print('fold f1 score is {0}'.format(fold_f1_error))\n",
    "\n",
    "from sklearn.metrics import accuracy_score\n",
    "fold_acc_error = accuracy_score(train_labels, oof)\n",
    "print('fold acc score is {0}'.format(fold_acc_error))\n"
   ]
  },
  {
   "cell_type": "code",
   "execution_count": 264,
   "metadata": {
    "collapsed": false
   },
   "outputs": [
    {
     "name": "stdout",
     "output_type": "stream",
     "text": [
      "fold f1 score is 0.8097634373830693\n",
      "fold acc score is 0.8369230769230769\n"
     ]
    }
   ],
   "source": [
    "oof = list(map(int, oof))\n",
    "fold_f1_error = f1_score(train_labels, oof, average='macro')\n",
    "print('fold f1 score is {0}'.format(fold_f1_error))\n",
    "\n",
    "from sklearn.metrics import accuracy_score\n",
    "fold_acc_error = accuracy_score(train_labels, oof)\n",
    "print('fold acc score is {0}'.format(fold_acc_error))\n"
   ]
  },
  {
   "cell_type": "code",
   "execution_count": 213,
   "metadata": {
    "collapsed": false
   },
   "outputs": [],
   "source": [
    "#0 - Normal; 0.86  0.89\n",
    "#1 - AF; 0.96  0.99\n",
    "#2 - FDAVB; 0.83 0.95\n",
    "#3 - CRBBB; 0.83  0.93\n",
    "#4 - LAFB; 0.787  0.98\n",
    "#5 - PVC; 0.91  0.97\n",
    "#6 - PAC; 0.92  0.97\n",
    "#7 - ER; 0.58   0.96\n",
    "#8 - TWC 0.80  0.83"
   ]
  },
  {
   "cell_type": "code",
   "execution_count": 265,
   "metadata": {
    "collapsed": false
   },
   "outputs": [
    {
     "data": {
      "text/plain": [
       "<lightgbm.basic.Booster at 0x7f7f6b0c8cc0>"
      ]
     },
     "execution_count": 265,
     "metadata": {},
     "output_type": "execute_result"
    }
   ],
   "source": [
    "bst.save_model(\"lightgbm_2_class_TWC.bin\")"
   ]
  },
  {
   "cell_type": "code",
   "execution_count": null,
   "metadata": {
    "collapsed": true
   },
   "outputs": [],
   "source": []
  },
  {
   "cell_type": "code",
   "execution_count": null,
   "metadata": {
    "collapsed": true
   },
   "outputs": [],
   "source": []
  },
  {
   "cell_type": "code",
   "execution_count": null,
   "metadata": {
    "collapsed": true
   },
   "outputs": [],
   "source": []
  },
  {
   "cell_type": "code",
   "execution_count": null,
   "metadata": {
    "collapsed": true
   },
   "outputs": [],
   "source": []
  },
  {
   "cell_type": "code",
   "execution_count": 217,
   "metadata": {
    "collapsed": true
   },
   "outputs": [],
   "source": [
    "if os.path.exists(\"val_features315_II.csv\"):\n",
    "    val_features315_pd = pd.read_csv(\"val_features315_II.csv\")\n",
    "else:\n",
    "    val_features315_pd = generate_features315(val_dataset_path,\"VAL001\")\n",
    "    for file_name in tqdm(val_files[1:]):\n",
    "        df_temp = generate_features315(val_dataset_path,file_name.strip('.mat'))\n",
    "        val_features315_pd = pd.concat([val_features315_pd,df_temp])\n",
    "    val_features315_pd.to_csv(\"val_features315_II.csv\",index=False)"
   ]
  },
  {
   "cell_type": "code",
   "execution_count": 238,
   "metadata": {
    "collapsed": true
   },
   "outputs": [],
   "source": [
    "kpred = []"
   ]
  },
  {
   "cell_type": "code",
   "execution_count": 266,
   "metadata": {
    "collapsed": false
   },
   "outputs": [],
   "source": [
    "import lightgbm as lgb \n",
    "from sklearn.metrics import confusion_matrix\n",
    "from sklearn.metrics import accuracy_score\n",
    "import warnings\n",
    "warnings.filterwarnings('ignore')\n",
    "model_path = './two_class_model/'\n",
    "bst = lgb.Booster(model_file=model_path+'lightgbm_2_class_TWC.bin')"
   ]
  },
  {
   "cell_type": "code",
   "execution_count": 267,
   "metadata": {
    "collapsed": false
   },
   "outputs": [
    {
     "data": {
      "text/plain": [
       "9"
      ]
     },
     "execution_count": 267,
     "metadata": {},
     "output_type": "execute_result"
    }
   ],
   "source": [
    "dfeatures = val_features315_pd[feature_name].values\n",
    "pred = bst.predict(dfeatures)\n",
    "kpred.append([int(round(i)) for i in pred])\n",
    "len(kpred)"
   ]
  },
  {
   "cell_type": "code",
   "execution_count": 272,
   "metadata": {
    "collapsed": false
   },
   "outputs": [],
   "source": [
    "pred = np.array(kpred).T"
   ]
  },
  {
   "cell_type": "code",
   "execution_count": 275,
   "metadata": {
    "collapsed": false
   },
   "outputs": [
    {
     "data": {
      "text/plain": [
       "array([[1, 0, 0, 0, 0, 0, 0, 0, 0],\n",
       "       [0, 0, 0, 1, 0, 0, 0, 0, 0],\n",
       "       [0, 1, 0, 0, 0, 0, 0, 0, 0],\n",
       "       [0, 0, 0, 0, 0, 0, 0, 0, 1],\n",
       "       [0, 0, 0, 0, 0, 0, 1, 0, 1],\n",
       "       [0, 1, 0, 0, 0, 0, 0, 0, 1],\n",
       "       [1, 0, 0, 0, 0, 0, 0, 0, 0],\n",
       "       [0, 0, 1, 0, 0, 0, 0, 0, 0],\n",
       "       [1, 0, 0, 0, 0, 0, 0, 0, 0],\n",
       "       [1, 0, 0, 0, 0, 0, 0, 0, 0],\n",
       "       [0, 0, 0, 0, 0, 0, 0, 0, 0],\n",
       "       [0, 0, 0, 1, 0, 0, 0, 0, 0],\n",
       "       [1, 0, 0, 0, 0, 0, 0, 0, 0],\n",
       "       [1, 0, 0, 0, 0, 0, 0, 0, 0],\n",
       "       [1, 0, 0, 0, 0, 0, 0, 0, 0],\n",
       "       [0, 1, 0, 0, 0, 0, 0, 0, 1],\n",
       "       [1, 0, 0, 0, 0, 0, 0, 0, 0],\n",
       "       [1, 0, 0, 0, 0, 0, 0, 0, 0],\n",
       "       [0, 0, 0, 0, 0, 0, 0, 0, 0],\n",
       "       [1, 0, 0, 0, 0, 0, 0, 0, 0]])"
      ]
     },
     "execution_count": 275,
     "metadata": {},
     "output_type": "execute_result"
    }
   ],
   "source": [
    "pred[:20]"
   ]
  },
  {
   "cell_type": "code",
   "execution_count": 285,
   "metadata": {
    "collapsed": false
   },
   "outputs": [],
   "source": [
    "an_pred = []\n",
    "for i in range(pred.shape[0]):\n",
    "    an_pred.append(list(np.hstack(np.where(pred[i]==1))))"
   ]
  },
  {
   "cell_type": "code",
   "execution_count": 287,
   "metadata": {
    "collapsed": true
   },
   "outputs": [],
   "source": [
    "import csv\n",
    "with open('answers.csv','w') as csvfile:\n",
    "    writer = csv.writer(csvfile)\n",
    "    writer.writerow(['File_name', 'label1', 'label2',\n",
    "                    'label3', 'label4', 'label5', 'label6', 'label7', 'label8'])\n",
    "    count = 0\n",
    "    for file_name in val_files:\n",
    "        if file_name.endswith('.mat'):\n",
    "            \n",
    "            record_name = file_name.strip('.mat')\n",
    "            answer = []\n",
    "            answer.append(record_name)\n",
    "            \n",
    "            result = an_pred[count]\n",
    "            \n",
    "            answer.extend(result)\n",
    "            for i in range(8-len(result)):\n",
    "                answer.append('')\n",
    "                \n",
    "            #print(answer)\n",
    "            count += 1\n",
    "            writer.writerow(answer)\n",
    "    csvfile.close()"
   ]
  },
  {
   "cell_type": "code",
   "execution_count": null,
   "metadata": {
    "collapsed": true
   },
   "outputs": [],
   "source": [
    "import csv\n",
    "\n",
    "dfeatures = val_features315_pd[feature_name].values\n",
    "kpred = bst.predict(dfeatures)\n",
    "\n",
    "pred = []\n",
    "for i in range(kpred.shape[0]):\n",
    "    pred.append( list(np.hstack(np.argwhere(kpred[i]>0.15))))\n",
    "    \n",
    "with open('answers.csv','w') as csvfile:\n",
    "    writer = csv.writer(csvfile)\n",
    "    writer.writerow(['File_name', 'label1', 'label2',\n",
    "                    'label3', 'label4', 'label5', 'label6', 'label7', 'label8'])\n",
    "    count = 0\n",
    "    for file_name in val_files:\n",
    "        if file_name.endswith('.mat'):\n",
    "            \n",
    "            record_name = file_name.strip('.mat')\n",
    "            answer = []\n",
    "            answer.append(record_name)\n",
    "            \n",
    "            result = pred[count]\n",
    "            \n",
    "            answer.extend(result)\n",
    "            for i in range(8-len(result)):\n",
    "                answer.append('')\n",
    "                \n",
    "            #print(answer)\n",
    "            count += 1\n",
    "            writer.writerow(answer)\n",
    "    csvfile.close()"
   ]
  },
  {
   "cell_type": "code",
   "execution_count": null,
   "metadata": {
    "collapsed": true
   },
   "outputs": [],
   "source": []
  }
 ],
 "metadata": {
  "anaconda-cloud": {},
  "kernelspec": {
   "display_name": "Python [conda root]",
   "language": "python",
   "name": "conda-root-py"
  },
  "language_info": {
   "codemirror_mode": {
    "name": "ipython",
    "version": 3
   },
   "file_extension": ".py",
   "mimetype": "text/x-python",
   "name": "python",
   "nbconvert_exporter": "python",
   "pygments_lexer": "ipython3",
   "version": "3.5.2"
  }
 },
 "nbformat": 4,
 "nbformat_minor": 1
}
