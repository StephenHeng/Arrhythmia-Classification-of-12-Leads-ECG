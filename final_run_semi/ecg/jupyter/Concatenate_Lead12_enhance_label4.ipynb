{
 "cells": [
  {
   "cell_type": "code",
   "execution_count": 1,
   "metadata": {
    "collapsed": false
   },
   "outputs": [
    {
     "name": "stderr",
     "output_type": "stream",
     "text": [
      "Using TensorFlow backend.\n"
     ]
    }
   ],
   "source": [
    "from resnet_ecg.utils import one_hot,get_batches\n",
    "from resnet_ecg.ecg_preprocess import ecg_preprocessing\n",
    "from resnet_ecg.densemodel import Net"
   ]
  },
  {
   "cell_type": "code",
   "execution_count": 2,
   "metadata": {
    "collapsed": true
   },
   "outputs": [],
   "source": [
    "from tqdm import tqdm\n",
    "import numpy as np\n",
    "import pandas as pd\n",
    "from utils import extract_basic_features\n",
    "\n",
    "import wfdb\n",
    "import os\n",
    "import wfdb.processing as wp\n",
    "import matplotlib.pyplot as plt\n",
    "from scipy import signal\n",
    "from utils import find_noise_features, extract_basic_features\n",
    "import shutil\n",
    "\n",
    "import time\n",
    "import random as rn\n",
    "#from lightgbm import LGBMClassifier\n",
    "from scipy import sparse\n",
    "from sklearn.metrics import f1_score\n",
    "from sklearn.model_selection import KFold,StratifiedKFold\n",
    "#from xgboost import XGBClassifier\n"
   ]
  },
  {
   "cell_type": "code",
   "execution_count": 3,
   "metadata": {
    "collapsed": true
   },
   "outputs": [],
   "source": [
    "from keras.utils import to_categorical\n",
    "from keras.optimizers import SGD,Adam\n",
    "from keras.callbacks import ModelCheckpoint, LearningRateScheduler,EarlyStopping,ReduceLROnPlateau\n",
    "import tensorflow as tf\n",
    "import keras.backend.tensorflow_backend as KTF\n",
    "from sklearn.model_selection import StratifiedKFold\n",
    "\n",
    "config = tf.ConfigProto(intra_op_parallelism_threads=1,inter_op_parallelism_threads=1)\n",
    "config.gpu_options.per_process_gpu_memory_fraction = 0.8\n",
    "\n",
    "session = tf.Session(config=config)\n",
    "\n",
    "        \n",
    "KTF.set_session(session )"
   ]
  },
  {
   "cell_type": "code",
   "execution_count": 4,
   "metadata": {
    "collapsed": true
   },
   "outputs": [],
   "source": [
    "os.environ['PYTHONHASHSEED'] = '0'\n",
    "\n",
    "np.random.seed(42)\n",
    "rn.seed(12345)\n",
    "\n",
    "tf.set_random_seed(1234)"
   ]
  },
  {
   "cell_type": "code",
   "execution_count": 5,
   "metadata": {
    "collapsed": true
   },
   "outputs": [],
   "source": [
    "import os\n",
    "import warnings\n",
    "warnings.filterwarnings(\"ignore\")\n",
    "import scipy.io as sio\n",
    "train_dataset_path = os.getcwd()+\"/Train/\"\n",
    "val_dataset_path = os.getcwd()+\"/Val/\""
   ]
  },
  {
   "cell_type": "code",
   "execution_count": 6,
   "metadata": {
    "collapsed": true
   },
   "outputs": [],
   "source": [
    "train_files = os.listdir(train_dataset_path)\n",
    "train_files.sort()\n",
    "val_files = os.listdir(val_dataset_path)\n",
    "val_files.sort()"
   ]
  },
  {
   "cell_type": "code",
   "execution_count": 7,
   "metadata": {
    "collapsed": false
   },
   "outputs": [
    {
     "data": {
      "text/html": [
       "<div>\n",
       "<style scoped>\n",
       "    .dataframe tbody tr th:only-of-type {\n",
       "        vertical-align: middle;\n",
       "    }\n",
       "\n",
       "    .dataframe tbody tr th {\n",
       "        vertical-align: top;\n",
       "    }\n",
       "\n",
       "    .dataframe thead th {\n",
       "        text-align: right;\n",
       "    }\n",
       "</style>\n",
       "<table border=\"1\" class=\"dataframe\">\n",
       "  <thead>\n",
       "    <tr style=\"text-align: right;\">\n",
       "      <th></th>\n",
       "      <th>File_name</th>\n",
       "      <th>label1</th>\n",
       "      <th>label2</th>\n",
       "      <th>label3</th>\n",
       "      <th>label4</th>\n",
       "      <th>label5</th>\n",
       "      <th>label6</th>\n",
       "      <th>label7</th>\n",
       "      <th>label8</th>\n",
       "    </tr>\n",
       "  </thead>\n",
       "  <tbody>\n",
       "    <tr>\n",
       "      <th>0</th>\n",
       "      <td>TRAIN0001</td>\n",
       "      <td>8</td>\n",
       "      <td>NaN</td>\n",
       "      <td>NaN</td>\n",
       "      <td>NaN</td>\n",
       "      <td>NaN</td>\n",
       "      <td>NaN</td>\n",
       "      <td>NaN</td>\n",
       "      <td>NaN</td>\n",
       "    </tr>\n",
       "    <tr>\n",
       "      <th>1</th>\n",
       "      <td>TRAIN0002</td>\n",
       "      <td>8</td>\n",
       "      <td>NaN</td>\n",
       "      <td>NaN</td>\n",
       "      <td>NaN</td>\n",
       "      <td>NaN</td>\n",
       "      <td>NaN</td>\n",
       "      <td>NaN</td>\n",
       "      <td>NaN</td>\n",
       "    </tr>\n",
       "    <tr>\n",
       "      <th>2</th>\n",
       "      <td>TRAIN0003</td>\n",
       "      <td>8</td>\n",
       "      <td>NaN</td>\n",
       "      <td>NaN</td>\n",
       "      <td>NaN</td>\n",
       "      <td>NaN</td>\n",
       "      <td>NaN</td>\n",
       "      <td>NaN</td>\n",
       "      <td>NaN</td>\n",
       "    </tr>\n",
       "    <tr>\n",
       "      <th>3</th>\n",
       "      <td>TRAIN0004</td>\n",
       "      <td>8</td>\n",
       "      <td>NaN</td>\n",
       "      <td>NaN</td>\n",
       "      <td>NaN</td>\n",
       "      <td>NaN</td>\n",
       "      <td>NaN</td>\n",
       "      <td>NaN</td>\n",
       "      <td>NaN</td>\n",
       "    </tr>\n",
       "    <tr>\n",
       "      <th>4</th>\n",
       "      <td>TRAIN0005</td>\n",
       "      <td>8</td>\n",
       "      <td>NaN</td>\n",
       "      <td>NaN</td>\n",
       "      <td>NaN</td>\n",
       "      <td>NaN</td>\n",
       "      <td>NaN</td>\n",
       "      <td>NaN</td>\n",
       "      <td>NaN</td>\n",
       "    </tr>\n",
       "  </tbody>\n",
       "</table>\n",
       "</div>"
      ],
      "text/plain": [
       "   File_name  label1  label2  label3  label4  label5  label6  label7  label8\n",
       "0  TRAIN0001       8     NaN     NaN     NaN     NaN     NaN     NaN     NaN\n",
       "1  TRAIN0002       8     NaN     NaN     NaN     NaN     NaN     NaN     NaN\n",
       "2  TRAIN0003       8     NaN     NaN     NaN     NaN     NaN     NaN     NaN\n",
       "3  TRAIN0004       8     NaN     NaN     NaN     NaN     NaN     NaN     NaN\n",
       "4  TRAIN0005       8     NaN     NaN     NaN     NaN     NaN     NaN     NaN"
      ]
     },
     "execution_count": 7,
     "metadata": {},
     "output_type": "execute_result"
    }
   ],
   "source": [
    "labels = pd.read_csv(\"reference.csv\")\n",
    "labels.head()"
   ]
  },
  {
   "cell_type": "code",
   "execution_count": 8,
   "metadata": {
    "collapsed": false
   },
   "outputs": [],
   "source": [
    "label4_list = labels[labels.label1==4]['label1'].index.tolist()"
   ]
  },
  {
   "cell_type": "code",
   "execution_count": 9,
   "metadata": {
    "collapsed": true
   },
   "outputs": [],
   "source": [
    "labels_en = pd.concat([labels,labels.loc[label4_list]])#[:6510]\n",
    "labels_en.sort_index(inplace=True)#.head(8)"
   ]
  },
  {
   "cell_type": "code",
   "execution_count": 10,
   "metadata": {
    "collapsed": true
   },
   "outputs": [],
   "source": [
    "def read_data_seg(data_path, split = \"Train\",preprocess=False,fs=500,newFs=256,winSecond=10,winNum=10,n_index=0):\n",
    "    \"\"\" Read data \"\"\"\n",
    "\n",
    "    # Fixed params\n",
    "    #n_index = 0\n",
    "    n_class = 9\n",
    "    winSize = winSecond*fs\n",
    "    new_winSize = winSecond*newFs\n",
    "    # Paths\n",
    "    path_signals = os.path.join(data_path, split)\n",
    "\n",
    "    # Read labels and one-hot encode\n",
    "    #label_path = os.path.join(data_path, \"reference.txt\")\n",
    "    #labels = pd.read_csv(label_path, sep='\\t',header = None)\n",
    "    #labels = pd.read_csv(\"reference.csv\")\n",
    "\n",
    "    # Read time-series data\n",
    "    channel_files = os.listdir(path_signals)\n",
    "    #print(channel_files)\n",
    "    channel_files.sort()\n",
    "    n_channels = 12#len(channel_files)\n",
    "    #posix = len(split) + 5\n",
    "\n",
    "    # Initiate array\n",
    "    list_of_channels = []\n",
    "    \n",
    "    X = np.zeros((len(channel_files), new_winSize, n_channels))\n",
    "    i_ch = 0\n",
    "    \n",
    "    channel_name = ['V6', 'aVF', 'I', 'V4', 'V2', 'aVL', 'V1','II', 'aVR', 'V3', 'III', 'V5']\n",
    "    channel_mid_name = ['II','aVR','V2','V5']\n",
    "    channel_post_name = ['III','aVF','V3','V6']\n",
    "    \n",
    "    for i_ch,fil_ch in enumerate(channel_files[:]):#tqdm\n",
    "        #print(fil_ch)\n",
    "        ecg = sio.loadmat(os.path.join(path_signals,fil_ch))\n",
    "        ecg_length = ecg[\"I\"].shape[1]\n",
    "        \n",
    "        if ecg_length > fs*winNum*winSecond:\n",
    "            print(\" too long !!!\",ecg_length)\n",
    "            ecg_length = fs*winNum*winSecond\n",
    "        if ecg_length < 4500:\n",
    "            print(\" too short !!!\",ecg_length)\n",
    "            break\n",
    "        \n",
    "        slide_steps = int((ecg_length- winSize)/winSecond)\n",
    "        \n",
    "        if ecg_length <= 4500:\n",
    "            slide_steps = 0\n",
    "            \n",
    "        ecg_channels = np.zeros((new_winSize, n_channels))\n",
    "        \n",
    "        for i_n,ch_name in enumerate(channel_name):\n",
    "\n",
    "            ecg_channels[:,i_n] = signal.resample(ecg[ch_name]\n",
    "                                                  [:,n_index*slide_steps:n_index*slide_steps+winSize].T\n",
    "                                                  ,new_winSize).T\n",
    "            if preprocess:\n",
    "                data = ecg_preprocessing(ecg_channels[:,i_n].reshape(1,new_winSize), 'sym8', 8, 3, newFs)\n",
    "                ecg_channels[:,i_n] = data[0]\n",
    "            else:\n",
    "                pass\n",
    "                ecg_channels[:,i_n] = ecg_channels[:,i_n]\n",
    "                \n",
    "        X[i_ch,:,:] = ecg_channels\n",
    "\n",
    "    return X"
   ]
  },
  {
   "cell_type": "code",
   "execution_count": 11,
   "metadata": {
    "collapsed": false
   },
   "outputs": [],
   "source": [
    "ecg12_seg0 = read_data_seg(os.getcwd(),n_index=0)\n",
    "ecg12_seg1 = read_data_seg(os.getcwd(),n_index=1)\n",
    "ecg12_seg2 = read_data_seg(os.getcwd(),n_index=2)\n",
    "ecg12_seg3 = read_data_seg(os.getcwd(),n_index=3)\n",
    "ecg12_seg4 = read_data_seg(os.getcwd(),n_index=4)"
   ]
  },
  {
   "cell_type": "code",
   "execution_count": 12,
   "metadata": {
    "collapsed": false
   },
   "outputs": [
    {
     "data": {
      "text/plain": [
       "(6500, 2560, 12)"
      ]
     },
     "execution_count": 12,
     "metadata": {},
     "output_type": "execute_result"
    }
   ],
   "source": [
    "ecg12_seg0.shape"
   ]
  },
  {
   "cell_type": "code",
   "execution_count": 13,
   "metadata": {
    "collapsed": true
   },
   "outputs": [],
   "source": [
    "ecg12_seg5 = read_data_seg(os.getcwd(),n_index=5)\n",
    "ecg12_seg6 = read_data_seg(os.getcwd(),n_index=6)\n",
    "ecg12_seg7 = read_data_seg(os.getcwd(),n_index=7)\n",
    "ecg12_seg8 = read_data_seg(os.getcwd(),n_index=8)\n",
    "ecg12_seg9 = read_data_seg(os.getcwd(),n_index=9)"
   ]
  },
  {
   "cell_type": "code",
   "execution_count": 14,
   "metadata": {
    "collapsed": false
   },
   "outputs": [
    {
     "data": {
      "text/plain": [
       "(6500, 2560, 12)"
      ]
     },
     "execution_count": 14,
     "metadata": {},
     "output_type": "execute_result"
    }
   ],
   "source": [
    "ecg12_seg9.shape"
   ]
  },
  {
   "cell_type": "code",
   "execution_count": 15,
   "metadata": {
    "collapsed": true
   },
   "outputs": [],
   "source": [
    "from keras.layers import Input\n",
    "from keras.models import Model,load_model"
   ]
  },
  {
   "cell_type": "code",
   "execution_count": 16,
   "metadata": {
    "collapsed": false
   },
   "outputs": [
    {
     "name": "stdout",
     "output_type": "stream",
     "text": [
      "Creating DenseNet 0.0.1\n",
      "#############################################\n",
      "Dense blocks: 3\n",
      "Layers per dense block: [2, 2, 2]\n",
      "#############################################\n",
      "WARNING:tensorflow:From /home/JDWorkSpace/vyuf0458/.local/lib/python3.5/site-packages/tensorflow/python/framework/op_def_library.py:263: colocate_with (from tensorflow.python.framework.ops) is deprecated and will be removed in a future version.\n",
      "Instructions for updating:\n",
      "Colocations handled automatically by placer.\n",
      "block::: 0\n",
      "WARNING:tensorflow:From /home/JDWorkSpace/uuser/anaconda3/lib/python3.5/site-packages/keras/backend/tensorflow_backend.py:3445: calling dropout (from tensorflow.python.ops.nn_ops) with keep_prob is deprecated and will be removed in a future version.\n",
      "Instructions for updating:\n",
      "Please use `rate` instead of `keep_prob`. Rate should be set to `rate = 1 - keep_prob`.\n",
      "block::: 1\n",
      "Creating DenseNet 0.0.1\n",
      "#############################################\n",
      "Dense blocks: 3\n",
      "Layers per dense block: [2, 2, 2]\n",
      "#############################################\n",
      "block::: 0\n",
      "block::: 1\n",
      "Creating DenseNet 0.0.1\n",
      "#############################################\n",
      "Dense blocks: 3\n",
      "Layers per dense block: [2, 2, 2]\n",
      "#############################################\n",
      "block::: 0\n",
      "block::: 1\n",
      "Creating DenseNet 0.0.1\n",
      "#############################################\n",
      "Dense blocks: 3\n",
      "Layers per dense block: [2, 2, 2]\n",
      "#############################################\n",
      "block::: 0\n",
      "block::: 1\n",
      "Creating DenseNet 0.0.1\n",
      "#############################################\n",
      "Dense blocks: 3\n",
      "Layers per dense block: [2, 2, 2]\n",
      "#############################################\n",
      "block::: 0\n",
      "block::: 1\n",
      "Creating DenseNet 0.0.1\n",
      "#############################################\n",
      "Dense blocks: 3\n",
      "Layers per dense block: [2, 2, 2]\n",
      "#############################################\n",
      "block::: 0\n",
      "block::: 1\n",
      "Creating DenseNet 0.0.1\n",
      "#############################################\n",
      "Dense blocks: 3\n",
      "Layers per dense block: [2, 2, 2]\n",
      "#############################################\n",
      "block::: 0\n",
      "block::: 1\n",
      "Creating DenseNet 0.0.1\n",
      "#############################################\n",
      "Dense blocks: 3\n",
      "Layers per dense block: [2, 2, 2]\n",
      "#############################################\n",
      "block::: 0\n",
      "block::: 1\n",
      "Creating DenseNet 0.0.1\n",
      "#############################################\n",
      "Dense blocks: 3\n",
      "Layers per dense block: [2, 2, 2]\n",
      "#############################################\n",
      "block::: 0\n",
      "block::: 1\n",
      "Creating DenseNet 0.0.1\n",
      "#############################################\n",
      "Dense blocks: 3\n",
      "Layers per dense block: [2, 2, 2]\n",
      "#############################################\n",
      "block::: 0\n",
      "block::: 1\n",
      "Tensor(\"flatten_1/Reshape:0\", shape=(?, ?), dtype=float32)\n"
     ]
    }
   ],
   "source": [
    "inputs0 = Input(shape=(2560,12))\n",
    "inputs1 = Input(shape=(2560,12))\n",
    "inputs2 = Input(shape=(2560,12))\n",
    "inputs3 = Input(shape=(2560,12))\n",
    "inputs4 = Input(shape=(2560,12))\n",
    "inputs5 = Input(shape=(2560,12))\n",
    "inputs6 = Input(shape=(2560,12))\n",
    "inputs7 = Input(shape=(2560,12))\n",
    "inputs8 = Input(shape=(2560,12))\n",
    "inputs9 = Input(shape=(2560,12))\n",
    "\n",
    "inputs_list = [inputs0,inputs1,inputs2,inputs3,inputs4,inputs5,inputs6,inputs7,inputs8,inputs9]\n",
    "\n",
    "net = Net()\n",
    "outputs = net.nnet(inputs_list,0.5,num_classes=9)\n",
    "model = Model(inputs =inputs_list,outputs=outputs )"
   ]
  },
  {
   "cell_type": "code",
   "execution_count": 17,
   "metadata": {
    "collapsed": false,
    "scrolled": true
   },
   "outputs": [
    {
     "name": "stdout",
     "output_type": "stream",
     "text": [
      "__________________________________________________________________________________________________\n",
      "Layer (type)                    Output Shape         Param #     Connected to                     \n",
      "==================================================================================================\n",
      "input_1 (InputLayer)            (None, 2560, 12)     0                                            \n",
      "__________________________________________________________________________________________________\n",
      "input_2 (InputLayer)            (None, 2560, 12)     0                                            \n",
      "__________________________________________________________________________________________________\n",
      "input_3 (InputLayer)            (None, 2560, 12)     0                                            \n",
      "__________________________________________________________________________________________________\n",
      "input_4 (InputLayer)            (None, 2560, 12)     0                                            \n",
      "__________________________________________________________________________________________________\n",
      "input_5 (InputLayer)            (None, 2560, 12)     0                                            \n",
      "__________________________________________________________________________________________________\n",
      "input_6 (InputLayer)            (None, 2560, 12)     0                                            \n",
      "__________________________________________________________________________________________________\n",
      "input_7 (InputLayer)            (None, 2560, 12)     0                                            \n",
      "__________________________________________________________________________________________________\n",
      "input_8 (InputLayer)            (None, 2560, 12)     0                                            \n",
      "__________________________________________________________________________________________________\n",
      "input_9 (InputLayer)            (None, 2560, 12)     0                                            \n",
      "__________________________________________________________________________________________________\n",
      "input_10 (InputLayer)           (None, 2560, 12)     0                                            \n",
      "__________________________________________________________________________________________________\n",
      "reshape_1 (Reshape)             (None, 2560, 12)     0           input_1[0][0]                    \n",
      "__________________________________________________________________________________________________\n",
      "reshape_2 (Reshape)             (None, 2560, 12)     0           input_2[0][0]                    \n",
      "__________________________________________________________________________________________________\n",
      "reshape_3 (Reshape)             (None, 2560, 12)     0           input_3[0][0]                    \n",
      "__________________________________________________________________________________________________\n",
      "reshape_4 (Reshape)             (None, 2560, 12)     0           input_4[0][0]                    \n",
      "__________________________________________________________________________________________________\n",
      "reshape_5 (Reshape)             (None, 2560, 12)     0           input_5[0][0]                    \n",
      "__________________________________________________________________________________________________\n",
      "reshape_6 (Reshape)             (None, 2560, 12)     0           input_6[0][0]                    \n",
      "__________________________________________________________________________________________________\n",
      "reshape_7 (Reshape)             (None, 2560, 12)     0           input_7[0][0]                    \n",
      "__________________________________________________________________________________________________\n",
      "reshape_8 (Reshape)             (None, 2560, 12)     0           input_8[0][0]                    \n",
      "__________________________________________________________________________________________________\n",
      "reshape_9 (Reshape)             (None, 2560, 12)     0           input_9[0][0]                    \n",
      "__________________________________________________________________________________________________\n",
      "reshape_10 (Reshape)            (None, 2560, 12)     0           input_10[0][0]                   \n",
      "__________________________________________________________________________________________________\n",
      "conv1d_1 (Conv1D)               (None, 2560, 16)     6144        reshape_1[0][0]                  \n",
      "__________________________________________________________________________________________________\n",
      "conv1d_12 (Conv1D)              (None, 2560, 16)     6144        reshape_2[0][0]                  \n",
      "__________________________________________________________________________________________________\n",
      "conv1d_23 (Conv1D)              (None, 2560, 16)     6144        reshape_3[0][0]                  \n",
      "__________________________________________________________________________________________________\n",
      "conv1d_34 (Conv1D)              (None, 2560, 16)     6144        reshape_4[0][0]                  \n",
      "__________________________________________________________________________________________________\n",
      "conv1d_45 (Conv1D)              (None, 2560, 16)     6144        reshape_5[0][0]                  \n",
      "__________________________________________________________________________________________________\n",
      "conv1d_56 (Conv1D)              (None, 2560, 16)     6144        reshape_6[0][0]                  \n",
      "__________________________________________________________________________________________________\n",
      "conv1d_67 (Conv1D)              (None, 2560, 16)     6144        reshape_7[0][0]                  \n",
      "__________________________________________________________________________________________________\n",
      "conv1d_78 (Conv1D)              (None, 2560, 16)     6144        reshape_8[0][0]                  \n",
      "__________________________________________________________________________________________________\n",
      "conv1d_89 (Conv1D)              (None, 2560, 16)     6144        reshape_9[0][0]                  \n",
      "__________________________________________________________________________________________________\n",
      "conv1d_100 (Conv1D)             (None, 2560, 16)     6144        reshape_10[0][0]                 \n",
      "__________________________________________________________________________________________________\n",
      "batch_normalization_1 (BatchNor (None, 2560, 16)     64          conv1d_1[0][0]                   \n",
      "__________________________________________________________________________________________________\n",
      "batch_normalization_12 (BatchNo (None, 2560, 16)     64          conv1d_12[0][0]                  \n",
      "__________________________________________________________________________________________________\n",
      "batch_normalization_23 (BatchNo (None, 2560, 16)     64          conv1d_23[0][0]                  \n",
      "__________________________________________________________________________________________________\n",
      "batch_normalization_34 (BatchNo (None, 2560, 16)     64          conv1d_34[0][0]                  \n",
      "__________________________________________________________________________________________________\n",
      "batch_normalization_45 (BatchNo (None, 2560, 16)     64          conv1d_45[0][0]                  \n",
      "__________________________________________________________________________________________________\n",
      "batch_normalization_56 (BatchNo (None, 2560, 16)     64          conv1d_56[0][0]                  \n",
      "__________________________________________________________________________________________________\n",
      "batch_normalization_67 (BatchNo (None, 2560, 16)     64          conv1d_67[0][0]                  \n",
      "__________________________________________________________________________________________________\n",
      "batch_normalization_78 (BatchNo (None, 2560, 16)     64          conv1d_78[0][0]                  \n",
      "__________________________________________________________________________________________________\n",
      "batch_normalization_89 (BatchNo (None, 2560, 16)     64          conv1d_89[0][0]                  \n",
      "__________________________________________________________________________________________________\n",
      "batch_normalization_100 (BatchN (None, 2560, 16)     64          conv1d_100[0][0]                 \n",
      "__________________________________________________________________________________________________\n",
      "activation_1 (Activation)       (None, 2560, 16)     0           batch_normalization_1[0][0]      \n",
      "__________________________________________________________________________________________________\n",
      "activation_12 (Activation)      (None, 2560, 16)     0           batch_normalization_12[0][0]     \n",
      "__________________________________________________________________________________________________\n",
      "activation_23 (Activation)      (None, 2560, 16)     0           batch_normalization_23[0][0]     \n",
      "__________________________________________________________________________________________________\n",
      "activation_34 (Activation)      (None, 2560, 16)     0           batch_normalization_34[0][0]     \n",
      "__________________________________________________________________________________________________\n",
      "activation_45 (Activation)      (None, 2560, 16)     0           batch_normalization_45[0][0]     \n",
      "__________________________________________________________________________________________________\n",
      "activation_56 (Activation)      (None, 2560, 16)     0           batch_normalization_56[0][0]     \n",
      "__________________________________________________________________________________________________\n",
      "activation_67 (Activation)      (None, 2560, 16)     0           batch_normalization_67[0][0]     \n",
      "__________________________________________________________________________________________________\n",
      "activation_78 (Activation)      (None, 2560, 16)     0           batch_normalization_78[0][0]     \n",
      "__________________________________________________________________________________________________\n",
      "activation_89 (Activation)      (None, 2560, 16)     0           batch_normalization_89[0][0]     \n",
      "__________________________________________________________________________________________________\n",
      "activation_100 (Activation)     (None, 2560, 16)     0           batch_normalization_100[0][0]    \n",
      "__________________________________________________________________________________________________\n",
      "conv1d_2 (Conv1D)               (None, 2560, 16)     8192        activation_1[0][0]               \n",
      "__________________________________________________________________________________________________\n",
      "conv1d_13 (Conv1D)              (None, 2560, 16)     8192        activation_12[0][0]              \n",
      "__________________________________________________________________________________________________\n",
      "conv1d_24 (Conv1D)              (None, 2560, 16)     8192        activation_23[0][0]              \n",
      "__________________________________________________________________________________________________\n",
      "conv1d_35 (Conv1D)              (None, 2560, 16)     8192        activation_34[0][0]              \n",
      "__________________________________________________________________________________________________\n",
      "conv1d_46 (Conv1D)              (None, 2560, 16)     8192        activation_45[0][0]              \n",
      "__________________________________________________________________________________________________\n",
      "conv1d_57 (Conv1D)              (None, 2560, 16)     8192        activation_56[0][0]              \n",
      "__________________________________________________________________________________________________\n",
      "conv1d_68 (Conv1D)              (None, 2560, 16)     8192        activation_67[0][0]              \n",
      "__________________________________________________________________________________________________\n",
      "conv1d_79 (Conv1D)              (None, 2560, 16)     8192        activation_78[0][0]              \n",
      "__________________________________________________________________________________________________\n",
      "conv1d_90 (Conv1D)              (None, 2560, 16)     8192        activation_89[0][0]              \n",
      "__________________________________________________________________________________________________\n",
      "conv1d_101 (Conv1D)             (None, 2560, 16)     8192        activation_100[0][0]             \n",
      "__________________________________________________________________________________________________\n",
      "dropout_1 (Dropout)             (None, 2560, 16)     0           conv1d_2[0][0]                   \n",
      "__________________________________________________________________________________________________\n",
      "dropout_11 (Dropout)            (None, 2560, 16)     0           conv1d_13[0][0]                  \n",
      "__________________________________________________________________________________________________\n",
      "dropout_21 (Dropout)            (None, 2560, 16)     0           conv1d_24[0][0]                  \n",
      "__________________________________________________________________________________________________\n",
      "dropout_31 (Dropout)            (None, 2560, 16)     0           conv1d_35[0][0]                  \n",
      "__________________________________________________________________________________________________\n",
      "dropout_41 (Dropout)            (None, 2560, 16)     0           conv1d_46[0][0]                  \n",
      "__________________________________________________________________________________________________\n",
      "dropout_51 (Dropout)            (None, 2560, 16)     0           conv1d_57[0][0]                  \n",
      "__________________________________________________________________________________________________\n",
      "dropout_61 (Dropout)            (None, 2560, 16)     0           conv1d_68[0][0]                  \n",
      "__________________________________________________________________________________________________\n",
      "dropout_71 (Dropout)            (None, 2560, 16)     0           conv1d_79[0][0]                  \n",
      "__________________________________________________________________________________________________\n",
      "dropout_81 (Dropout)            (None, 2560, 16)     0           conv1d_90[0][0]                  \n",
      "__________________________________________________________________________________________________\n",
      "dropout_91 (Dropout)            (None, 2560, 16)     0           conv1d_101[0][0]                 \n",
      "__________________________________________________________________________________________________\n",
      "concatenate_1 (Concatenate)     (None, 2560, 32)     0           conv1d_1[0][0]                   \n",
      "                                                                 dropout_1[0][0]                  \n",
      "__________________________________________________________________________________________________\n",
      "concatenate_7 (Concatenate)     (None, 2560, 32)     0           conv1d_12[0][0]                  \n",
      "                                                                 dropout_11[0][0]                 \n",
      "__________________________________________________________________________________________________\n",
      "concatenate_13 (Concatenate)    (None, 2560, 32)     0           conv1d_23[0][0]                  \n",
      "                                                                 dropout_21[0][0]                 \n",
      "__________________________________________________________________________________________________\n",
      "concatenate_19 (Concatenate)    (None, 2560, 32)     0           conv1d_34[0][0]                  \n",
      "                                                                 dropout_31[0][0]                 \n",
      "__________________________________________________________________________________________________\n",
      "concatenate_25 (Concatenate)    (None, 2560, 32)     0           conv1d_45[0][0]                  \n",
      "                                                                 dropout_41[0][0]                 \n",
      "__________________________________________________________________________________________________\n",
      "concatenate_31 (Concatenate)    (None, 2560, 32)     0           conv1d_56[0][0]                  \n",
      "                                                                 dropout_51[0][0]                 \n",
      "__________________________________________________________________________________________________\n",
      "concatenate_37 (Concatenate)    (None, 2560, 32)     0           conv1d_67[0][0]                  \n",
      "                                                                 dropout_61[0][0]                 \n",
      "__________________________________________________________________________________________________\n",
      "concatenate_43 (Concatenate)    (None, 2560, 32)     0           conv1d_78[0][0]                  \n",
      "                                                                 dropout_71[0][0]                 \n",
      "__________________________________________________________________________________________________\n",
      "concatenate_49 (Concatenate)    (None, 2560, 32)     0           conv1d_89[0][0]                  \n",
      "                                                                 dropout_81[0][0]                 \n",
      "__________________________________________________________________________________________________\n",
      "concatenate_55 (Concatenate)    (None, 2560, 32)     0           conv1d_100[0][0]                 \n",
      "                                                                 dropout_91[0][0]                 \n",
      "__________________________________________________________________________________________________\n",
      "batch_normalization_2 (BatchNor (None, 2560, 32)     128         concatenate_1[0][0]              \n",
      "__________________________________________________________________________________________________\n",
      "batch_normalization_13 (BatchNo (None, 2560, 32)     128         concatenate_7[0][0]              \n",
      "__________________________________________________________________________________________________\n",
      "batch_normalization_24 (BatchNo (None, 2560, 32)     128         concatenate_13[0][0]             \n",
      "__________________________________________________________________________________________________\n",
      "batch_normalization_35 (BatchNo (None, 2560, 32)     128         concatenate_19[0][0]             \n",
      "__________________________________________________________________________________________________\n",
      "batch_normalization_46 (BatchNo (None, 2560, 32)     128         concatenate_25[0][0]             \n",
      "__________________________________________________________________________________________________\n",
      "batch_normalization_57 (BatchNo (None, 2560, 32)     128         concatenate_31[0][0]             \n",
      "__________________________________________________________________________________________________\n",
      "batch_normalization_68 (BatchNo (None, 2560, 32)     128         concatenate_37[0][0]             \n",
      "__________________________________________________________________________________________________\n",
      "batch_normalization_79 (BatchNo (None, 2560, 32)     128         concatenate_43[0][0]             \n",
      "__________________________________________________________________________________________________\n",
      "batch_normalization_90 (BatchNo (None, 2560, 32)     128         concatenate_49[0][0]             \n",
      "__________________________________________________________________________________________________\n",
      "batch_normalization_101 (BatchN (None, 2560, 32)     128         concatenate_55[0][0]             \n",
      "__________________________________________________________________________________________________\n",
      "activation_2 (Activation)       (None, 2560, 32)     0           batch_normalization_2[0][0]      \n",
      "__________________________________________________________________________________________________\n",
      "activation_13 (Activation)      (None, 2560, 32)     0           batch_normalization_13[0][0]     \n",
      "__________________________________________________________________________________________________\n",
      "activation_24 (Activation)      (None, 2560, 32)     0           batch_normalization_24[0][0]     \n",
      "__________________________________________________________________________________________________\n",
      "activation_35 (Activation)      (None, 2560, 32)     0           batch_normalization_35[0][0]     \n",
      "__________________________________________________________________________________________________\n",
      "activation_46 (Activation)      (None, 2560, 32)     0           batch_normalization_46[0][0]     \n",
      "__________________________________________________________________________________________________\n",
      "activation_57 (Activation)      (None, 2560, 32)     0           batch_normalization_57[0][0]     \n",
      "__________________________________________________________________________________________________\n",
      "activation_68 (Activation)      (None, 2560, 32)     0           batch_normalization_68[0][0]     \n",
      "__________________________________________________________________________________________________\n",
      "activation_79 (Activation)      (None, 2560, 32)     0           batch_normalization_79[0][0]     \n",
      "__________________________________________________________________________________________________\n",
      "activation_90 (Activation)      (None, 2560, 32)     0           batch_normalization_90[0][0]     \n",
      "__________________________________________________________________________________________________\n",
      "activation_101 (Activation)     (None, 2560, 32)     0           batch_normalization_101[0][0]    \n",
      "__________________________________________________________________________________________________\n",
      "conv1d_3 (Conv1D)               (None, 2560, 16)     16384       activation_2[0][0]               \n",
      "__________________________________________________________________________________________________\n",
      "conv1d_14 (Conv1D)              (None, 2560, 16)     16384       activation_13[0][0]              \n",
      "__________________________________________________________________________________________________\n",
      "conv1d_25 (Conv1D)              (None, 2560, 16)     16384       activation_24[0][0]              \n",
      "__________________________________________________________________________________________________\n",
      "conv1d_36 (Conv1D)              (None, 2560, 16)     16384       activation_35[0][0]              \n",
      "__________________________________________________________________________________________________\n",
      "conv1d_47 (Conv1D)              (None, 2560, 16)     16384       activation_46[0][0]              \n",
      "__________________________________________________________________________________________________\n",
      "conv1d_58 (Conv1D)              (None, 2560, 16)     16384       activation_57[0][0]              \n",
      "__________________________________________________________________________________________________\n",
      "conv1d_69 (Conv1D)              (None, 2560, 16)     16384       activation_68[0][0]              \n",
      "__________________________________________________________________________________________________\n",
      "conv1d_80 (Conv1D)              (None, 2560, 16)     16384       activation_79[0][0]              \n",
      "__________________________________________________________________________________________________\n",
      "conv1d_91 (Conv1D)              (None, 2560, 16)     16384       activation_90[0][0]              \n",
      "__________________________________________________________________________________________________\n",
      "conv1d_102 (Conv1D)             (None, 2560, 16)     16384       activation_101[0][0]             \n",
      "__________________________________________________________________________________________________\n",
      "dropout_2 (Dropout)             (None, 2560, 16)     0           conv1d_3[0][0]                   \n",
      "__________________________________________________________________________________________________\n",
      "dropout_12 (Dropout)            (None, 2560, 16)     0           conv1d_14[0][0]                  \n",
      "__________________________________________________________________________________________________\n",
      "dropout_22 (Dropout)            (None, 2560, 16)     0           conv1d_25[0][0]                  \n",
      "__________________________________________________________________________________________________\n",
      "dropout_32 (Dropout)            (None, 2560, 16)     0           conv1d_36[0][0]                  \n",
      "__________________________________________________________________________________________________\n",
      "dropout_42 (Dropout)            (None, 2560, 16)     0           conv1d_47[0][0]                  \n",
      "__________________________________________________________________________________________________\n",
      "dropout_52 (Dropout)            (None, 2560, 16)     0           conv1d_58[0][0]                  \n",
      "__________________________________________________________________________________________________\n",
      "dropout_62 (Dropout)            (None, 2560, 16)     0           conv1d_69[0][0]                  \n",
      "__________________________________________________________________________________________________\n",
      "dropout_72 (Dropout)            (None, 2560, 16)     0           conv1d_80[0][0]                  \n",
      "__________________________________________________________________________________________________\n",
      "dropout_82 (Dropout)            (None, 2560, 16)     0           conv1d_91[0][0]                  \n",
      "__________________________________________________________________________________________________\n",
      "dropout_92 (Dropout)            (None, 2560, 16)     0           conv1d_102[0][0]                 \n",
      "__________________________________________________________________________________________________\n",
      "concatenate_2 (Concatenate)     (None, 2560, 48)     0           conv1d_1[0][0]                   \n",
      "                                                                 dropout_1[0][0]                  \n",
      "                                                                 dropout_2[0][0]                  \n",
      "__________________________________________________________________________________________________\n",
      "concatenate_8 (Concatenate)     (None, 2560, 48)     0           conv1d_12[0][0]                  \n",
      "                                                                 dropout_11[0][0]                 \n",
      "                                                                 dropout_12[0][0]                 \n",
      "__________________________________________________________________________________________________\n",
      "concatenate_14 (Concatenate)    (None, 2560, 48)     0           conv1d_23[0][0]                  \n",
      "                                                                 dropout_21[0][0]                 \n",
      "                                                                 dropout_22[0][0]                 \n",
      "__________________________________________________________________________________________________\n",
      "concatenate_20 (Concatenate)    (None, 2560, 48)     0           conv1d_34[0][0]                  \n",
      "                                                                 dropout_31[0][0]                 \n",
      "                                                                 dropout_32[0][0]                 \n",
      "__________________________________________________________________________________________________\n",
      "concatenate_26 (Concatenate)    (None, 2560, 48)     0           conv1d_45[0][0]                  \n",
      "                                                                 dropout_41[0][0]                 \n",
      "                                                                 dropout_42[0][0]                 \n",
      "__________________________________________________________________________________________________\n",
      "concatenate_32 (Concatenate)    (None, 2560, 48)     0           conv1d_56[0][0]                  \n",
      "                                                                 dropout_51[0][0]                 \n",
      "                                                                 dropout_52[0][0]                 \n",
      "__________________________________________________________________________________________________\n",
      "concatenate_38 (Concatenate)    (None, 2560, 48)     0           conv1d_67[0][0]                  \n",
      "                                                                 dropout_61[0][0]                 \n",
      "                                                                 dropout_62[0][0]                 \n",
      "__________________________________________________________________________________________________\n",
      "concatenate_44 (Concatenate)    (None, 2560, 48)     0           conv1d_78[0][0]                  \n",
      "                                                                 dropout_71[0][0]                 \n",
      "                                                                 dropout_72[0][0]                 \n",
      "__________________________________________________________________________________________________\n",
      "concatenate_50 (Concatenate)    (None, 2560, 48)     0           conv1d_89[0][0]                  \n",
      "                                                                 dropout_81[0][0]                 \n",
      "                                                                 dropout_82[0][0]                 \n",
      "__________________________________________________________________________________________________\n",
      "concatenate_56 (Concatenate)    (None, 2560, 48)     0           conv1d_100[0][0]                 \n",
      "                                                                 dropout_91[0][0]                 \n",
      "                                                                 dropout_92[0][0]                 \n",
      "__________________________________________________________________________________________________\n",
      "batch_normalization_3 (BatchNor (None, 2560, 48)     192         concatenate_2[0][0]              \n",
      "__________________________________________________________________________________________________\n",
      "batch_normalization_14 (BatchNo (None, 2560, 48)     192         concatenate_8[0][0]              \n",
      "__________________________________________________________________________________________________\n",
      "batch_normalization_25 (BatchNo (None, 2560, 48)     192         concatenate_14[0][0]             \n",
      "__________________________________________________________________________________________________\n",
      "batch_normalization_36 (BatchNo (None, 2560, 48)     192         concatenate_20[0][0]             \n",
      "__________________________________________________________________________________________________\n",
      "batch_normalization_47 (BatchNo (None, 2560, 48)     192         concatenate_26[0][0]             \n",
      "__________________________________________________________________________________________________\n",
      "batch_normalization_58 (BatchNo (None, 2560, 48)     192         concatenate_32[0][0]             \n",
      "__________________________________________________________________________________________________\n",
      "batch_normalization_69 (BatchNo (None, 2560, 48)     192         concatenate_38[0][0]             \n",
      "__________________________________________________________________________________________________\n",
      "batch_normalization_80 (BatchNo (None, 2560, 48)     192         concatenate_44[0][0]             \n",
      "__________________________________________________________________________________________________\n",
      "batch_normalization_91 (BatchNo (None, 2560, 48)     192         concatenate_50[0][0]             \n",
      "__________________________________________________________________________________________________\n",
      "batch_normalization_102 (BatchN (None, 2560, 48)     192         concatenate_56[0][0]             \n",
      "__________________________________________________________________________________________________\n",
      "activation_3 (Activation)       (None, 2560, 48)     0           batch_normalization_3[0][0]      \n",
      "__________________________________________________________________________________________________\n",
      "activation_14 (Activation)      (None, 2560, 48)     0           batch_normalization_14[0][0]     \n",
      "__________________________________________________________________________________________________\n",
      "activation_25 (Activation)      (None, 2560, 48)     0           batch_normalization_25[0][0]     \n",
      "__________________________________________________________________________________________________\n",
      "activation_36 (Activation)      (None, 2560, 48)     0           batch_normalization_36[0][0]     \n",
      "__________________________________________________________________________________________________\n",
      "activation_47 (Activation)      (None, 2560, 48)     0           batch_normalization_47[0][0]     \n",
      "__________________________________________________________________________________________________\n",
      "activation_58 (Activation)      (None, 2560, 48)     0           batch_normalization_58[0][0]     \n",
      "__________________________________________________________________________________________________\n",
      "activation_69 (Activation)      (None, 2560, 48)     0           batch_normalization_69[0][0]     \n",
      "__________________________________________________________________________________________________\n",
      "activation_80 (Activation)      (None, 2560, 48)     0           batch_normalization_80[0][0]     \n",
      "__________________________________________________________________________________________________\n",
      "activation_91 (Activation)      (None, 2560, 48)     0           batch_normalization_91[0][0]     \n",
      "__________________________________________________________________________________________________\n",
      "activation_102 (Activation)     (None, 2560, 48)     0           batch_normalization_102[0][0]    \n",
      "__________________________________________________________________________________________________\n",
      "conv1d_4 (Conv1D)               (None, 1280, 24)     36864       activation_3[0][0]               \n",
      "__________________________________________________________________________________________________\n",
      "conv1d_15 (Conv1D)              (None, 1280, 24)     36864       activation_14[0][0]              \n",
      "__________________________________________________________________________________________________\n",
      "conv1d_26 (Conv1D)              (None, 1280, 24)     36864       activation_25[0][0]              \n",
      "__________________________________________________________________________________________________\n",
      "conv1d_37 (Conv1D)              (None, 1280, 24)     36864       activation_36[0][0]              \n",
      "__________________________________________________________________________________________________\n",
      "conv1d_48 (Conv1D)              (None, 1280, 24)     36864       activation_47[0][0]              \n",
      "__________________________________________________________________________________________________\n",
      "conv1d_59 (Conv1D)              (None, 1280, 24)     36864       activation_58[0][0]              \n",
      "__________________________________________________________________________________________________\n",
      "conv1d_70 (Conv1D)              (None, 1280, 24)     36864       activation_69[0][0]              \n",
      "__________________________________________________________________________________________________\n",
      "conv1d_81 (Conv1D)              (None, 1280, 24)     36864       activation_80[0][0]              \n",
      "__________________________________________________________________________________________________\n",
      "conv1d_92 (Conv1D)              (None, 1280, 24)     36864       activation_91[0][0]              \n",
      "__________________________________________________________________________________________________\n",
      "conv1d_103 (Conv1D)             (None, 1280, 24)     36864       activation_102[0][0]             \n",
      "__________________________________________________________________________________________________\n",
      "dropout_3 (Dropout)             (None, 1280, 24)     0           conv1d_4[0][0]                   \n",
      "__________________________________________________________________________________________________\n",
      "dropout_13 (Dropout)            (None, 1280, 24)     0           conv1d_15[0][0]                  \n",
      "__________________________________________________________________________________________________\n",
      "dropout_23 (Dropout)            (None, 1280, 24)     0           conv1d_26[0][0]                  \n",
      "__________________________________________________________________________________________________\n",
      "dropout_33 (Dropout)            (None, 1280, 24)     0           conv1d_37[0][0]                  \n",
      "__________________________________________________________________________________________________\n",
      "dropout_43 (Dropout)            (None, 1280, 24)     0           conv1d_48[0][0]                  \n",
      "__________________________________________________________________________________________________\n",
      "dropout_53 (Dropout)            (None, 1280, 24)     0           conv1d_59[0][0]                  \n",
      "__________________________________________________________________________________________________\n",
      "dropout_63 (Dropout)            (None, 1280, 24)     0           conv1d_70[0][0]                  \n",
      "__________________________________________________________________________________________________\n",
      "dropout_73 (Dropout)            (None, 1280, 24)     0           conv1d_81[0][0]                  \n",
      "__________________________________________________________________________________________________\n",
      "dropout_83 (Dropout)            (None, 1280, 24)     0           conv1d_92[0][0]                  \n",
      "__________________________________________________________________________________________________\n",
      "dropout_93 (Dropout)            (None, 1280, 24)     0           conv1d_103[0][0]                 \n",
      "__________________________________________________________________________________________________\n",
      "average_pooling1d_1 (AveragePoo (None, 640, 24)      0           dropout_3[0][0]                  \n",
      "__________________________________________________________________________________________________\n",
      "average_pooling1d_4 (AveragePoo (None, 640, 24)      0           dropout_13[0][0]                 \n",
      "__________________________________________________________________________________________________\n",
      "average_pooling1d_7 (AveragePoo (None, 640, 24)      0           dropout_23[0][0]                 \n",
      "__________________________________________________________________________________________________\n",
      "average_pooling1d_10 (AveragePo (None, 640, 24)      0           dropout_33[0][0]                 \n",
      "__________________________________________________________________________________________________\n",
      "average_pooling1d_13 (AveragePo (None, 640, 24)      0           dropout_43[0][0]                 \n",
      "__________________________________________________________________________________________________\n",
      "average_pooling1d_16 (AveragePo (None, 640, 24)      0           dropout_53[0][0]                 \n",
      "__________________________________________________________________________________________________\n",
      "average_pooling1d_19 (AveragePo (None, 640, 24)      0           dropout_63[0][0]                 \n",
      "__________________________________________________________________________________________________\n",
      "average_pooling1d_22 (AveragePo (None, 640, 24)      0           dropout_73[0][0]                 \n",
      "__________________________________________________________________________________________________\n",
      "average_pooling1d_25 (AveragePo (None, 640, 24)      0           dropout_83[0][0]                 \n",
      "__________________________________________________________________________________________________\n",
      "average_pooling1d_28 (AveragePo (None, 640, 24)      0           dropout_93[0][0]                 \n",
      "__________________________________________________________________________________________________\n",
      "batch_normalization_4 (BatchNor (None, 640, 24)      96          average_pooling1d_1[0][0]        \n",
      "__________________________________________________________________________________________________\n",
      "batch_normalization_15 (BatchNo (None, 640, 24)      96          average_pooling1d_4[0][0]        \n",
      "__________________________________________________________________________________________________\n",
      "batch_normalization_26 (BatchNo (None, 640, 24)      96          average_pooling1d_7[0][0]        \n",
      "__________________________________________________________________________________________________\n",
      "batch_normalization_37 (BatchNo (None, 640, 24)      96          average_pooling1d_10[0][0]       \n",
      "__________________________________________________________________________________________________\n",
      "batch_normalization_48 (BatchNo (None, 640, 24)      96          average_pooling1d_13[0][0]       \n",
      "__________________________________________________________________________________________________\n",
      "batch_normalization_59 (BatchNo (None, 640, 24)      96          average_pooling1d_16[0][0]       \n",
      "__________________________________________________________________________________________________\n",
      "batch_normalization_70 (BatchNo (None, 640, 24)      96          average_pooling1d_19[0][0]       \n",
      "__________________________________________________________________________________________________\n",
      "batch_normalization_81 (BatchNo (None, 640, 24)      96          average_pooling1d_22[0][0]       \n",
      "__________________________________________________________________________________________________\n",
      "batch_normalization_92 (BatchNo (None, 640, 24)      96          average_pooling1d_25[0][0]       \n",
      "__________________________________________________________________________________________________\n",
      "batch_normalization_103 (BatchN (None, 640, 24)      96          average_pooling1d_28[0][0]       \n",
      "__________________________________________________________________________________________________\n",
      "activation_4 (Activation)       (None, 640, 24)      0           batch_normalization_4[0][0]      \n",
      "__________________________________________________________________________________________________\n",
      "activation_15 (Activation)      (None, 640, 24)      0           batch_normalization_15[0][0]     \n",
      "__________________________________________________________________________________________________\n",
      "activation_26 (Activation)      (None, 640, 24)      0           batch_normalization_26[0][0]     \n",
      "__________________________________________________________________________________________________\n",
      "activation_37 (Activation)      (None, 640, 24)      0           batch_normalization_37[0][0]     \n",
      "__________________________________________________________________________________________________\n",
      "activation_48 (Activation)      (None, 640, 24)      0           batch_normalization_48[0][0]     \n",
      "__________________________________________________________________________________________________\n",
      "activation_59 (Activation)      (None, 640, 24)      0           batch_normalization_59[0][0]     \n",
      "__________________________________________________________________________________________________\n",
      "activation_70 (Activation)      (None, 640, 24)      0           batch_normalization_70[0][0]     \n",
      "__________________________________________________________________________________________________\n",
      "activation_81 (Activation)      (None, 640, 24)      0           batch_normalization_81[0][0]     \n",
      "__________________________________________________________________________________________________\n",
      "activation_92 (Activation)      (None, 640, 24)      0           batch_normalization_92[0][0]     \n",
      "__________________________________________________________________________________________________\n",
      "activation_103 (Activation)     (None, 640, 24)      0           batch_normalization_103[0][0]    \n",
      "__________________________________________________________________________________________________\n",
      "conv1d_5 (Conv1D)               (None, 640, 16)      12288       activation_4[0][0]               \n",
      "__________________________________________________________________________________________________\n",
      "conv1d_16 (Conv1D)              (None, 640, 16)      12288       activation_15[0][0]              \n",
      "__________________________________________________________________________________________________\n",
      "conv1d_27 (Conv1D)              (None, 640, 16)      12288       activation_26[0][0]              \n",
      "__________________________________________________________________________________________________\n",
      "conv1d_38 (Conv1D)              (None, 640, 16)      12288       activation_37[0][0]              \n",
      "__________________________________________________________________________________________________\n",
      "conv1d_49 (Conv1D)              (None, 640, 16)      12288       activation_48[0][0]              \n",
      "__________________________________________________________________________________________________\n",
      "conv1d_60 (Conv1D)              (None, 640, 16)      12288       activation_59[0][0]              \n",
      "__________________________________________________________________________________________________\n",
      "conv1d_71 (Conv1D)              (None, 640, 16)      12288       activation_70[0][0]              \n",
      "__________________________________________________________________________________________________\n",
      "conv1d_82 (Conv1D)              (None, 640, 16)      12288       activation_81[0][0]              \n",
      "__________________________________________________________________________________________________\n",
      "conv1d_93 (Conv1D)              (None, 640, 16)      12288       activation_92[0][0]              \n",
      "__________________________________________________________________________________________________\n",
      "conv1d_104 (Conv1D)             (None, 640, 16)      12288       activation_103[0][0]             \n",
      "__________________________________________________________________________________________________\n",
      "dropout_4 (Dropout)             (None, 640, 16)      0           conv1d_5[0][0]                   \n",
      "__________________________________________________________________________________________________\n",
      "dropout_14 (Dropout)            (None, 640, 16)      0           conv1d_16[0][0]                  \n",
      "__________________________________________________________________________________________________\n",
      "dropout_24 (Dropout)            (None, 640, 16)      0           conv1d_27[0][0]                  \n",
      "__________________________________________________________________________________________________\n",
      "dropout_34 (Dropout)            (None, 640, 16)      0           conv1d_38[0][0]                  \n",
      "__________________________________________________________________________________________________\n",
      "dropout_44 (Dropout)            (None, 640, 16)      0           conv1d_49[0][0]                  \n",
      "__________________________________________________________________________________________________\n",
      "dropout_54 (Dropout)            (None, 640, 16)      0           conv1d_60[0][0]                  \n",
      "__________________________________________________________________________________________________\n",
      "dropout_64 (Dropout)            (None, 640, 16)      0           conv1d_71[0][0]                  \n",
      "__________________________________________________________________________________________________\n",
      "dropout_74 (Dropout)            (None, 640, 16)      0           conv1d_82[0][0]                  \n",
      "__________________________________________________________________________________________________\n",
      "dropout_84 (Dropout)            (None, 640, 16)      0           conv1d_93[0][0]                  \n",
      "__________________________________________________________________________________________________\n",
      "dropout_94 (Dropout)            (None, 640, 16)      0           conv1d_104[0][0]                 \n",
      "__________________________________________________________________________________________________\n",
      "concatenate_3 (Concatenate)     (None, 640, 40)      0           average_pooling1d_1[0][0]        \n",
      "                                                                 dropout_4[0][0]                  \n",
      "__________________________________________________________________________________________________\n",
      "concatenate_9 (Concatenate)     (None, 640, 40)      0           average_pooling1d_4[0][0]        \n",
      "                                                                 dropout_14[0][0]                 \n",
      "__________________________________________________________________________________________________\n",
      "concatenate_15 (Concatenate)    (None, 640, 40)      0           average_pooling1d_7[0][0]        \n",
      "                                                                 dropout_24[0][0]                 \n",
      "__________________________________________________________________________________________________\n",
      "concatenate_21 (Concatenate)    (None, 640, 40)      0           average_pooling1d_10[0][0]       \n",
      "                                                                 dropout_34[0][0]                 \n",
      "__________________________________________________________________________________________________\n",
      "concatenate_27 (Concatenate)    (None, 640, 40)      0           average_pooling1d_13[0][0]       \n",
      "                                                                 dropout_44[0][0]                 \n",
      "__________________________________________________________________________________________________\n",
      "concatenate_33 (Concatenate)    (None, 640, 40)      0           average_pooling1d_16[0][0]       \n",
      "                                                                 dropout_54[0][0]                 \n",
      "__________________________________________________________________________________________________\n",
      "concatenate_39 (Concatenate)    (None, 640, 40)      0           average_pooling1d_19[0][0]       \n",
      "                                                                 dropout_64[0][0]                 \n",
      "__________________________________________________________________________________________________\n",
      "concatenate_45 (Concatenate)    (None, 640, 40)      0           average_pooling1d_22[0][0]       \n",
      "                                                                 dropout_74[0][0]                 \n",
      "__________________________________________________________________________________________________\n",
      "concatenate_51 (Concatenate)    (None, 640, 40)      0           average_pooling1d_25[0][0]       \n",
      "                                                                 dropout_84[0][0]                 \n",
      "__________________________________________________________________________________________________\n",
      "concatenate_57 (Concatenate)    (None, 640, 40)      0           average_pooling1d_28[0][0]       \n",
      "                                                                 dropout_94[0][0]                 \n",
      "__________________________________________________________________________________________________\n",
      "batch_normalization_5 (BatchNor (None, 640, 40)      160         concatenate_3[0][0]              \n",
      "__________________________________________________________________________________________________\n",
      "batch_normalization_16 (BatchNo (None, 640, 40)      160         concatenate_9[0][0]              \n",
      "__________________________________________________________________________________________________\n",
      "batch_normalization_27 (BatchNo (None, 640, 40)      160         concatenate_15[0][0]             \n",
      "__________________________________________________________________________________________________\n",
      "batch_normalization_38 (BatchNo (None, 640, 40)      160         concatenate_21[0][0]             \n",
      "__________________________________________________________________________________________________\n",
      "batch_normalization_49 (BatchNo (None, 640, 40)      160         concatenate_27[0][0]             \n",
      "__________________________________________________________________________________________________\n",
      "batch_normalization_60 (BatchNo (None, 640, 40)      160         concatenate_33[0][0]             \n",
      "__________________________________________________________________________________________________\n",
      "batch_normalization_71 (BatchNo (None, 640, 40)      160         concatenate_39[0][0]             \n",
      "__________________________________________________________________________________________________\n",
      "batch_normalization_82 (BatchNo (None, 640, 40)      160         concatenate_45[0][0]             \n",
      "__________________________________________________________________________________________________\n",
      "batch_normalization_93 (BatchNo (None, 640, 40)      160         concatenate_51[0][0]             \n",
      "__________________________________________________________________________________________________\n",
      "batch_normalization_104 (BatchN (None, 640, 40)      160         concatenate_57[0][0]             \n",
      "__________________________________________________________________________________________________\n",
      "activation_5 (Activation)       (None, 640, 40)      0           batch_normalization_5[0][0]      \n",
      "__________________________________________________________________________________________________\n",
      "activation_16 (Activation)      (None, 640, 40)      0           batch_normalization_16[0][0]     \n",
      "__________________________________________________________________________________________________\n",
      "activation_27 (Activation)      (None, 640, 40)      0           batch_normalization_27[0][0]     \n",
      "__________________________________________________________________________________________________\n",
      "activation_38 (Activation)      (None, 640, 40)      0           batch_normalization_38[0][0]     \n",
      "__________________________________________________________________________________________________\n",
      "activation_49 (Activation)      (None, 640, 40)      0           batch_normalization_49[0][0]     \n",
      "__________________________________________________________________________________________________\n",
      "activation_60 (Activation)      (None, 640, 40)      0           batch_normalization_60[0][0]     \n",
      "__________________________________________________________________________________________________\n",
      "activation_71 (Activation)      (None, 640, 40)      0           batch_normalization_71[0][0]     \n",
      "__________________________________________________________________________________________________\n",
      "activation_82 (Activation)      (None, 640, 40)      0           batch_normalization_82[0][0]     \n",
      "__________________________________________________________________________________________________\n",
      "activation_93 (Activation)      (None, 640, 40)      0           batch_normalization_93[0][0]     \n",
      "__________________________________________________________________________________________________\n",
      "activation_104 (Activation)     (None, 640, 40)      0           batch_normalization_104[0][0]    \n",
      "__________________________________________________________________________________________________\n",
      "conv1d_6 (Conv1D)               (None, 640, 16)      20480       activation_5[0][0]               \n",
      "__________________________________________________________________________________________________\n",
      "conv1d_17 (Conv1D)              (None, 640, 16)      20480       activation_16[0][0]              \n",
      "__________________________________________________________________________________________________\n",
      "conv1d_28 (Conv1D)              (None, 640, 16)      20480       activation_27[0][0]              \n",
      "__________________________________________________________________________________________________\n",
      "conv1d_39 (Conv1D)              (None, 640, 16)      20480       activation_38[0][0]              \n",
      "__________________________________________________________________________________________________\n",
      "conv1d_50 (Conv1D)              (None, 640, 16)      20480       activation_49[0][0]              \n",
      "__________________________________________________________________________________________________\n",
      "conv1d_61 (Conv1D)              (None, 640, 16)      20480       activation_60[0][0]              \n",
      "__________________________________________________________________________________________________\n",
      "conv1d_72 (Conv1D)              (None, 640, 16)      20480       activation_71[0][0]              \n",
      "__________________________________________________________________________________________________\n",
      "conv1d_83 (Conv1D)              (None, 640, 16)      20480       activation_82[0][0]              \n",
      "__________________________________________________________________________________________________\n",
      "conv1d_94 (Conv1D)              (None, 640, 16)      20480       activation_93[0][0]              \n",
      "__________________________________________________________________________________________________\n",
      "conv1d_105 (Conv1D)             (None, 640, 16)      20480       activation_104[0][0]             \n",
      "__________________________________________________________________________________________________\n",
      "dropout_5 (Dropout)             (None, 640, 16)      0           conv1d_6[0][0]                   \n",
      "__________________________________________________________________________________________________\n",
      "dropout_15 (Dropout)            (None, 640, 16)      0           conv1d_17[0][0]                  \n",
      "__________________________________________________________________________________________________\n",
      "dropout_25 (Dropout)            (None, 640, 16)      0           conv1d_28[0][0]                  \n",
      "__________________________________________________________________________________________________\n",
      "dropout_35 (Dropout)            (None, 640, 16)      0           conv1d_39[0][0]                  \n",
      "__________________________________________________________________________________________________\n",
      "dropout_45 (Dropout)            (None, 640, 16)      0           conv1d_50[0][0]                  \n",
      "__________________________________________________________________________________________________\n",
      "dropout_55 (Dropout)            (None, 640, 16)      0           conv1d_61[0][0]                  \n",
      "__________________________________________________________________________________________________\n",
      "dropout_65 (Dropout)            (None, 640, 16)      0           conv1d_72[0][0]                  \n",
      "__________________________________________________________________________________________________\n",
      "dropout_75 (Dropout)            (None, 640, 16)      0           conv1d_83[0][0]                  \n",
      "__________________________________________________________________________________________________\n",
      "dropout_85 (Dropout)            (None, 640, 16)      0           conv1d_94[0][0]                  \n",
      "__________________________________________________________________________________________________\n",
      "dropout_95 (Dropout)            (None, 640, 16)      0           conv1d_105[0][0]                 \n",
      "__________________________________________________________________________________________________\n",
      "concatenate_4 (Concatenate)     (None, 640, 56)      0           average_pooling1d_1[0][0]        \n",
      "                                                                 dropout_4[0][0]                  \n",
      "                                                                 dropout_5[0][0]                  \n",
      "__________________________________________________________________________________________________\n",
      "concatenate_10 (Concatenate)    (None, 640, 56)      0           average_pooling1d_4[0][0]        \n",
      "                                                                 dropout_14[0][0]                 \n",
      "                                                                 dropout_15[0][0]                 \n",
      "__________________________________________________________________________________________________\n",
      "concatenate_16 (Concatenate)    (None, 640, 56)      0           average_pooling1d_7[0][0]        \n",
      "                                                                 dropout_24[0][0]                 \n",
      "                                                                 dropout_25[0][0]                 \n",
      "__________________________________________________________________________________________________\n",
      "concatenate_22 (Concatenate)    (None, 640, 56)      0           average_pooling1d_10[0][0]       \n",
      "                                                                 dropout_34[0][0]                 \n",
      "                                                                 dropout_35[0][0]                 \n",
      "__________________________________________________________________________________________________\n",
      "concatenate_28 (Concatenate)    (None, 640, 56)      0           average_pooling1d_13[0][0]       \n",
      "                                                                 dropout_44[0][0]                 \n",
      "                                                                 dropout_45[0][0]                 \n",
      "__________________________________________________________________________________________________\n",
      "concatenate_34 (Concatenate)    (None, 640, 56)      0           average_pooling1d_16[0][0]       \n",
      "                                                                 dropout_54[0][0]                 \n",
      "                                                                 dropout_55[0][0]                 \n",
      "__________________________________________________________________________________________________\n",
      "concatenate_40 (Concatenate)    (None, 640, 56)      0           average_pooling1d_19[0][0]       \n",
      "                                                                 dropout_64[0][0]                 \n",
      "                                                                 dropout_65[0][0]                 \n",
      "__________________________________________________________________________________________________\n",
      "concatenate_46 (Concatenate)    (None, 640, 56)      0           average_pooling1d_22[0][0]       \n",
      "                                                                 dropout_74[0][0]                 \n",
      "                                                                 dropout_75[0][0]                 \n",
      "__________________________________________________________________________________________________\n",
      "concatenate_52 (Concatenate)    (None, 640, 56)      0           average_pooling1d_25[0][0]       \n",
      "                                                                 dropout_84[0][0]                 \n",
      "                                                                 dropout_85[0][0]                 \n",
      "__________________________________________________________________________________________________\n",
      "concatenate_58 (Concatenate)    (None, 640, 56)      0           average_pooling1d_28[0][0]       \n",
      "                                                                 dropout_94[0][0]                 \n",
      "                                                                 dropout_95[0][0]                 \n",
      "__________________________________________________________________________________________________\n",
      "batch_normalization_6 (BatchNor (None, 640, 56)      224         concatenate_4[0][0]              \n",
      "__________________________________________________________________________________________________\n",
      "batch_normalization_17 (BatchNo (None, 640, 56)      224         concatenate_10[0][0]             \n",
      "__________________________________________________________________________________________________\n",
      "batch_normalization_28 (BatchNo (None, 640, 56)      224         concatenate_16[0][0]             \n",
      "__________________________________________________________________________________________________\n",
      "batch_normalization_39 (BatchNo (None, 640, 56)      224         concatenate_22[0][0]             \n",
      "__________________________________________________________________________________________________\n",
      "batch_normalization_50 (BatchNo (None, 640, 56)      224         concatenate_28[0][0]             \n",
      "__________________________________________________________________________________________________\n",
      "batch_normalization_61 (BatchNo (None, 640, 56)      224         concatenate_34[0][0]             \n",
      "__________________________________________________________________________________________________\n",
      "batch_normalization_72 (BatchNo (None, 640, 56)      224         concatenate_40[0][0]             \n",
      "__________________________________________________________________________________________________\n",
      "batch_normalization_83 (BatchNo (None, 640, 56)      224         concatenate_46[0][0]             \n",
      "__________________________________________________________________________________________________\n",
      "batch_normalization_94 (BatchNo (None, 640, 56)      224         concatenate_52[0][0]             \n",
      "__________________________________________________________________________________________________\n",
      "batch_normalization_105 (BatchN (None, 640, 56)      224         concatenate_58[0][0]             \n",
      "__________________________________________________________________________________________________\n",
      "activation_6 (Activation)       (None, 640, 56)      0           batch_normalization_6[0][0]      \n",
      "__________________________________________________________________________________________________\n",
      "activation_17 (Activation)      (None, 640, 56)      0           batch_normalization_17[0][0]     \n",
      "__________________________________________________________________________________________________\n",
      "activation_28 (Activation)      (None, 640, 56)      0           batch_normalization_28[0][0]     \n",
      "__________________________________________________________________________________________________\n",
      "activation_39 (Activation)      (None, 640, 56)      0           batch_normalization_39[0][0]     \n",
      "__________________________________________________________________________________________________\n",
      "activation_50 (Activation)      (None, 640, 56)      0           batch_normalization_50[0][0]     \n",
      "__________________________________________________________________________________________________\n",
      "activation_61 (Activation)      (None, 640, 56)      0           batch_normalization_61[0][0]     \n",
      "__________________________________________________________________________________________________\n",
      "activation_72 (Activation)      (None, 640, 56)      0           batch_normalization_72[0][0]     \n",
      "__________________________________________________________________________________________________\n",
      "activation_83 (Activation)      (None, 640, 56)      0           batch_normalization_83[0][0]     \n",
      "__________________________________________________________________________________________________\n",
      "activation_94 (Activation)      (None, 640, 56)      0           batch_normalization_94[0][0]     \n",
      "__________________________________________________________________________________________________\n",
      "activation_105 (Activation)     (None, 640, 56)      0           batch_normalization_105[0][0]    \n",
      "__________________________________________________________________________________________________\n",
      "conv1d_7 (Conv1D)               (None, 320, 28)      50176       activation_6[0][0]               \n",
      "__________________________________________________________________________________________________\n",
      "conv1d_18 (Conv1D)              (None, 320, 28)      50176       activation_17[0][0]              \n",
      "__________________________________________________________________________________________________\n",
      "conv1d_29 (Conv1D)              (None, 320, 28)      50176       activation_28[0][0]              \n",
      "__________________________________________________________________________________________________\n",
      "conv1d_40 (Conv1D)              (None, 320, 28)      50176       activation_39[0][0]              \n",
      "__________________________________________________________________________________________________\n",
      "conv1d_51 (Conv1D)              (None, 320, 28)      50176       activation_50[0][0]              \n",
      "__________________________________________________________________________________________________\n",
      "conv1d_62 (Conv1D)              (None, 320, 28)      50176       activation_61[0][0]              \n",
      "__________________________________________________________________________________________________\n",
      "conv1d_73 (Conv1D)              (None, 320, 28)      50176       activation_72[0][0]              \n",
      "__________________________________________________________________________________________________\n",
      "conv1d_84 (Conv1D)              (None, 320, 28)      50176       activation_83[0][0]              \n",
      "__________________________________________________________________________________________________\n",
      "conv1d_95 (Conv1D)              (None, 320, 28)      50176       activation_94[0][0]              \n",
      "__________________________________________________________________________________________________\n",
      "conv1d_106 (Conv1D)             (None, 320, 28)      50176       activation_105[0][0]             \n",
      "__________________________________________________________________________________________________\n",
      "dropout_6 (Dropout)             (None, 320, 28)      0           conv1d_7[0][0]                   \n",
      "__________________________________________________________________________________________________\n",
      "dropout_16 (Dropout)            (None, 320, 28)      0           conv1d_18[0][0]                  \n",
      "__________________________________________________________________________________________________\n",
      "dropout_26 (Dropout)            (None, 320, 28)      0           conv1d_29[0][0]                  \n",
      "__________________________________________________________________________________________________\n",
      "dropout_36 (Dropout)            (None, 320, 28)      0           conv1d_40[0][0]                  \n",
      "__________________________________________________________________________________________________\n",
      "dropout_46 (Dropout)            (None, 320, 28)      0           conv1d_51[0][0]                  \n",
      "__________________________________________________________________________________________________\n",
      "dropout_56 (Dropout)            (None, 320, 28)      0           conv1d_62[0][0]                  \n",
      "__________________________________________________________________________________________________\n",
      "dropout_66 (Dropout)            (None, 320, 28)      0           conv1d_73[0][0]                  \n",
      "__________________________________________________________________________________________________\n",
      "dropout_76 (Dropout)            (None, 320, 28)      0           conv1d_84[0][0]                  \n",
      "__________________________________________________________________________________________________\n",
      "dropout_86 (Dropout)            (None, 320, 28)      0           conv1d_95[0][0]                  \n",
      "__________________________________________________________________________________________________\n",
      "dropout_96 (Dropout)            (None, 320, 28)      0           conv1d_106[0][0]                 \n",
      "__________________________________________________________________________________________________\n",
      "average_pooling1d_2 (AveragePoo (None, 160, 28)      0           dropout_6[0][0]                  \n",
      "__________________________________________________________________________________________________\n",
      "average_pooling1d_5 (AveragePoo (None, 160, 28)      0           dropout_16[0][0]                 \n",
      "__________________________________________________________________________________________________\n",
      "average_pooling1d_8 (AveragePoo (None, 160, 28)      0           dropout_26[0][0]                 \n",
      "__________________________________________________________________________________________________\n",
      "average_pooling1d_11 (AveragePo (None, 160, 28)      0           dropout_36[0][0]                 \n",
      "__________________________________________________________________________________________________\n",
      "average_pooling1d_14 (AveragePo (None, 160, 28)      0           dropout_46[0][0]                 \n",
      "__________________________________________________________________________________________________\n",
      "average_pooling1d_17 (AveragePo (None, 160, 28)      0           dropout_56[0][0]                 \n",
      "__________________________________________________________________________________________________\n",
      "average_pooling1d_20 (AveragePo (None, 160, 28)      0           dropout_66[0][0]                 \n",
      "__________________________________________________________________________________________________\n",
      "average_pooling1d_23 (AveragePo (None, 160, 28)      0           dropout_76[0][0]                 \n",
      "__________________________________________________________________________________________________\n",
      "average_pooling1d_26 (AveragePo (None, 160, 28)      0           dropout_86[0][0]                 \n",
      "__________________________________________________________________________________________________\n",
      "average_pooling1d_29 (AveragePo (None, 160, 28)      0           dropout_96[0][0]                 \n",
      "__________________________________________________________________________________________________\n",
      "batch_normalization_7 (BatchNor (None, 160, 28)      112         average_pooling1d_2[0][0]        \n",
      "__________________________________________________________________________________________________\n",
      "batch_normalization_18 (BatchNo (None, 160, 28)      112         average_pooling1d_5[0][0]        \n",
      "__________________________________________________________________________________________________\n",
      "batch_normalization_29 (BatchNo (None, 160, 28)      112         average_pooling1d_8[0][0]        \n",
      "__________________________________________________________________________________________________\n",
      "batch_normalization_40 (BatchNo (None, 160, 28)      112         average_pooling1d_11[0][0]       \n",
      "__________________________________________________________________________________________________\n",
      "batch_normalization_51 (BatchNo (None, 160, 28)      112         average_pooling1d_14[0][0]       \n",
      "__________________________________________________________________________________________________\n",
      "batch_normalization_62 (BatchNo (None, 160, 28)      112         average_pooling1d_17[0][0]       \n",
      "__________________________________________________________________________________________________\n",
      "batch_normalization_73 (BatchNo (None, 160, 28)      112         average_pooling1d_20[0][0]       \n",
      "__________________________________________________________________________________________________\n",
      "batch_normalization_84 (BatchNo (None, 160, 28)      112         average_pooling1d_23[0][0]       \n",
      "__________________________________________________________________________________________________\n",
      "batch_normalization_95 (BatchNo (None, 160, 28)      112         average_pooling1d_26[0][0]       \n",
      "__________________________________________________________________________________________________\n",
      "batch_normalization_106 (BatchN (None, 160, 28)      112         average_pooling1d_29[0][0]       \n",
      "__________________________________________________________________________________________________\n",
      "activation_7 (Activation)       (None, 160, 28)      0           batch_normalization_7[0][0]      \n",
      "__________________________________________________________________________________________________\n",
      "activation_18 (Activation)      (None, 160, 28)      0           batch_normalization_18[0][0]     \n",
      "__________________________________________________________________________________________________\n",
      "activation_29 (Activation)      (None, 160, 28)      0           batch_normalization_29[0][0]     \n",
      "__________________________________________________________________________________________________\n",
      "activation_40 (Activation)      (None, 160, 28)      0           batch_normalization_40[0][0]     \n",
      "__________________________________________________________________________________________________\n",
      "activation_51 (Activation)      (None, 160, 28)      0           batch_normalization_51[0][0]     \n",
      "__________________________________________________________________________________________________\n",
      "activation_62 (Activation)      (None, 160, 28)      0           batch_normalization_62[0][0]     \n",
      "__________________________________________________________________________________________________\n",
      "activation_73 (Activation)      (None, 160, 28)      0           batch_normalization_73[0][0]     \n",
      "__________________________________________________________________________________________________\n",
      "activation_84 (Activation)      (None, 160, 28)      0           batch_normalization_84[0][0]     \n",
      "__________________________________________________________________________________________________\n",
      "activation_95 (Activation)      (None, 160, 28)      0           batch_normalization_95[0][0]     \n",
      "__________________________________________________________________________________________________\n",
      "activation_106 (Activation)     (None, 160, 28)      0           batch_normalization_106[0][0]    \n",
      "__________________________________________________________________________________________________\n",
      "conv1d_8 (Conv1D)               (None, 160, 64)      57344       activation_7[0][0]               \n",
      "__________________________________________________________________________________________________\n",
      "conv1d_19 (Conv1D)              (None, 160, 64)      57344       activation_18[0][0]              \n",
      "__________________________________________________________________________________________________\n",
      "conv1d_30 (Conv1D)              (None, 160, 64)      57344       activation_29[0][0]              \n",
      "__________________________________________________________________________________________________\n",
      "conv1d_41 (Conv1D)              (None, 160, 64)      57344       activation_40[0][0]              \n",
      "__________________________________________________________________________________________________\n",
      "conv1d_52 (Conv1D)              (None, 160, 64)      57344       activation_51[0][0]              \n",
      "__________________________________________________________________________________________________\n",
      "conv1d_63 (Conv1D)              (None, 160, 64)      57344       activation_62[0][0]              \n",
      "__________________________________________________________________________________________________\n",
      "conv1d_74 (Conv1D)              (None, 160, 64)      57344       activation_73[0][0]              \n",
      "__________________________________________________________________________________________________\n",
      "conv1d_85 (Conv1D)              (None, 160, 64)      57344       activation_84[0][0]              \n",
      "__________________________________________________________________________________________________\n",
      "conv1d_96 (Conv1D)              (None, 160, 64)      57344       activation_95[0][0]              \n",
      "__________________________________________________________________________________________________\n",
      "conv1d_107 (Conv1D)             (None, 160, 64)      57344       activation_106[0][0]             \n",
      "__________________________________________________________________________________________________\n",
      "dropout_7 (Dropout)             (None, 160, 64)      0           conv1d_8[0][0]                   \n",
      "__________________________________________________________________________________________________\n",
      "dropout_17 (Dropout)            (None, 160, 64)      0           conv1d_19[0][0]                  \n",
      "__________________________________________________________________________________________________\n",
      "dropout_27 (Dropout)            (None, 160, 64)      0           conv1d_30[0][0]                  \n",
      "__________________________________________________________________________________________________\n",
      "dropout_37 (Dropout)            (None, 160, 64)      0           conv1d_41[0][0]                  \n",
      "__________________________________________________________________________________________________\n",
      "dropout_47 (Dropout)            (None, 160, 64)      0           conv1d_52[0][0]                  \n",
      "__________________________________________________________________________________________________\n",
      "dropout_57 (Dropout)            (None, 160, 64)      0           conv1d_63[0][0]                  \n",
      "__________________________________________________________________________________________________\n",
      "dropout_67 (Dropout)            (None, 160, 64)      0           conv1d_74[0][0]                  \n",
      "__________________________________________________________________________________________________\n",
      "dropout_77 (Dropout)            (None, 160, 64)      0           conv1d_85[0][0]                  \n",
      "__________________________________________________________________________________________________\n",
      "dropout_87 (Dropout)            (None, 160, 64)      0           conv1d_96[0][0]                  \n",
      "__________________________________________________________________________________________________\n",
      "dropout_97 (Dropout)            (None, 160, 64)      0           conv1d_107[0][0]                 \n",
      "__________________________________________________________________________________________________\n",
      "batch_normalization_8 (BatchNor (None, 160, 64)      256         dropout_7[0][0]                  \n",
      "__________________________________________________________________________________________________\n",
      "batch_normalization_19 (BatchNo (None, 160, 64)      256         dropout_17[0][0]                 \n",
      "__________________________________________________________________________________________________\n",
      "batch_normalization_30 (BatchNo (None, 160, 64)      256         dropout_27[0][0]                 \n",
      "__________________________________________________________________________________________________\n",
      "batch_normalization_41 (BatchNo (None, 160, 64)      256         dropout_37[0][0]                 \n",
      "__________________________________________________________________________________________________\n",
      "batch_normalization_52 (BatchNo (None, 160, 64)      256         dropout_47[0][0]                 \n",
      "__________________________________________________________________________________________________\n",
      "batch_normalization_63 (BatchNo (None, 160, 64)      256         dropout_57[0][0]                 \n",
      "__________________________________________________________________________________________________\n",
      "batch_normalization_74 (BatchNo (None, 160, 64)      256         dropout_67[0][0]                 \n",
      "__________________________________________________________________________________________________\n",
      "batch_normalization_85 (BatchNo (None, 160, 64)      256         dropout_77[0][0]                 \n",
      "__________________________________________________________________________________________________\n",
      "batch_normalization_96 (BatchNo (None, 160, 64)      256         dropout_87[0][0]                 \n",
      "__________________________________________________________________________________________________\n",
      "batch_normalization_107 (BatchN (None, 160, 64)      256         dropout_97[0][0]                 \n",
      "__________________________________________________________________________________________________\n",
      "activation_8 (Activation)       (None, 160, 64)      0           batch_normalization_8[0][0]      \n",
      "__________________________________________________________________________________________________\n",
      "activation_19 (Activation)      (None, 160, 64)      0           batch_normalization_19[0][0]     \n",
      "__________________________________________________________________________________________________\n",
      "activation_30 (Activation)      (None, 160, 64)      0           batch_normalization_30[0][0]     \n",
      "__________________________________________________________________________________________________\n",
      "activation_41 (Activation)      (None, 160, 64)      0           batch_normalization_41[0][0]     \n",
      "__________________________________________________________________________________________________\n",
      "activation_52 (Activation)      (None, 160, 64)      0           batch_normalization_52[0][0]     \n",
      "__________________________________________________________________________________________________\n",
      "activation_63 (Activation)      (None, 160, 64)      0           batch_normalization_63[0][0]     \n",
      "__________________________________________________________________________________________________\n",
      "activation_74 (Activation)      (None, 160, 64)      0           batch_normalization_74[0][0]     \n",
      "__________________________________________________________________________________________________\n",
      "activation_85 (Activation)      (None, 160, 64)      0           batch_normalization_85[0][0]     \n",
      "__________________________________________________________________________________________________\n",
      "activation_96 (Activation)      (None, 160, 64)      0           batch_normalization_96[0][0]     \n",
      "__________________________________________________________________________________________________\n",
      "activation_107 (Activation)     (None, 160, 64)      0           batch_normalization_107[0][0]    \n",
      "__________________________________________________________________________________________________\n",
      "conv1d_9 (Conv1D)               (None, 160, 16)      32768       activation_8[0][0]               \n",
      "__________________________________________________________________________________________________\n",
      "conv1d_20 (Conv1D)              (None, 160, 16)      32768       activation_19[0][0]              \n",
      "__________________________________________________________________________________________________\n",
      "conv1d_31 (Conv1D)              (None, 160, 16)      32768       activation_30[0][0]              \n",
      "__________________________________________________________________________________________________\n",
      "conv1d_42 (Conv1D)              (None, 160, 16)      32768       activation_41[0][0]              \n",
      "__________________________________________________________________________________________________\n",
      "conv1d_53 (Conv1D)              (None, 160, 16)      32768       activation_52[0][0]              \n",
      "__________________________________________________________________________________________________\n",
      "conv1d_64 (Conv1D)              (None, 160, 16)      32768       activation_63[0][0]              \n",
      "__________________________________________________________________________________________________\n",
      "conv1d_75 (Conv1D)              (None, 160, 16)      32768       activation_74[0][0]              \n",
      "__________________________________________________________________________________________________\n",
      "conv1d_86 (Conv1D)              (None, 160, 16)      32768       activation_85[0][0]              \n",
      "__________________________________________________________________________________________________\n",
      "conv1d_97 (Conv1D)              (None, 160, 16)      32768       activation_96[0][0]              \n",
      "__________________________________________________________________________________________________\n",
      "conv1d_108 (Conv1D)             (None, 160, 16)      32768       activation_107[0][0]             \n",
      "__________________________________________________________________________________________________\n",
      "dropout_8 (Dropout)             (None, 160, 16)      0           conv1d_9[0][0]                   \n",
      "__________________________________________________________________________________________________\n",
      "dropout_18 (Dropout)            (None, 160, 16)      0           conv1d_20[0][0]                  \n",
      "__________________________________________________________________________________________________\n",
      "dropout_28 (Dropout)            (None, 160, 16)      0           conv1d_31[0][0]                  \n",
      "__________________________________________________________________________________________________\n",
      "dropout_38 (Dropout)            (None, 160, 16)      0           conv1d_42[0][0]                  \n",
      "__________________________________________________________________________________________________\n",
      "dropout_48 (Dropout)            (None, 160, 16)      0           conv1d_53[0][0]                  \n",
      "__________________________________________________________________________________________________\n",
      "dropout_58 (Dropout)            (None, 160, 16)      0           conv1d_64[0][0]                  \n",
      "__________________________________________________________________________________________________\n",
      "dropout_68 (Dropout)            (None, 160, 16)      0           conv1d_75[0][0]                  \n",
      "__________________________________________________________________________________________________\n",
      "dropout_78 (Dropout)            (None, 160, 16)      0           conv1d_86[0][0]                  \n",
      "__________________________________________________________________________________________________\n",
      "dropout_88 (Dropout)            (None, 160, 16)      0           conv1d_97[0][0]                  \n",
      "__________________________________________________________________________________________________\n",
      "dropout_98 (Dropout)            (None, 160, 16)      0           conv1d_108[0][0]                 \n",
      "__________________________________________________________________________________________________\n",
      "concatenate_5 (Concatenate)     (None, 160, 44)      0           average_pooling1d_2[0][0]        \n",
      "                                                                 dropout_8[0][0]                  \n",
      "__________________________________________________________________________________________________\n",
      "concatenate_11 (Concatenate)    (None, 160, 44)      0           average_pooling1d_5[0][0]        \n",
      "                                                                 dropout_18[0][0]                 \n",
      "__________________________________________________________________________________________________\n",
      "concatenate_17 (Concatenate)    (None, 160, 44)      0           average_pooling1d_8[0][0]        \n",
      "                                                                 dropout_28[0][0]                 \n",
      "__________________________________________________________________________________________________\n",
      "concatenate_23 (Concatenate)    (None, 160, 44)      0           average_pooling1d_11[0][0]       \n",
      "                                                                 dropout_38[0][0]                 \n",
      "__________________________________________________________________________________________________\n",
      "concatenate_29 (Concatenate)    (None, 160, 44)      0           average_pooling1d_14[0][0]       \n",
      "                                                                 dropout_48[0][0]                 \n",
      "__________________________________________________________________________________________________\n",
      "concatenate_35 (Concatenate)    (None, 160, 44)      0           average_pooling1d_17[0][0]       \n",
      "                                                                 dropout_58[0][0]                 \n",
      "__________________________________________________________________________________________________\n",
      "concatenate_41 (Concatenate)    (None, 160, 44)      0           average_pooling1d_20[0][0]       \n",
      "                                                                 dropout_68[0][0]                 \n",
      "__________________________________________________________________________________________________\n",
      "concatenate_47 (Concatenate)    (None, 160, 44)      0           average_pooling1d_23[0][0]       \n",
      "                                                                 dropout_78[0][0]                 \n",
      "__________________________________________________________________________________________________\n",
      "concatenate_53 (Concatenate)    (None, 160, 44)      0           average_pooling1d_26[0][0]       \n",
      "                                                                 dropout_88[0][0]                 \n",
      "__________________________________________________________________________________________________\n",
      "concatenate_59 (Concatenate)    (None, 160, 44)      0           average_pooling1d_29[0][0]       \n",
      "                                                                 dropout_98[0][0]                 \n",
      "__________________________________________________________________________________________________\n",
      "batch_normalization_9 (BatchNor (None, 160, 44)      176         concatenate_5[0][0]              \n",
      "__________________________________________________________________________________________________\n",
      "batch_normalization_20 (BatchNo (None, 160, 44)      176         concatenate_11[0][0]             \n",
      "__________________________________________________________________________________________________\n",
      "batch_normalization_31 (BatchNo (None, 160, 44)      176         concatenate_17[0][0]             \n",
      "__________________________________________________________________________________________________\n",
      "batch_normalization_42 (BatchNo (None, 160, 44)      176         concatenate_23[0][0]             \n",
      "__________________________________________________________________________________________________\n",
      "batch_normalization_53 (BatchNo (None, 160, 44)      176         concatenate_29[0][0]             \n",
      "__________________________________________________________________________________________________\n",
      "batch_normalization_64 (BatchNo (None, 160, 44)      176         concatenate_35[0][0]             \n",
      "__________________________________________________________________________________________________\n",
      "batch_normalization_75 (BatchNo (None, 160, 44)      176         concatenate_41[0][0]             \n",
      "__________________________________________________________________________________________________\n",
      "batch_normalization_86 (BatchNo (None, 160, 44)      176         concatenate_47[0][0]             \n",
      "__________________________________________________________________________________________________\n",
      "batch_normalization_97 (BatchNo (None, 160, 44)      176         concatenate_53[0][0]             \n",
      "__________________________________________________________________________________________________\n",
      "batch_normalization_108 (BatchN (None, 160, 44)      176         concatenate_59[0][0]             \n",
      "__________________________________________________________________________________________________\n",
      "activation_9 (Activation)       (None, 160, 44)      0           batch_normalization_9[0][0]      \n",
      "__________________________________________________________________________________________________\n",
      "activation_20 (Activation)      (None, 160, 44)      0           batch_normalization_20[0][0]     \n",
      "__________________________________________________________________________________________________\n",
      "activation_31 (Activation)      (None, 160, 44)      0           batch_normalization_31[0][0]     \n",
      "__________________________________________________________________________________________________\n",
      "activation_42 (Activation)      (None, 160, 44)      0           batch_normalization_42[0][0]     \n",
      "__________________________________________________________________________________________________\n",
      "activation_53 (Activation)      (None, 160, 44)      0           batch_normalization_53[0][0]     \n",
      "__________________________________________________________________________________________________\n",
      "activation_64 (Activation)      (None, 160, 44)      0           batch_normalization_64[0][0]     \n",
      "__________________________________________________________________________________________________\n",
      "activation_75 (Activation)      (None, 160, 44)      0           batch_normalization_75[0][0]     \n",
      "__________________________________________________________________________________________________\n",
      "activation_86 (Activation)      (None, 160, 44)      0           batch_normalization_86[0][0]     \n",
      "__________________________________________________________________________________________________\n",
      "activation_97 (Activation)      (None, 160, 44)      0           batch_normalization_97[0][0]     \n",
      "__________________________________________________________________________________________________\n",
      "activation_108 (Activation)     (None, 160, 44)      0           batch_normalization_108[0][0]    \n",
      "__________________________________________________________________________________________________\n",
      "conv1d_10 (Conv1D)              (None, 160, 64)      90112       activation_9[0][0]               \n",
      "__________________________________________________________________________________________________\n",
      "conv1d_21 (Conv1D)              (None, 160, 64)      90112       activation_20[0][0]              \n",
      "__________________________________________________________________________________________________\n",
      "conv1d_32 (Conv1D)              (None, 160, 64)      90112       activation_31[0][0]              \n",
      "__________________________________________________________________________________________________\n",
      "conv1d_43 (Conv1D)              (None, 160, 64)      90112       activation_42[0][0]              \n",
      "__________________________________________________________________________________________________\n",
      "conv1d_54 (Conv1D)              (None, 160, 64)      90112       activation_53[0][0]              \n",
      "__________________________________________________________________________________________________\n",
      "conv1d_65 (Conv1D)              (None, 160, 64)      90112       activation_64[0][0]              \n",
      "__________________________________________________________________________________________________\n",
      "conv1d_76 (Conv1D)              (None, 160, 64)      90112       activation_75[0][0]              \n",
      "__________________________________________________________________________________________________\n",
      "conv1d_87 (Conv1D)              (None, 160, 64)      90112       activation_86[0][0]              \n",
      "__________________________________________________________________________________________________\n",
      "conv1d_98 (Conv1D)              (None, 160, 64)      90112       activation_97[0][0]              \n",
      "__________________________________________________________________________________________________\n",
      "conv1d_109 (Conv1D)             (None, 160, 64)      90112       activation_108[0][0]             \n",
      "__________________________________________________________________________________________________\n",
      "dropout_9 (Dropout)             (None, 160, 64)      0           conv1d_10[0][0]                  \n",
      "__________________________________________________________________________________________________\n",
      "dropout_19 (Dropout)            (None, 160, 64)      0           conv1d_21[0][0]                  \n",
      "__________________________________________________________________________________________________\n",
      "dropout_29 (Dropout)            (None, 160, 64)      0           conv1d_32[0][0]                  \n",
      "__________________________________________________________________________________________________\n",
      "dropout_39 (Dropout)            (None, 160, 64)      0           conv1d_43[0][0]                  \n",
      "__________________________________________________________________________________________________\n",
      "dropout_49 (Dropout)            (None, 160, 64)      0           conv1d_54[0][0]                  \n",
      "__________________________________________________________________________________________________\n",
      "dropout_59 (Dropout)            (None, 160, 64)      0           conv1d_65[0][0]                  \n",
      "__________________________________________________________________________________________________\n",
      "dropout_69 (Dropout)            (None, 160, 64)      0           conv1d_76[0][0]                  \n",
      "__________________________________________________________________________________________________\n",
      "dropout_79 (Dropout)            (None, 160, 64)      0           conv1d_87[0][0]                  \n",
      "__________________________________________________________________________________________________\n",
      "dropout_89 (Dropout)            (None, 160, 64)      0           conv1d_98[0][0]                  \n",
      "__________________________________________________________________________________________________\n",
      "dropout_99 (Dropout)            (None, 160, 64)      0           conv1d_109[0][0]                 \n",
      "__________________________________________________________________________________________________\n",
      "batch_normalization_10 (BatchNo (None, 160, 64)      256         dropout_9[0][0]                  \n",
      "__________________________________________________________________________________________________\n",
      "batch_normalization_21 (BatchNo (None, 160, 64)      256         dropout_19[0][0]                 \n",
      "__________________________________________________________________________________________________\n",
      "batch_normalization_32 (BatchNo (None, 160, 64)      256         dropout_29[0][0]                 \n",
      "__________________________________________________________________________________________________\n",
      "batch_normalization_43 (BatchNo (None, 160, 64)      256         dropout_39[0][0]                 \n",
      "__________________________________________________________________________________________________\n",
      "batch_normalization_54 (BatchNo (None, 160, 64)      256         dropout_49[0][0]                 \n",
      "__________________________________________________________________________________________________\n",
      "batch_normalization_65 (BatchNo (None, 160, 64)      256         dropout_59[0][0]                 \n",
      "__________________________________________________________________________________________________\n",
      "batch_normalization_76 (BatchNo (None, 160, 64)      256         dropout_69[0][0]                 \n",
      "__________________________________________________________________________________________________\n",
      "batch_normalization_87 (BatchNo (None, 160, 64)      256         dropout_79[0][0]                 \n",
      "__________________________________________________________________________________________________\n",
      "batch_normalization_98 (BatchNo (None, 160, 64)      256         dropout_89[0][0]                 \n",
      "__________________________________________________________________________________________________\n",
      "batch_normalization_109 (BatchN (None, 160, 64)      256         dropout_99[0][0]                 \n",
      "__________________________________________________________________________________________________\n",
      "activation_10 (Activation)      (None, 160, 64)      0           batch_normalization_10[0][0]     \n",
      "__________________________________________________________________________________________________\n",
      "activation_21 (Activation)      (None, 160, 64)      0           batch_normalization_21[0][0]     \n",
      "__________________________________________________________________________________________________\n",
      "activation_32 (Activation)      (None, 160, 64)      0           batch_normalization_32[0][0]     \n",
      "__________________________________________________________________________________________________\n",
      "activation_43 (Activation)      (None, 160, 64)      0           batch_normalization_43[0][0]     \n",
      "__________________________________________________________________________________________________\n",
      "activation_54 (Activation)      (None, 160, 64)      0           batch_normalization_54[0][0]     \n",
      "__________________________________________________________________________________________________\n",
      "activation_65 (Activation)      (None, 160, 64)      0           batch_normalization_65[0][0]     \n",
      "__________________________________________________________________________________________________\n",
      "activation_76 (Activation)      (None, 160, 64)      0           batch_normalization_76[0][0]     \n",
      "__________________________________________________________________________________________________\n",
      "activation_87 (Activation)      (None, 160, 64)      0           batch_normalization_87[0][0]     \n",
      "__________________________________________________________________________________________________\n",
      "activation_98 (Activation)      (None, 160, 64)      0           batch_normalization_98[0][0]     \n",
      "__________________________________________________________________________________________________\n",
      "activation_109 (Activation)     (None, 160, 64)      0           batch_normalization_109[0][0]    \n",
      "__________________________________________________________________________________________________\n",
      "conv1d_11 (Conv1D)              (None, 160, 16)      32768       activation_10[0][0]              \n",
      "__________________________________________________________________________________________________\n",
      "conv1d_22 (Conv1D)              (None, 160, 16)      32768       activation_21[0][0]              \n",
      "__________________________________________________________________________________________________\n",
      "conv1d_33 (Conv1D)              (None, 160, 16)      32768       activation_32[0][0]              \n",
      "__________________________________________________________________________________________________\n",
      "conv1d_44 (Conv1D)              (None, 160, 16)      32768       activation_43[0][0]              \n",
      "__________________________________________________________________________________________________\n",
      "conv1d_55 (Conv1D)              (None, 160, 16)      32768       activation_54[0][0]              \n",
      "__________________________________________________________________________________________________\n",
      "conv1d_66 (Conv1D)              (None, 160, 16)      32768       activation_65[0][0]              \n",
      "__________________________________________________________________________________________________\n",
      "conv1d_77 (Conv1D)              (None, 160, 16)      32768       activation_76[0][0]              \n",
      "__________________________________________________________________________________________________\n",
      "conv1d_88 (Conv1D)              (None, 160, 16)      32768       activation_87[0][0]              \n",
      "__________________________________________________________________________________________________\n",
      "conv1d_99 (Conv1D)              (None, 160, 16)      32768       activation_98[0][0]              \n",
      "__________________________________________________________________________________________________\n",
      "conv1d_110 (Conv1D)             (None, 160, 16)      32768       activation_109[0][0]             \n",
      "__________________________________________________________________________________________________\n",
      "dropout_10 (Dropout)            (None, 160, 16)      0           conv1d_11[0][0]                  \n",
      "__________________________________________________________________________________________________\n",
      "dropout_20 (Dropout)            (None, 160, 16)      0           conv1d_22[0][0]                  \n",
      "__________________________________________________________________________________________________\n",
      "dropout_30 (Dropout)            (None, 160, 16)      0           conv1d_33[0][0]                  \n",
      "__________________________________________________________________________________________________\n",
      "dropout_40 (Dropout)            (None, 160, 16)      0           conv1d_44[0][0]                  \n",
      "__________________________________________________________________________________________________\n",
      "dropout_50 (Dropout)            (None, 160, 16)      0           conv1d_55[0][0]                  \n",
      "__________________________________________________________________________________________________\n",
      "dropout_60 (Dropout)            (None, 160, 16)      0           conv1d_66[0][0]                  \n",
      "__________________________________________________________________________________________________\n",
      "dropout_70 (Dropout)            (None, 160, 16)      0           conv1d_77[0][0]                  \n",
      "__________________________________________________________________________________________________\n",
      "dropout_80 (Dropout)            (None, 160, 16)      0           conv1d_88[0][0]                  \n",
      "__________________________________________________________________________________________________\n",
      "dropout_90 (Dropout)            (None, 160, 16)      0           conv1d_99[0][0]                  \n",
      "__________________________________________________________________________________________________\n",
      "dropout_100 (Dropout)           (None, 160, 16)      0           conv1d_110[0][0]                 \n",
      "__________________________________________________________________________________________________\n",
      "concatenate_6 (Concatenate)     (None, 160, 60)      0           average_pooling1d_2[0][0]        \n",
      "                                                                 dropout_8[0][0]                  \n",
      "                                                                 dropout_10[0][0]                 \n",
      "__________________________________________________________________________________________________\n",
      "concatenate_12 (Concatenate)    (None, 160, 60)      0           average_pooling1d_5[0][0]        \n",
      "                                                                 dropout_18[0][0]                 \n",
      "                                                                 dropout_20[0][0]                 \n",
      "__________________________________________________________________________________________________\n",
      "concatenate_18 (Concatenate)    (None, 160, 60)      0           average_pooling1d_8[0][0]        \n",
      "                                                                 dropout_28[0][0]                 \n",
      "                                                                 dropout_30[0][0]                 \n",
      "__________________________________________________________________________________________________\n",
      "concatenate_24 (Concatenate)    (None, 160, 60)      0           average_pooling1d_11[0][0]       \n",
      "                                                                 dropout_38[0][0]                 \n",
      "                                                                 dropout_40[0][0]                 \n",
      "__________________________________________________________________________________________________\n",
      "concatenate_30 (Concatenate)    (None, 160, 60)      0           average_pooling1d_14[0][0]       \n",
      "                                                                 dropout_48[0][0]                 \n",
      "                                                                 dropout_50[0][0]                 \n",
      "__________________________________________________________________________________________________\n",
      "concatenate_36 (Concatenate)    (None, 160, 60)      0           average_pooling1d_17[0][0]       \n",
      "                                                                 dropout_58[0][0]                 \n",
      "                                                                 dropout_60[0][0]                 \n",
      "__________________________________________________________________________________________________\n",
      "concatenate_42 (Concatenate)    (None, 160, 60)      0           average_pooling1d_20[0][0]       \n",
      "                                                                 dropout_68[0][0]                 \n",
      "                                                                 dropout_70[0][0]                 \n",
      "__________________________________________________________________________________________________\n",
      "concatenate_48 (Concatenate)    (None, 160, 60)      0           average_pooling1d_23[0][0]       \n",
      "                                                                 dropout_78[0][0]                 \n",
      "                                                                 dropout_80[0][0]                 \n",
      "__________________________________________________________________________________________________\n",
      "concatenate_54 (Concatenate)    (None, 160, 60)      0           average_pooling1d_26[0][0]       \n",
      "                                                                 dropout_88[0][0]                 \n",
      "                                                                 dropout_90[0][0]                 \n",
      "__________________________________________________________________________________________________\n",
      "concatenate_60 (Concatenate)    (None, 160, 60)      0           average_pooling1d_29[0][0]       \n",
      "                                                                 dropout_98[0][0]                 \n",
      "                                                                 dropout_100[0][0]                \n",
      "__________________________________________________________________________________________________\n",
      "batch_normalization_11 (BatchNo (None, 160, 60)      240         concatenate_6[0][0]              \n",
      "__________________________________________________________________________________________________\n",
      "batch_normalization_22 (BatchNo (None, 160, 60)      240         concatenate_12[0][0]             \n",
      "__________________________________________________________________________________________________\n",
      "batch_normalization_33 (BatchNo (None, 160, 60)      240         concatenate_18[0][0]             \n",
      "__________________________________________________________________________________________________\n",
      "batch_normalization_44 (BatchNo (None, 160, 60)      240         concatenate_24[0][0]             \n",
      "__________________________________________________________________________________________________\n",
      "batch_normalization_55 (BatchNo (None, 160, 60)      240         concatenate_30[0][0]             \n",
      "__________________________________________________________________________________________________\n",
      "batch_normalization_66 (BatchNo (None, 160, 60)      240         concatenate_36[0][0]             \n",
      "__________________________________________________________________________________________________\n",
      "batch_normalization_77 (BatchNo (None, 160, 60)      240         concatenate_42[0][0]             \n",
      "__________________________________________________________________________________________________\n",
      "batch_normalization_88 (BatchNo (None, 160, 60)      240         concatenate_48[0][0]             \n",
      "__________________________________________________________________________________________________\n",
      "batch_normalization_99 (BatchNo (None, 160, 60)      240         concatenate_54[0][0]             \n",
      "__________________________________________________________________________________________________\n",
      "batch_normalization_110 (BatchN (None, 160, 60)      240         concatenate_60[0][0]             \n",
      "__________________________________________________________________________________________________\n",
      "activation_11 (Activation)      (None, 160, 60)      0           batch_normalization_11[0][0]     \n",
      "__________________________________________________________________________________________________\n",
      "activation_22 (Activation)      (None, 160, 60)      0           batch_normalization_22[0][0]     \n",
      "__________________________________________________________________________________________________\n",
      "activation_33 (Activation)      (None, 160, 60)      0           batch_normalization_33[0][0]     \n",
      "__________________________________________________________________________________________________\n",
      "activation_44 (Activation)      (None, 160, 60)      0           batch_normalization_44[0][0]     \n",
      "__________________________________________________________________________________________________\n",
      "activation_55 (Activation)      (None, 160, 60)      0           batch_normalization_55[0][0]     \n",
      "__________________________________________________________________________________________________\n",
      "activation_66 (Activation)      (None, 160, 60)      0           batch_normalization_66[0][0]     \n",
      "__________________________________________________________________________________________________\n",
      "activation_77 (Activation)      (None, 160, 60)      0           batch_normalization_77[0][0]     \n",
      "__________________________________________________________________________________________________\n",
      "activation_88 (Activation)      (None, 160, 60)      0           batch_normalization_88[0][0]     \n",
      "__________________________________________________________________________________________________\n",
      "activation_99 (Activation)      (None, 160, 60)      0           batch_normalization_99[0][0]     \n",
      "__________________________________________________________________________________________________\n",
      "activation_110 (Activation)     (None, 160, 60)      0           batch_normalization_110[0][0]    \n",
      "__________________________________________________________________________________________________\n",
      "average_pooling1d_3 (AveragePoo (None, 1, 60)        0           activation_11[0][0]              \n",
      "__________________________________________________________________________________________________\n",
      "average_pooling1d_6 (AveragePoo (None, 1, 60)        0           activation_22[0][0]              \n",
      "__________________________________________________________________________________________________\n",
      "average_pooling1d_9 (AveragePoo (None, 1, 60)        0           activation_33[0][0]              \n",
      "__________________________________________________________________________________________________\n",
      "average_pooling1d_12 (AveragePo (None, 1, 60)        0           activation_44[0][0]              \n",
      "__________________________________________________________________________________________________\n",
      "average_pooling1d_15 (AveragePo (None, 1, 60)        0           activation_55[0][0]              \n",
      "__________________________________________________________________________________________________\n",
      "average_pooling1d_18 (AveragePo (None, 1, 60)        0           activation_66[0][0]              \n",
      "__________________________________________________________________________________________________\n",
      "average_pooling1d_21 (AveragePo (None, 1, 60)        0           activation_77[0][0]              \n",
      "__________________________________________________________________________________________________\n",
      "average_pooling1d_24 (AveragePo (None, 1, 60)        0           activation_88[0][0]              \n",
      "__________________________________________________________________________________________________\n",
      "average_pooling1d_27 (AveragePo (None, 1, 60)        0           activation_99[0][0]              \n",
      "__________________________________________________________________________________________________\n",
      "average_pooling1d_30 (AveragePo (None, 1, 60)        0           activation_110[0][0]             \n",
      "__________________________________________________________________________________________________\n",
      "concatenate_61 (Concatenate)    (None, 10, 60)       0           average_pooling1d_3[0][0]        \n",
      "                                                                 average_pooling1d_6[0][0]        \n",
      "                                                                 average_pooling1d_9[0][0]        \n",
      "                                                                 average_pooling1d_12[0][0]       \n",
      "                                                                 average_pooling1d_15[0][0]       \n",
      "                                                                 average_pooling1d_18[0][0]       \n",
      "                                                                 average_pooling1d_21[0][0]       \n",
      "                                                                 average_pooling1d_24[0][0]       \n",
      "                                                                 average_pooling1d_27[0][0]       \n",
      "                                                                 average_pooling1d_30[0][0]       \n",
      "__________________________________________________________________________________________________\n",
      "dropout_101 (Dropout)           (None, 10, 60)       0           concatenate_61[0][0]             \n",
      "__________________________________________________________________________________________________\n",
      "flatten_1 (Flatten)             (None, 600)          0           dropout_101[0][0]                \n",
      "__________________________________________________________________________________________________\n",
      "dense_1 (Dense)                 (None, 9)            5409        flatten_1[0][0]                  \n",
      "==================================================================================================\n",
      "Total params: 3,659,649\n",
      "Trainable params: 3,650,129\n",
      "Non-trainable params: 9,520\n",
      "__________________________________________________________________________________________________\n"
     ]
    }
   ],
   "source": [
    "model.summary()"
   ]
  },
  {
   "cell_type": "code",
   "execution_count": 18,
   "metadata": {
    "collapsed": true
   },
   "outputs": [],
   "source": [
    "class Config(object):\n",
    "    def __init__(self):\n",
    "        self.conv_subsample_lengths = [1, 2, 1, 2, 1, 2, 1, 2]\n",
    "        self.conv_filter_length = 32\n",
    "        self.conv_num_filters_start = 12\n",
    "        self.conv_init = \"he_normal\"\n",
    "        self.conv_activation = \"relu\"\n",
    "        self.conv_dropout = 0.5\n",
    "        self.conv_num_skip = 2\n",
    "        self.conv_increase_channels_at = 2\n",
    "        self.batch_size = 32#128\n",
    "        self.input_shape = [2560, 12]#[1280, 1]\n",
    "        self.num_categories = 2\n",
    "\n",
    "    @staticmethod\n",
    "    def lr_schedule(epoch):\n",
    "        lr = 0.1\n",
    "        if epoch >= 10 and epoch < 20:\n",
    "            lr = 0.01\n",
    "        if epoch >= 20:\n",
    "            lr = 0.001\n",
    "        print('Learning rate: ', lr)\n",
    "        return lr"
   ]
  },
  {
   "cell_type": "code",
   "execution_count": 19,
   "metadata": {
    "collapsed": true
   },
   "outputs": [],
   "source": [
    "import keras.backend as K\n",
    "\n",
    "def precision(y_true, y_pred):\n",
    "    # Calculates the precision\n",
    "    true_positives = K.sum(K.round(K.clip(y_true * y_pred, 0, 1)))\n",
    "    predicted_positives = K.sum(K.round(K.clip(y_pred, 0, 1)))\n",
    "    precision = true_positives / (predicted_positives + K.epsilon())\n",
    "    return precision\n",
    "\n",
    "def recall(y_true, y_pred):\n",
    "    # Calculates the recall\n",
    "    true_positives = K.sum(K.round(K.clip(y_true * y_pred, 0, 1)))\n",
    "    possible_positives = K.sum(K.round(K.clip(y_true, 0, 1)))\n",
    "    recall = true_positives / (possible_positives + K.epsilon())\n",
    "    return recall\n",
    "\n",
    "def fbeta_score(y_true, y_pred, beta=1):\n",
    "    # Calculates the F score, the weighted harmonic mean of precision and recall.\n",
    "    if beta < 0:\n",
    "        raise ValueError('The lowest choosable beta is zero (only precision).')\n",
    "    \n",
    "    # If there are no true positives, fix the F score at 0 like sklearn.\n",
    "    if K.sum(K.round(K.clip(y_true, 0, 1))) == 0:\n",
    "        return 0\n",
    "\n",
    "    p = precision(y_true, y_pred)\n",
    "    r = recall(y_true, y_pred)\n",
    "    bb = beta ** 2\n",
    "    fbeta_score = (1 + bb) * (p * r) / (bb * p + r + K.epsilon())\n",
    "    return fbeta_score\n",
    "\n",
    "def fmeasure(y_true, y_pred):\n",
    "    # Calculates the f-measure, the harmonic mean of precision and recall.\n",
    "    return fbeta_score(y_true, y_pred, beta=1)\n"
   ]
  },
  {
   "cell_type": "code",
   "execution_count": 20,
   "metadata": {
    "collapsed": true
   },
   "outputs": [],
   "source": [
    "bin_label = np.zeros((6500,9))\n",
    "for i in range(labels.shape[0]):\n",
    "    label_nona = labels.loc[i].dropna()\n",
    "    for j in range(1,label_nona.shape[0]):\n",
    "        bin_label[i,int(label_nona[j])]=1"
   ]
  },
  {
   "cell_type": "code",
   "execution_count": 21,
   "metadata": {
    "collapsed": false
   },
   "outputs": [
    {
     "data": {
      "text/plain": [
       "(6500, 9)"
      ]
     },
     "execution_count": 21,
     "metadata": {},
     "output_type": "execute_result"
    }
   ],
   "source": [
    "bin_label.shape"
   ]
  },
  {
   "cell_type": "code",
   "execution_count": 22,
   "metadata": {
    "collapsed": false
   },
   "outputs": [
    {
     "data": {
      "text/plain": [
       "(6500, 2560, 12)"
      ]
     },
     "execution_count": 22,
     "metadata": {},
     "output_type": "execute_result"
    }
   ],
   "source": [
    "ecg12_seg0.shape"
   ]
  },
  {
   "cell_type": "code",
   "execution_count": 23,
   "metadata": {
    "collapsed": true
   },
   "outputs": [],
   "source": [
    "train_index = np.arange(6500)"
   ]
  },
  {
   "cell_type": "code",
   "execution_count": 24,
   "metadata": {
    "collapsed": false
   },
   "outputs": [],
   "source": [
    "train_index = np.insert(train_index,label4_list,label4_list)#[145:155]"
   ]
  },
  {
   "cell_type": "code",
   "execution_count": 25,
   "metadata": {
    "collapsed": false
   },
   "outputs": [
    {
     "data": {
      "text/plain": [
       "(6611,)"
      ]
     },
     "execution_count": 25,
     "metadata": {},
     "output_type": "execute_result"
    }
   ],
   "source": [
    "train_index.shape"
   ]
  },
  {
   "cell_type": "code",
   "execution_count": 26,
   "metadata": {
    "collapsed": false
   },
   "outputs": [],
   "source": [
    "from sklearn.model_selection import train_test_split\n",
    "index_tr, index_vld, lab_tr, lab_vld = train_test_split(train_index, labels_en['label1'], \n",
    "                                        stratify = labels_en['label1'], #test_size=0.2,\n",
    "                                        shuffle=True, random_state = 123)"
   ]
  },
  {
   "cell_type": "code",
   "execution_count": 27,
   "metadata": {
    "collapsed": false
   },
   "outputs": [
    {
     "data": {
      "text/plain": [
       "(4958,)"
      ]
     },
     "execution_count": 27,
     "metadata": {},
     "output_type": "execute_result"
    }
   ],
   "source": [
    "index_tr.shape"
   ]
  },
  {
   "cell_type": "code",
   "execution_count": 28,
   "metadata": {
    "collapsed": false
   },
   "outputs": [
    {
     "data": {
      "text/plain": [
       "(4896,)"
      ]
     },
     "execution_count": 28,
     "metadata": {},
     "output_type": "execute_result"
    }
   ],
   "source": [
    "np.unique(index_tr).shape"
   ]
  },
  {
   "cell_type": "code",
   "execution_count": 29,
   "metadata": {
    "collapsed": false
   },
   "outputs": [
    {
     "data": {
      "text/plain": [
       "(1653,)"
      ]
     },
     "execution_count": 29,
     "metadata": {},
     "output_type": "execute_result"
    }
   ],
   "source": [
    "index_vld.shape"
   ]
  },
  {
   "cell_type": "code",
   "execution_count": 30,
   "metadata": {
    "collapsed": false
   },
   "outputs": [
    {
     "data": {
      "text/plain": [
       "(1653,)"
      ]
     },
     "execution_count": 30,
     "metadata": {},
     "output_type": "execute_result"
    }
   ],
   "source": [
    "lab_vld.shape"
   ]
  },
  {
   "cell_type": "code",
   "execution_count": 31,
   "metadata": {
    "collapsed": false
   },
   "outputs": [
    {
     "data": {
      "text/plain": [
       "(4958,)"
      ]
     },
     "execution_count": 31,
     "metadata": {},
     "output_type": "execute_result"
    }
   ],
   "source": [
    "lab_tr.shape"
   ]
  },
  {
   "cell_type": "code",
   "execution_count": 32,
   "metadata": {
    "collapsed": false
   },
   "outputs": [
    {
     "data": {
      "text/plain": [
       "(6611, 9)"
      ]
     },
     "execution_count": 32,
     "metadata": {},
     "output_type": "execute_result"
    }
   ],
   "source": [
    "labels_en.shape"
   ]
  },
  {
   "cell_type": "code",
   "execution_count": 33,
   "metadata": {
    "collapsed": false
   },
   "outputs": [
    {
     "data": {
      "text/plain": [
       "(6611, 9)"
      ]
     },
     "execution_count": 33,
     "metadata": {},
     "output_type": "execute_result"
    }
   ],
   "source": [
    "labels_en.shape"
   ]
  },
  {
   "cell_type": "code",
   "execution_count": 34,
   "metadata": {
    "collapsed": false
   },
   "outputs": [
    {
     "data": {
      "text/plain": [
       "6499"
      ]
     },
     "execution_count": 34,
     "metadata": {},
     "output_type": "execute_result"
    }
   ],
   "source": [
    "max(labels_en.index.tolist()) #labels_en.shape"
   ]
  },
  {
   "cell_type": "code",
   "execution_count": 35,
   "metadata": {
    "collapsed": false
   },
   "outputs": [
    {
     "data": {
      "text/plain": [
       "6499"
      ]
     },
     "execution_count": 35,
     "metadata": {},
     "output_type": "execute_result"
    }
   ],
   "source": [
    "max(lab_vld.index.tolist())"
   ]
  },
  {
   "cell_type": "code",
   "execution_count": 36,
   "metadata": {
    "collapsed": false
   },
   "outputs": [
    {
     "data": {
      "text/plain": [
       "6497"
      ]
     },
     "execution_count": 36,
     "metadata": {},
     "output_type": "execute_result"
    }
   ],
   "source": [
    "max(lab_tr.index.tolist())#.shape"
   ]
  },
  {
   "cell_type": "code",
   "execution_count": 37,
   "metadata": {
    "collapsed": true
   },
   "outputs": [],
   "source": [
    "X_tr = [ecg12_seg0[index_tr],ecg12_seg1[index_tr],ecg12_seg2[index_tr],ecg12_seg3[index_tr],\n",
    "        ecg12_seg4[index_tr],ecg12_seg5[index_tr],ecg12_seg6[index_tr],ecg12_seg7[index_tr],\n",
    "        ecg12_seg8[index_tr],ecg12_seg9[index_tr],\n",
    "       ]"
   ]
  },
  {
   "cell_type": "code",
   "execution_count": 38,
   "metadata": {
    "collapsed": false
   },
   "outputs": [
    {
     "data": {
      "text/plain": [
       "(1653,)"
      ]
     },
     "execution_count": 38,
     "metadata": {},
     "output_type": "execute_result"
    }
   ],
   "source": [
    "index_vld.shape"
   ]
  },
  {
   "cell_type": "code",
   "execution_count": 39,
   "metadata": {
    "collapsed": true
   },
   "outputs": [],
   "source": [
    "X_vld = [ecg12_seg0[index_vld],ecg12_seg1[index_vld],ecg12_seg2[index_vld],ecg12_seg3[index_vld],\n",
    "         ecg12_seg4[index_vld],ecg12_seg5[index_vld],ecg12_seg6[index_vld],ecg12_seg7[index_vld],\n",
    "         ecg12_seg8[index_vld],ecg12_seg9[index_vld],\n",
    "        ]"
   ]
  },
  {
   "cell_type": "code",
   "execution_count": 40,
   "metadata": {
    "collapsed": false
   },
   "outputs": [
    {
     "data": {
      "text/plain": [
       "(1653, 2560, 12)"
      ]
     },
     "execution_count": 40,
     "metadata": {},
     "output_type": "execute_result"
    }
   ],
   "source": [
    "ecg12_seg0[index_vld].shape"
   ]
  },
  {
   "cell_type": "code",
   "execution_count": 41,
   "metadata": {
    "collapsed": false
   },
   "outputs": [],
   "source": [
    "def preprocess_y(y,num_class=9):\n",
    "    bin_label = np.zeros((y.shape[0],num_class))\n",
    "    for i in range(y.shape[0]):\n",
    "        label_nona = labels.loc[lab_tr.index.tolist()[i]].dropna()\n",
    "        for j in range(1,label_nona.shape[0]):\n",
    "            bin_label[i,int(label_nona[j])]=1\n",
    "    return bin_label"
   ]
  },
  {
   "cell_type": "code",
   "execution_count": 42,
   "metadata": {
    "collapsed": true
   },
   "outputs": [],
   "source": [
    "y_tr = preprocess_y(lab_tr)\n",
    "y_vld = preprocess_y(lab_vld) "
   ]
  },
  {
   "cell_type": "code",
   "execution_count": 43,
   "metadata": {
    "collapsed": false
   },
   "outputs": [
    {
     "data": {
      "text/plain": [
       "(4958, 9)"
      ]
     },
     "execution_count": 43,
     "metadata": {},
     "output_type": "execute_result"
    }
   ],
   "source": [
    "y_tr.shape"
   ]
  },
  {
   "cell_type": "code",
   "execution_count": 44,
   "metadata": {
    "collapsed": false
   },
   "outputs": [
    {
     "data": {
      "text/plain": [
       "(1653, 9)"
      ]
     },
     "execution_count": 44,
     "metadata": {},
     "output_type": "execute_result"
    }
   ],
   "source": [
    "y_vld.shape"
   ]
  },
  {
   "cell_type": "code",
   "execution_count": 45,
   "metadata": {
    "collapsed": false
   },
   "outputs": [],
   "source": [
    "from multilabelMetrics.labelbasedclassification import precisionMacro,recallMacro,fbetaMacro"
   ]
  },
  {
   "cell_type": "code",
   "execution_count": 46,
   "metadata": {
    "collapsed": true
   },
   "outputs": [],
   "source": [
    "checkpointer = ModelCheckpoint(filepath='weights_best_simple_model_21.hdf5', \n",
    "                            monitor='val_fmeasure',verbose=1, save_best_only=True, mode='max')#val_fmeasure\n",
    "reduce = ReduceLROnPlateau(monitor='val_fmeasure',factor=0.5,patience=2,verbose=1,min_delta=1e-4,mode='max')\n",
    "''' \n",
    "model.compile(optimizer = 'adam',\n",
    "           loss='binary_crossentropy',\n",
    "           metrics=['accuracy',fmeasure,recall,precision])\n",
    "\n",
    "epochs = 20\n",
    "\n",
    "history = model.fit_generator(train_generator,\n",
    "       validation_data = val_generator,\n",
    "       epochs=epochs,\n",
    "       callbacks=[checkpointer,reduce],\n",
    "       verbose=1)\n",
    "'''\n",
    "pass"
   ]
  },
  {
   "cell_type": "code",
   "execution_count": 47,
   "metadata": {
    "collapsed": true
   },
   "outputs": [],
   "source": [
    "def add_compile(model, config):\n",
    "    \n",
    "    optimizer = SGD(lr=config.lr_schedule(0), momentum=0.9)#Adam()#\n",
    "    model.compile(loss='binary_crossentropy',#weighted_loss,#'binary_crossentropy',\n",
    "                  optimizer='adam',#optimizer,#'adam',\n",
    "                  metrics=['accuracy',fmeasure,recall,precision])   \n",
    "                    #['accuracy',fbetaMacro,recallMacro,precisionMacro])  \n",
    "                    #['accuracy',fmeasure,recall,precision])   "
   ]
  },
  {
   "cell_type": "code",
   "execution_count": 48,
   "metadata": {
    "collapsed": false
   },
   "outputs": [
    {
     "name": "stdout",
     "output_type": "stream",
     "text": [
      "Learning rate:  0.1\n",
      "WARNING:tensorflow:From /home/JDWorkSpace/vyuf0458/.local/lib/python3.5/site-packages/tensorflow/python/ops/math_ops.py:3066: to_int32 (from tensorflow.python.ops.math_ops) is deprecated and will be removed in a future version.\n",
      "Instructions for updating:\n",
      "Use tf.cast instead.\n",
      "Train on 4958 samples, validate on 1653 samples\n",
      "Epoch 1/20\n",
      "4958/4958 [==============================] - 123s 25ms/step - loss: 0.4546 - acc: 0.8899 - fmeasure: 0.5620 - recall: 0.4916 - precision: 0.7145 - val_loss: 1.0468 - val_acc: 0.8356 - val_fmeasure: 0.1275 - val_recall: 0.0913 - val_precision: 0.2141\n",
      "\n",
      "Epoch 00001: val_fmeasure improved from -inf to 0.12746, saving model to weights_best_simple_model_21.hdf5\n",
      "Epoch 2/20\n",
      "4958/4958 [==============================] - 59s 12ms/step - loss: 0.3392 - acc: 0.9202 - fmeasure: 0.6439 - recall: 0.5476 - precision: 0.7893 - val_loss: 1.0258 - val_acc: 0.8207 - val_fmeasure: 0.1650 - val_recall: 0.1347 - val_precision: 0.2146\n",
      "\n",
      "Epoch 00002: val_fmeasure improved from 0.12746 to 0.16499, saving model to weights_best_simple_model_21.hdf5\n",
      "Epoch 3/20\n",
      "4958/4958 [==============================] - 59s 12ms/step - loss: 0.2681 - acc: 0.9331 - fmeasure: 0.7134 - recall: 0.6300 - precision: 0.8263 - val_loss: 0.9307 - val_acc: 0.8246 - val_fmeasure: 0.1674 - val_recall: 0.1341 - val_precision: 0.2252\n",
      "\n",
      "Epoch 00003: val_fmeasure improved from 0.16499 to 0.16742, saving model to weights_best_simple_model_21.hdf5\n",
      "Epoch 4/20\n",
      "4958/4958 [==============================] - 58s 12ms/step - loss: 0.2468 - acc: 0.9358 - fmeasure: 0.7300 - recall: 0.6567 - precision: 0.8265 - val_loss: 1.1682 - val_acc: 0.8175 - val_fmeasure: 0.1201 - val_recall: 0.0948 - val_precision: 0.1660\n",
      "\n",
      "Epoch 00004: val_fmeasure did not improve from 0.16742\n",
      "Epoch 5/20\n",
      "4958/4958 [==============================] - 58s 12ms/step - loss: 0.2293 - acc: 0.9371 - fmeasure: 0.7394 - recall: 0.6748 - precision: 0.8212 - val_loss: 0.9484 - val_acc: 0.8314 - val_fmeasure: 0.1228 - val_recall: 0.0894 - val_precision: 0.1984\n",
      "\n",
      "Epoch 00005: val_fmeasure did not improve from 0.16742\n",
      "\n",
      "Epoch 00005: ReduceLROnPlateau reducing learning rate to 0.0005000000237487257.\n",
      "Epoch 6/20\n",
      "4958/4958 [==============================] - 59s 12ms/step - loss: 0.1975 - acc: 0.9460 - fmeasure: 0.7784 - recall: 0.7199 - precision: 0.8506 - val_loss: 0.8735 - val_acc: 0.8104 - val_fmeasure: 0.1873 - val_recall: 0.1664 - val_precision: 0.2155\n",
      "\n",
      "Epoch 00006: val_fmeasure improved from 0.16742 to 0.18733, saving model to weights_best_simple_model_21.hdf5\n",
      "Epoch 7/20\n",
      "4958/4958 [==============================] - 58s 12ms/step - loss: 0.1812 - acc: 0.9515 - fmeasure: 0.8040 - recall: 0.7527 - precision: 0.8658 - val_loss: 0.8816 - val_acc: 0.8199 - val_fmeasure: 0.1716 - val_recall: 0.1420 - val_precision: 0.2184\n",
      "\n",
      "Epoch 00007: val_fmeasure did not improve from 0.18733\n",
      "Epoch 8/20\n",
      "4958/4958 [==============================] - 59s 12ms/step - loss: 0.1697 - acc: 0.9529 - fmeasure: 0.8113 - recall: 0.7675 - precision: 0.8631 - val_loss: 0.9012 - val_acc: 0.8159 - val_fmeasure: 0.1943 - val_recall: 0.1688 - val_precision: 0.2307\n",
      "\n",
      "Epoch 00008: val_fmeasure improved from 0.18733 to 0.19432, saving model to weights_best_simple_model_21.hdf5\n",
      "Epoch 9/20\n",
      "4958/4958 [==============================] - 58s 12ms/step - loss: 0.1723 - acc: 0.9527 - fmeasure: 0.8097 - recall: 0.7640 - precision: 0.8637 - val_loss: 0.9090 - val_acc: 0.8112 - val_fmeasure: 0.2225 - val_recall: 0.2052 - val_precision: 0.2439\n",
      "\n",
      "Epoch 00009: val_fmeasure improved from 0.19432 to 0.22252, saving model to weights_best_simple_model_21.hdf5\n",
      "Epoch 10/20\n",
      "4958/4958 [==============================] - 59s 12ms/step - loss: 0.1508 - acc: 0.9580 - fmeasure: 0.8340 - recall: 0.7980 - precision: 0.8751 - val_loss: 0.9001 - val_acc: 0.8104 - val_fmeasure: 0.1988 - val_recall: 0.1791 - val_precision: 0.2244\n",
      "\n",
      "Epoch 00010: val_fmeasure did not improve from 0.22252\n",
      "Epoch 11/20\n",
      "4958/4958 [==============================] - 59s 12ms/step - loss: 0.1630 - acc: 0.9551 - fmeasure: 0.8213 - recall: 0.7810 - precision: 0.8692 - val_loss: 0.9900 - val_acc: 0.8042 - val_fmeasure: 0.2069 - val_recall: 0.1937 - val_precision: 0.2225\n",
      "\n",
      "Epoch 00011: val_fmeasure did not improve from 0.22252\n",
      "\n",
      "Epoch 00011: ReduceLROnPlateau reducing learning rate to 0.0002500000118743628.\n",
      "Epoch 12/20\n",
      "4958/4958 [==============================] - 59s 12ms/step - loss: 0.1428 - acc: 0.9622 - fmeasure: 0.8502 - recall: 0.8124 - precision: 0.8932 - val_loss: 0.9860 - val_acc: 0.8060 - val_fmeasure: 0.2290 - val_recall: 0.2183 - val_precision: 0.2417\n",
      "\n",
      "Epoch 00012: val_fmeasure improved from 0.22252 to 0.22902, saving model to weights_best_simple_model_21.hdf5\n",
      "Epoch 13/20\n",
      "4958/4958 [==============================] - 59s 12ms/step - loss: 0.1342 - acc: 0.9634 - fmeasure: 0.8572 - recall: 0.8288 - precision: 0.8891 - val_loss: 0.9511 - val_acc: 0.8049 - val_fmeasure: 0.2195 - val_recall: 0.2079 - val_precision: 0.2332\n",
      "\n",
      "Epoch 00013: val_fmeasure did not improve from 0.22902\n",
      "Epoch 14/20\n",
      "4958/4958 [==============================] - 59s 12ms/step - loss: 0.1338 - acc: 0.9635 - fmeasure: 0.8568 - recall: 0.8237 - precision: 0.8940 - val_loss: 0.9586 - val_acc: 0.8065 - val_fmeasure: 0.2282 - val_recall: 0.2169 - val_precision: 0.2416\n",
      "\n",
      "Epoch 00014: val_fmeasure did not improve from 0.22902\n",
      "\n",
      "Epoch 00014: ReduceLROnPlateau reducing learning rate to 0.0001250000059371814.\n",
      "Epoch 15/20\n",
      "4958/4958 [==============================] - 59s 12ms/step - loss: 0.1206 - acc: 0.9670 - fmeasure: 0.8716 - recall: 0.8455 - precision: 0.9004 - val_loss: 1.0080 - val_acc: 0.8042 - val_fmeasure: 0.2324 - val_recall: 0.2246 - val_precision: 0.2416\n",
      "\n",
      "Epoch 00015: val_fmeasure improved from 0.22902 to 0.23237, saving model to weights_best_simple_model_21.hdf5\n",
      "Epoch 16/20\n",
      "4958/4958 [==============================] - 58s 12ms/step - loss: 0.1185 - acc: 0.9683 - fmeasure: 0.8763 - recall: 0.8500 - precision: 0.9056 - val_loss: 1.0334 - val_acc: 0.8008 - val_fmeasure: 0.2265 - val_recall: 0.2208 - val_precision: 0.2334\n",
      "\n",
      "Epoch 00016: val_fmeasure did not improve from 0.23237\n",
      "Epoch 17/20\n",
      "4958/4958 [==============================] - 59s 12ms/step - loss: 0.1144 - acc: 0.9692 - fmeasure: 0.8808 - recall: 0.8576 - precision: 0.9064 - val_loss: 1.0624 - val_acc: 0.8010 - val_fmeasure: 0.2243 - val_recall: 0.2178 - val_precision: 0.2320\n",
      "\n",
      "Epoch 00017: val_fmeasure did not improve from 0.23237\n",
      "\n",
      "Epoch 00017: ReduceLROnPlateau reducing learning rate to 6.25000029685907e-05.\n",
      "Epoch 18/20\n",
      "4958/4958 [==============================] - 58s 12ms/step - loss: 0.1201 - acc: 0.9701 - fmeasure: 0.8840 - recall: 0.8591 - precision: 0.9115 - val_loss: 1.0735 - val_acc: 0.8008 - val_fmeasure: 0.2292 - val_recall: 0.2240 - val_precision: 0.2355\n",
      "\n",
      "Epoch 00018: val_fmeasure did not improve from 0.23237\n",
      "Epoch 19/20\n",
      "4958/4958 [==============================] - 58s 12ms/step - loss: 0.1024 - acc: 0.9728 - fmeasure: 0.8944 - recall: 0.8706 - precision: 0.9206 - val_loss: 1.0767 - val_acc: 0.8004 - val_fmeasure: 0.2284 - val_recall: 0.2234 - val_precision: 0.2342\n",
      "\n",
      "Epoch 00019: val_fmeasure did not improve from 0.23237\n",
      "\n",
      "Epoch 00019: ReduceLROnPlateau reducing learning rate to 3.125000148429535e-05.\n",
      "Epoch 20/20\n",
      "4958/4958 [==============================] - 58s 12ms/step - loss: 0.1043 - acc: 0.9721 - fmeasure: 0.8919 - recall: 0.8683 - precision: 0.9181 - val_loss: 1.1013 - val_acc: 0.7998 - val_fmeasure: 0.2293 - val_recall: 0.2254 - val_precision: 0.2339\n",
      "\n",
      "Epoch 00020: val_fmeasure did not improve from 0.23237\n"
     ]
    }
   ],
   "source": [
    "config = Config()\n",
    "add_compile(model, config)\n",
    "\n",
    "model_name = 'resnet21.h5'\n",
    "earlystop = EarlyStopping(\n",
    "            monitor='val_fmeasure',#'val_categorical_accuracy',\n",
    "            patience=10,\n",
    "            )\n",
    "checkpoint = ModelCheckpoint(filepath=model_name,\n",
    "                             monitor='val_categorical_accuracy', mode='max',\n",
    "                             save_best_only='True')\n",
    "\n",
    "lr_scheduler = LearningRateScheduler(config.lr_schedule)\n",
    "\n",
    "callback_lists = [checkpointer,reduce]#[checkpointer,lr_scheduler]#\n",
    "#[checkpointer,earlystop,lr_scheduler]\n",
    "#[checkpoint, earlystop,lr_scheduler] \n",
    "\n",
    "history = model.fit(x=X_tr, y=y_tr, batch_size=64, epochs=20,  #class_weight=cw,#'auto',\n",
    "          verbose=1, validation_data=(X_vld, y_vld), callbacks=callback_lists )"
   ]
  },
  {
   "cell_type": "code",
   "execution_count": 76,
   "metadata": {
    "collapsed": true
   },
   "outputs": [],
   "source": [
    "import gc\n",
    "if True:# True  False\n",
    "    K.clear_session()\n",
    "    gc.collect()\n",
    "    config = tf.ConfigProto(intra_op_parallelism_threads=1,inter_op_parallelism_threads=1)\n",
    "    config.gpu_options.per_process_gpu_memory_fraction = 0.8\n",
    "\n",
    "    session = tf.Session(config=config)\n",
    "\n",
    "    KTF.set_session(session)"
   ]
  },
  {
   "cell_type": "code",
   "execution_count": 78,
   "metadata": {
    "collapsed": false
   },
   "outputs": [],
   "source": [
    "from keras.models import load_model\n",
    "model = load_model(\"weights_best_simple_model_10_837.hdf5\",custom_objects={'fmeasure':fmeasure,\n",
    "                                                                           'recall':recall,\n",
    "                                                                          'precision':precision})#"
   ]
  },
  {
   "cell_type": "code",
   "execution_count": 65,
   "metadata": {
    "collapsed": true
   },
   "outputs": [],
   "source": [
    "test_x_seg0 = read_data_seg(os.getcwd(),split='Val',n_index=0)\n",
    "test_x_seg1 = read_data_seg(os.getcwd(),split='Val',n_index=1)\n",
    "test_x_seg2 = read_data_seg(os.getcwd(),split='Val',n_index=2)\n",
    "test_x_seg3 = read_data_seg(os.getcwd(),split='Val',n_index=3)\n",
    "test_x_seg4 = read_data_seg(os.getcwd(),split='Val',n_index=4)"
   ]
  },
  {
   "cell_type": "code",
   "execution_count": 66,
   "metadata": {
    "collapsed": false
   },
   "outputs": [],
   "source": [
    "test_x_seg5 = read_data_seg(os.getcwd(),split='Val',n_index=5)\n",
    "test_x_seg6 = read_data_seg(os.getcwd(),split='Val',n_index=6)\n",
    "test_x_seg7 = read_data_seg(os.getcwd(),split='Val',n_index=7)\n",
    "test_x_seg8 = read_data_seg(os.getcwd(),split='Val',n_index=8)\n",
    "test_x_seg9 = read_data_seg(os.getcwd(),split='Val',n_index=9)"
   ]
  },
  {
   "cell_type": "code",
   "execution_count": 67,
   "metadata": {
    "collapsed": true
   },
   "outputs": [],
   "source": [
    "test_x = [test_x_seg0,test_x_seg1,test_x_seg2,test_x_seg3,test_x_seg4,\n",
    "          test_x_seg5,test_x_seg6,test_x_seg7,test_x_seg8,test_x_seg9,\n",
    "         ]"
   ]
  },
  {
   "cell_type": "code",
   "execution_count": 79,
   "metadata": {
    "collapsed": true
   },
   "outputs": [],
   "source": [
    "test_y = model.predict(test_x)"
   ]
  },
  {
   "cell_type": "code",
   "execution_count": 80,
   "metadata": {
    "collapsed": false
   },
   "outputs": [
    {
     "data": {
      "text/plain": [
       "array([[8.0325288e-01, 2.2053719e-06, 6.5773726e-05, ..., 2.0313710e-02,\n",
       "        4.0886879e-02, 2.8821021e-02],\n",
       "       [1.9823372e-02, 3.6883354e-04, 1.7260909e-03, ..., 6.0519755e-02,\n",
       "        2.1928549e-04, 5.3903103e-02],\n",
       "       [5.0374866e-03, 2.1898061e-02, 4.3159574e-02, ..., 5.7151586e-02,\n",
       "        3.3454001e-03, 9.0817583e-01],\n",
       "       ...,\n",
       "       [2.7716160e-06, 1.8492043e-03, 3.5457313e-02, ..., 8.4909797e-02,\n",
       "        3.8981438e-05, 2.8588742e-02],\n",
       "       [2.0504534e-02, 7.9799294e-03, 2.1578744e-01, ..., 4.6792299e-02,\n",
       "        1.5034974e-03, 7.5389177e-01],\n",
       "       [4.5960128e-01, 6.5118074e-05, 5.3116679e-04, ..., 7.5925589e-02,\n",
       "        1.5902817e-03, 6.1725229e-02]], dtype=float32)"
      ]
     },
     "execution_count": 80,
     "metadata": {},
     "output_type": "execute_result"
    }
   ],
   "source": [
    "test_y"
   ]
  },
  {
   "cell_type": "code",
   "execution_count": 83,
   "metadata": {
    "collapsed": true
   },
   "outputs": [],
   "source": [
    "from sklearn.metrics import matthews_corrcoef\n",
    "from sklearn.metrics import hamming_loss,f1_score\n",
    "import csv"
   ]
  },
  {
   "cell_type": "code",
   "execution_count": 71,
   "metadata": {
    "collapsed": false
   },
   "outputs": [
    {
     "data": {
      "text/plain": [
       "(6611,)"
      ]
     },
     "execution_count": 71,
     "metadata": {},
     "output_type": "execute_result"
    }
   ],
   "source": [
    "train_index.shape"
   ]
  },
  {
   "cell_type": "code",
   "execution_count": 72,
   "metadata": {
    "collapsed": true
   },
   "outputs": [],
   "source": [
    "train_x = [ecg12_seg0[:],ecg12_seg1[:],ecg12_seg2[:],ecg12_seg3[:],\n",
    "           ecg12_seg4[:],ecg12_seg5[:],ecg12_seg6[:],ecg12_seg7[:],\n",
    "           ecg12_seg8[:],ecg12_seg9[:],\n",
    "          ]"
   ]
  },
  {
   "cell_type": "code",
   "execution_count": 87,
   "metadata": {
    "collapsed": false
   },
   "outputs": [
    {
     "name": "stdout",
     "output_type": "stream",
     "text": [
      "best_threshold:  [0.3 0.1 0.1 0.1 0.1 0.2 0.1 0.1 0.8]\n"
     ]
    },
    {
     "data": {
      "text/plain": [
       "0.06333333333333334"
      ]
     },
     "execution_count": 87,
     "metadata": {},
     "output_type": "execute_result"
    }
   ],
   "source": [
    "x_tr_y = model.predict(train_x)#X_tr\n",
    "\n",
    "threshold = np.arange(0.1,0.9,0.1)\n",
    "\n",
    "out = x_tr_y\n",
    "y_test = bin_label#y_tr\n",
    "\n",
    "acc = []\n",
    "accuracies = []\n",
    "best_threshold = np.zeros(out.shape[1])\n",
    "for i in range(out.shape[1]):\n",
    "    y_prob = np.array(out[:,i])\n",
    "    for j in threshold:\n",
    "        y_pred = [1 if prob>=j else 0 for prob in y_prob]\n",
    "        #acc.append( matthews_corrcoef(y_test[:,i],y_pred))\n",
    "        acc.append(f1_score(y_test[:,i],y_pred,average='macro'))\n",
    "    acc   = np.array(acc)\n",
    "    index = np.where(acc==acc.max()) \n",
    "    accuracies.append(acc.max()) \n",
    "    best_threshold[i] = threshold[index[0][0]]\n",
    "    acc = []\n",
    "    \n",
    "print(\"best_threshold: \",best_threshold)\n",
    "\n",
    "y_pred = np.array([[1 if out[i,j]>=best_threshold[j] else 0 for j in range(y_test.shape[1])] for i in range(len(y_test))])\n",
    "\n",
    "y_pred \n",
    "\n",
    "y_test\n",
    "\n",
    "#best_threshold:  [0.7 0.4 0.5 0.4 0.3 0.2 0.3 0.4 0.4]\n",
    "#0.022393162393162393\n",
    "\n",
    "#best_threshold:  [0.7 0.4 0.5 0.4 0.4 0.2 0.4 0.4 0.5]\n",
    "#0.022615384615384617\n",
    "\n",
    "hamming_loss(y_test,y_pred)"
   ]
  },
  {
   "cell_type": "code",
   "execution_count": 88,
   "metadata": {
    "collapsed": false
   },
   "outputs": [
    {
     "data": {
      "text/plain": [
       "0.6658023154225394"
      ]
     },
     "execution_count": 88,
     "metadata": {},
     "output_type": "execute_result"
    }
   ],
   "source": [
    "f1_score(y_test,y_pred,average='macro')"
   ]
  },
  {
   "cell_type": "code",
   "execution_count": 59,
   "metadata": {
    "collapsed": false
   },
   "outputs": [
    {
     "data": {
      "text/plain": [
       "array([0.6, 0.5, 0.2, 0.2, 0.4, 0.1, 0.3, 0.2, 0.6])"
      ]
     },
     "execution_count": 59,
     "metadata": {},
     "output_type": "execute_result"
    }
   ],
   "source": [
    "for i,v in enumerate(best_threshold):\n",
    "    if v > 0.1:\n",
    "        best_threshold[i] =  v# - 0.1\n",
    "best_threshold#array([0.8, 0.6, 0.5, 0.1, 0.3, 0.3, 0.4, 0.3, 0.4])"
   ]
  },
  {
   "cell_type": "code",
   "execution_count": 82,
   "metadata": {
    "collapsed": true
   },
   "outputs": [],
   "source": [
    "classes = [0,1,2,3,4,5,6,7,8]\n",
    "\n",
    "y_pred = [[1 if test_y[i,j]>=best_threshold[j] else 0 for j in range(test_y.shape[1])] \n",
    "          for i in range(len(test_y))]\n",
    "pred=[]\n",
    "for j in range(test_y.shape[0]):\n",
    "    pred.append([classes[i] for i in range(9) if y_pred[j][i] == 1])\n",
    "\n",
    "with open('answers116.csv','w') as csvfile:\n",
    "    writer = csv.writer(csvfile)\n",
    "    writer.writerow(['File_name', 'label1', 'label2',\n",
    "                    'label3', 'label4', 'label5', 'label6', 'label7', 'label8'])\n",
    "    count = 0\n",
    "    for file_name in val_files:\n",
    "        if file_name.endswith('.mat'):\n",
    "            \n",
    "            record_name = file_name.strip('.mat')\n",
    "            answer = []\n",
    "            answer.append(record_name) \n",
    "            \n",
    "            result = pred[count]\n",
    "            \n",
    "            answer.extend(result)\n",
    "            for i in range(8-len(result)):\n",
    "                answer.append('')\n",
    "                \n",
    "            #print(answer)\n",
    "            count += 1\n",
    "            writer.writerow(answer)\n",
    "    csvfile.close()"
   ]
  },
  {
   "cell_type": "code",
   "execution_count": null,
   "metadata": {
    "collapsed": true
   },
   "outputs": [],
   "source": []
  },
  {
   "cell_type": "code",
   "execution_count": 61,
   "metadata": {
    "collapsed": false
   },
   "outputs": [],
   "source": [
    "import csv\n",
    "thred = 0.15\n",
    "''' \n",
    "pred = []\n",
    "for i in range(test_y.shape[0]):\n",
    "    \n",
    "    try:\n",
    "        pred_list = list(np.hstack(np.argwhere(test_y[i]>thred)))\n",
    "    except ValueError:\n",
    "        print(\" ValueError !!! \")\n",
    "        pred_list = ['']\n",
    "        \n",
    "    pred.append(pred_list)\n",
    "    \n",
    "with open('answers66.csv','w') as csvfile:\n",
    "    writer = csv.writer(csvfile)\n",
    "    writer.writerow(['File_name', 'label1', 'label2',\n",
    "                    'label3', 'label4', 'label5', 'label6', 'label7', 'label8'])\n",
    "    count = 0\n",
    "    for file_name in val_files:\n",
    "        if file_name.endswith('.mat'):\n",
    "            \n",
    "            record_name = file_name.strip('.mat')\n",
    "            answer = []\n",
    "            answer.append(record_name)\n",
    "            \n",
    "            result = pred[count]\n",
    "            \n",
    "            answer.extend(result)\n",
    "            for i in range(8-len(result)):\n",
    "                answer.append('')\n",
    "                \n",
    "            #print(answer)\n",
    "            count += 1\n",
    "            writer.writerow(answer)\n",
    "    csvfile.close()\n",
    "'''\n",
    "pass"
   ]
  },
  {
   "cell_type": "code",
   "execution_count": null,
   "metadata": {
    "collapsed": true
   },
   "outputs": [],
   "source": []
  },
  {
   "cell_type": "code",
   "execution_count": null,
   "metadata": {
    "collapsed": true
   },
   "outputs": [],
   "source": []
  },
  {
   "cell_type": "code",
   "execution_count": null,
   "metadata": {
    "collapsed": true
   },
   "outputs": [],
   "source": []
  },
  {
   "cell_type": "code",
   "execution_count": null,
   "metadata": {
    "collapsed": true
   },
   "outputs": [],
   "source": []
  },
  {
   "cell_type": "code",
   "execution_count": null,
   "metadata": {
    "collapsed": true
   },
   "outputs": [],
   "source": []
  },
  {
   "cell_type": "code",
   "execution_count": null,
   "metadata": {
    "collapsed": true
   },
   "outputs": [],
   "source": []
  }
 ],
 "metadata": {
  "anaconda-cloud": {},
  "kernelspec": {
   "display_name": "Python [conda env:anaconda3]",
   "language": "python",
   "name": "conda-env-anaconda3-py"
  },
  "language_info": {
   "codemirror_mode": {
    "name": "ipython",
    "version": 3
   },
   "file_extension": ".py",
   "mimetype": "text/x-python",
   "name": "python",
   "nbconvert_exporter": "python",
   "pygments_lexer": "ipython3",
   "version": "3.5.2"
  }
 },
 "nbformat": 4,
 "nbformat_minor": 1
}
