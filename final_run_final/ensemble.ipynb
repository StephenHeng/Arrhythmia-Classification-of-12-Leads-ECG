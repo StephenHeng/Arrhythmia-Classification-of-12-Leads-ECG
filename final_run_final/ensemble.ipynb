{
 "cells": [
  {
   "cell_type": "code",
   "execution_count": 1,
   "metadata": {
    "collapsed": true
   },
   "outputs": [],
   "source": [
    "import gc\n",
    "import time\n",
    "import pandas as pd\n",
    "import numpy as np\n",
    "import csv\n",
    "import pywt\n",
    "import os\n",
    "from sklearn.externals import joblib\n",
    "from sklearn.metrics import f1_score,hamming_loss\n",
    "from sklearn.metrics import precision_recall_fscore_support as prf\n",
    "import warnings\n",
    "warnings.filterwarnings(\"ignore\")\n",
    "path = \"/media/jdcloud/\""
   ]
  },
  {
   "cell_type": "code",
   "execution_count": 2,
   "metadata": {
    "collapsed": true
   },
   "outputs": [],
   "source": [
    "def preprocess_y(labels, y, num_class=10):\n",
    "    bin_label = np.zeros((len(y), num_class)).astype('int8')\n",
    "    for i in range(len(y)):\n",
    "        label_nona = labels.loc[y[i]].dropna()\n",
    "        for j in range(1, label_nona.shape[0]):\n",
    "            bin_label[i, int(label_nona[j])] = 1\n",
    "    return bin_label"
   ]
  },
  {
   "cell_type": "code",
   "execution_count": 3,
   "metadata": {
    "collapsed": true
   },
   "outputs": [],
   "source": [
    "quarter_labels= pd.read_csv(\"/media/uuser/data/final_codes/final_run_semi/reference.csv\")\n",
    "quarter_index = np.arange(6500)\n",
    "quarter_y_train = preprocess_y(quarter_labels, quarter_index)"
   ]
  },
  {
   "cell_type": "code",
   "execution_count": 4,
   "metadata": {
    "collapsed": false
   },
   "outputs": [
    {
     "name": "stdout",
     "output_type": "stream",
     "text": [
      " train data f1_score  : 0.84540255401557\n",
      "f1 score of ab 0 is 0.9743514554111609\n",
      "f1 score of ab 1 is 0.9872336246685653\n",
      "f1 score of ab 2 is 0.9645391460549972\n",
      "f1 score of ab 3 is 0.9624704929948973\n",
      "f1 score of ab 4 is 0.9412723380235151\n",
      "f1 score of ab 5 is 0.9754900647439366\n",
      "f1 score of ab 6 is 0.9685702034310506\n",
      "f1 score of ab 7 is 0.9574712167375843\n",
      "f1 score of ab 8 is 0.9550962990422811\n",
      "f1 score of ab 9 is 0.49880484231629274\n",
      " train data hamming_loss  : 0.013076923076923076\n",
      " train data precision recall f1  : (0.9477948717948717, 0.9615846153846154, 0.9496231990231989, None)\n"
     ]
    }
   ],
   "source": [
    "quarter_train = []\n",
    "# quarter_train.append(pd.read_csv(path+\"quarter_final/\"+\"attention_one_net_fold2.csv\").values) \n",
    "# quarter_train.append(pd.read_csv(path+\"quarter_final/\"+\"densenet_f0819_10net_fold.csv\").values) \n",
    "# quarter_train.append(pd.read_csv(path+\"quarter_final/\"+\"densenet_attention_10net_fold2.csv\").values) \n",
    "path = \"./\"\n",
    "# quarter_train.append(pd.read_csv(path+\"quarter_final/\"+\"densenet_4block_10net_fold0.csv\").values)\n",
    "# quarter_train.append(pd.read_csv(path+\"quarter_final/\"+\"densenet_4block_10net_fold1.csv\").values)\n",
    "quarter_train.append(pd.read_csv(path+\"quarter_final/\"+\"densenet_4block_10net_fold2.csv\").values)\n",
    "\n",
    "#quarter_train.append(pd.read_csv(path+\"quarter_final/\"+\"attention_one_net_fold0.csv\").values)\n",
    "#quarter_train.append(pd.read_csv(path+\"quarter_final/\"+\"attention_one_net_fold1.csv\").values)\n",
    "quarter_train.append(pd.read_csv(path+\"quarter_final/\"+\"attention_one_net_fold2.csv\").values)\n",
    "\n",
    "quarter_train.append(pd.read_csv(path+\"quarter_final/\"+\"attention_10net_fold0.csv\").values)\n",
    "quarter_train.append(pd.read_csv(path+\"quarter_final/\"+\"attention_10net_fold1.csv\").values)\n",
    "quarter_train.append(pd.read_csv(path+\"quarter_final/\"+\"attention_10net_fold2.csv\").values)\n",
    "\n",
    "quarter_train.append(pd.read_csv(path+\"quarter_final/\"+\"densenet_f0819_10net_fold.csv\").values)\n",
    "\n",
    "''' '''\n",
    "# quarter_train_y = thr0*quarter_train[0] + thr1*quarter_train[1] + thr2*quarter_train[2] + \\\n",
    "#                 thr3*quarter_train[3] + thr4*quarter_train[4] + thr5*quarter_train[5]\n",
    "\n",
    "# print(\"best_threshold :\", best_threshold)\n",
    "\n",
    "# quarter_y_pred = np.array([[1 if quarter_train_y[i, j] >= best_threshold[j] else 0 \n",
    "#                             for j in range(quarter_train_y.shape[1])]\n",
    "#           for i in range(len(quarter_train_y))])\n",
    "\n",
    "# Restore\n",
    "LR_clf = joblib.load(\"LR_ensemble.pkl\")\n",
    "MLkNN_clf = joblib.load(\"MLkNN10_ensemble.pkl\")\n",
    "MLkNN8_clf = joblib.load(\"MLkNN8_ensemble.pkl\")\n",
    "\n",
    "quarter_x_train = np.hstack(quarter_train)\n",
    "\n",
    "quarter_y_pred_LR = LR_clf.predict(quarter_x_train)\n",
    "quarter_y_pred_MLkNN = MLkNN_clf.predict(quarter_x_train).toarray()\n",
    "quarter_y_pred_MLkNN8 = MLkNN8_clf.predict(quarter_x_train).toarray()\n",
    "\n",
    "quarter_y_pred_MLkNN[:,1] = quarter_y_pred_MLkNN8[:,1]\n",
    "quarter_y_pred_MLkNN[:,2] = quarter_y_pred_MLkNN8[:,2]\n",
    "\n",
    "quarter_y_pred_MLkNN[:,3] = quarter_y_pred_LR[:,3]\n",
    "\n",
    "quarter_y_pred_MLkNN[:,5] = quarter_y_pred_MLkNN8[:,5]\n",
    "quarter_y_pred_MLkNN[:,6] = quarter_y_pred_MLkNN8[:,6]\n",
    "\n",
    "quarter_y_pred_MLkNN[:,7] = quarter_y_pred_LR[:,7]\n",
    "\n",
    "quarter_y_pred_MLkNN[:,9] = quarter_y_pred_MLkNN8[:,9]\n",
    "\n",
    "quarter_y_pred = quarter_y_pred_MLkNN\n",
    "\n",
    "print(\" train data f1_score  :\", f1_score(quarter_y_train, quarter_y_pred, average='macro'))\n",
    "\n",
    "for i in range(10):\n",
    "    print(\"f1 score of ab {} is {}\".format(i, f1_score(quarter_y_train[:, i], quarter_y_pred[:, i], average='macro')))\n",
    "    \n",
    "print(\" train data hamming_loss  :\", hamming_loss(quarter_y_train, quarter_y_pred)) \n",
    "print(\" train data precision recall f1  :\", prf(quarter_y_train, quarter_y_pred,average=\"samples\"))# 'micro', 'weighted'"
   ]
  },
  {
   "cell_type": "code",
   "execution_count": null,
   "metadata": {
    "collapsed": true
   },
   "outputs": [],
   "source": [
    "train data f1_score  : 0.84540255401557\n",
    "f1 score of ab 0 is 0.9743514554111609\n",
    "f1 score of ab 1 is 0.9872336246685653\n",
    "f1 score of ab 2 is 0.9645391460549972\n",
    "f1 score of ab 3 is 0.9624704929948973\n",
    "f1 score of ab 4 is 0.9412723380235151\n",
    "f1 score of ab 5 is 0.9754900647439366\n",
    "f1 score of ab 6 is 0.9685702034310506\n",
    "f1 score of ab 7 is 0.9574712167375843\n",
    "f1 score of ab 8 is 0.9550962990422811\n",
    "f1 score of ab 9 is 0.49880484231629274\n",
    " train data hamming_loss  : 0.013076923076923076\n",
    " train data precision recall f1  : (0.9477948717948717, 0.9615846153846154, 0.9496231990231989, None)"
   ]
  },
  {
   "cell_type": "code",
   "execution_count": 2,
   "metadata": {
    "collapsed": false
   },
   "outputs": [
    {
     "data": {
      "text/plain": [
       "0.8735200000000001"
      ]
     },
     "execution_count": 2,
     "metadata": {},
     "output_type": "execute_result"
    }
   ],
   "source": [
    "(0.8454 * 10 -0.4988 + 0.78)/10"
   ]
  },
  {
   "cell_type": "code",
   "execution_count": 12,
   "metadata": {
    "collapsed": false
   },
   "outputs": [
    {
     "name": "stdout",
     "output_type": "stream",
     "text": [
      " train data f1_score  : 0.9393361711284111\n"
     ]
    }
   ],
   "source": [
    "print(\" train data f1_score  :\", f1_score(quarter_y_train[:,:9], quarter_y_pred[:,:9], average='macro'))"
   ]
  },
  {
   "cell_type": "code",
   "execution_count": 3,
   "metadata": {
    "collapsed": false
   },
   "outputs": [
    {
     "data": {
      "text/plain": [
       "0.9233699999999999"
      ]
     },
     "execution_count": 3,
     "metadata": {},
     "output_type": "execute_result"
    }
   ],
   "source": [
    "(0.9393*9+0.78)/10"
   ]
  },
  {
   "cell_type": "code",
   "execution_count": null,
   "metadata": {
    "collapsed": true
   },
   "outputs": [],
   "source": []
  },
  {
   "cell_type": "code",
   "execution_count": null,
   "metadata": {
    "collapsed": true
   },
   "outputs": [],
   "source": []
  }
 ],
 "metadata": {
  "anaconda-cloud": {},
  "kernelspec": {
   "display_name": "Python [default]",
   "language": "python",
   "name": "python3"
  },
  "language_info": {
   "codemirror_mode": {
    "name": "ipython",
    "version": 3
   },
   "file_extension": ".py",
   "mimetype": "text/x-python",
   "name": "python",
   "nbconvert_exporter": "python",
   "pygments_lexer": "ipython3",
   "version": "3.5.2"
  }
 },
 "nbformat": 4,
 "nbformat_minor": 1
}
